{
 "cells": [
  {
   "cell_type": "markdown",
   "id": "f704bc7e",
   "metadata": {},
   "source": [
    "## Fixed Features\n",
    "This notebook demonstrates computing several technical indicators such as Stochastic Oscillator, Williams %R, MACD, Bollinger Bands (%b and bandwidth), ADX, CCI and On-Balance Volume along with other momentum and volatility features."
   ]
  },
  {
   "cell_type": "code",
   "execution_count": null,
   "id": "27efbdb8",
   "metadata": {},
   "outputs": [],
   "source": [
    "\n",
    "import pandas as pd\n",
    "from src.features.technical_indicators import compute_technical_indicators\n",
    "from src.features.additional_features import compute_additional_features\n",
    "\n",
    "df = pd.read_parquet(\"../../data/06data.parquet\")\n",
    "\n",
    "df = compute_technical_indicators(df)\n",
    "df = compute_additional_features(df)\n",
    "\n",
    "cols = ['stoch_k','williams_r','macd','macd_signal','proc',\n",
    "        'bollinger_b','bollinger_bw','adx','cci','obv']\n",
    "print(df[cols].head())\n"
   ]
  }
],
"metadata": {},
"nbformat": 4,
 "nbformat_minor": 5
}
