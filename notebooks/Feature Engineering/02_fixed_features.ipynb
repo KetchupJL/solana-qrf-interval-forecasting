{
 "cells": [
  {
   "cell_type": "markdown",
   "id": "f704bc7e",
   "metadata": {},
   "source": [
    "## Fixed Features\n",
    "This notebook demonstrates computing several technical indicators including Stochastic Oscillator, Williams %R, MACD, Price Rate of Change, Bollinger Bands, ADX, CCI, OBV and other momentum and volatility measures.\n"
   ]
  },
  {
   "cell_type": "code",
   "execution_count": null,
   "id": "27efbdb8",
   "metadata": {},
   "outputs": [],
   "source": [
    "import pandas as pd\n",
    "from src.features.technical_indicators import compute_technical_indicators\n",
    "from src.features.additional_features import compute_additional_features\n",
    "\n",
    "df = pd.read_parquet('../../data/06data.parquet')\n",
    "df = compute_technical_indicators(df)\n",
    "df = compute_additional_features(df)\n",
    "\n",
    "cols = [\n",
    "    'stoch_k','williams_r','macd','macd_signal','proc',\n",
    "    'bollinger_b','bollinger_bw','adx','cci','obv',\n",
    "    'vol_zscore_14','momentum_3bar','momentum_6bar',\n",
    "    'vol_std_3bar','vol_std_7bar','holder_growth_7d',\n",
    "    'new_addr_growth_7d','tvl_change_7d'\n",
    "]\n",
    "df[cols].head()\n"
   ]
  }
 ],
 "metadata": {},
 "nbformat": 4,
 "nbformat_minor": 5
}
