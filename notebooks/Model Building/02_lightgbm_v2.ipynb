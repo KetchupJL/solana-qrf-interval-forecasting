{
 "cells": [
  {
   "cell_type": "markdown",
   "id": "4c01ad09",
   "metadata": {},
   "source": [
    "## 7 Optimised LightGBM + Conformal Quantile Regression (CQR)\n",
    "\n",
    "### 7 .1 Motivation  \n",
    "Our baseline LightGBM‐CQR (Section 6) already beat the linear QR in pinball loss but:\n",
    "\n",
    "* **Hyper-parameters were default / heuristic.**  \n",
    "* No GPU use (training time ≈ 45 s per fold on CPU).  \n",
    "* Categorical handling relied on one-hots → wider matrices, slower.\n",
    "\n",
    "The goal here is to **auto-tune** the model for each target quantile  \n",
    "τ ∈ {0.05, 0.25, 0.50, 0.75, 0.95} using Optuna, while preserving conformal validity.\n",
    "\n",
    "---\n",
    "\n",
    "### 7 .2 Data pre-processing (unchanged)\n",
    "\n",
    "| Step | Action | Why |\n",
    "|------|--------|-----|\n",
    "| 1 | `feat_cols` = 29 predictors selected in Stage 5 | dimension already pruned |\n",
    "| 2 | Numeric columns unchanged; categorical columns (`token`, `day_of_week`, `momentum_bucket`, `vol_regime`, `trend_regime`) cast to `pd.Categorical` | lets LightGBM apply *optimal split for categories* |\n",
    "| 3 | Forward- then back-fill within each token → no NaNs | LightGBM supports NaNs but conformal scores prefer finite data |\n",
    "\n",
    "---\n",
    "\n",
    "### 7 .3 Search space design   <sub>(from LGB docs + practice)</sub>\n",
    "\n",
    "| Group | Hyper-parameter | Range / Prior | Rationale |\n",
    "|-------|-----------------|---------------|-----------|\n",
    "| **Tree complexity** | `num_leaves` | log-uniform [32, 256] | controls model capacity <br>keep ≤ 2⁸ to avoid leaf sparsity |\n",
    "| | `max_depth` | int [4, 14] | prevents overly deep trees |\n",
    "| | `min_data_in_leaf` | log-uniform [5, 300] | regularises in presence of class imbalance |\n",
    "| **Learning** | `learning_rate` | log-uniform [0.005, 0.1] | lower lr ↔ more trees ↔ better generalisation |\n",
    "| **Bagging / feature frac** | `feature_fraction` | uniform [0.4, 1.0] | column subsampling |\n",
    "| | `bagging_fraction` | uniform [0.4, 1.0] | row subsampling |\n",
    "| | `bagging_freq` | int [0, 15] | how often to re-sample |\n",
    "| **ℓ¹ / ℓ² penalties** | `lambda_l1`, `lambda_l2` | log-uniform (1e-4, 5] | combats over-fitting |\n",
    "| **Node split score** | `min_gain_to_split` | uniform [0, 0.4] | extra regularisation |\n",
    "\n",
    "*Search strategy*: **TPE sampler** (Optuna) + **Hyperband pruner**  \n",
    "→ quickly drops poor configs after ~200 trees, explores promising ones up to 8000.\n",
    "\n",
    "---\n",
    "\n",
    "### 7 .4 Conformal wrapper (same as baseline)\n",
    "\n",
    "1. Split **train / calibration / test** inside each trial (70 / 15 / 15 %).  \n",
    "2. Fit LightGBM on *train*.  \n",
    "3. Compute residuals on *calibration* set.  \n",
    "4. For τ < 0.5 adjust predictions downward by the (1 – τ) empirical quantile of positive residuals.  \n",
    "   For τ > 0.5 adjust upward (negative residuals).  \n",
    "5. Evaluate **pinball loss** on held-out *validation* fold.  \n",
    "   → returned to Optuna.\n",
    "\n",
    "This yields **finite-sample, distribution-free coverage** (Lei et al., 2018).\n",
    "\n",
    "---\n",
    "\n",
    "### 7 .5 Hardware notes  \n",
    "\n",
    "* **CPU build** (OpenMP) is retained – GPU not compulsory.  \n",
    "  `device_type` switches automatically if a GPU-capable wheel is later installed.  \n",
    "* `n_jobs = -1` uses all 24 logical threads (32 GB RAM easily handles 8 k-tree boosters).  \n",
    "* `study.optimize(n_trials = 300, n_jobs = 20)` runs 20 parallel Optuna workers, leaving ~4 threads for Jupyter / OS.\n",
    "\n",
    "---\n",
    "\n",
    "### 7 .6 Stopping & logging  \n",
    "\n",
    "* **Early stopping**: after 400 rounds without improvement on *validation*.  \n",
    "  (Early stopping uses LightGBM’s internal 5 % quantile metric.)  \n",
    "* **Pruner**: Hyperband halts unpromising trials early → ~60 % time-saving.  \n",
    "* **Persistence**: best params per τ are stored in `best_lgb_cqr_params.json` for reproducible Stage 8 re-fits.\n",
    "\n",
    "---\n",
    "\n",
    "### References  \n",
    "\n",
    "* Ke et al. (2017) *LightGBM: A Highly Efficient Gradient Boosting Decision Tree.*  \n",
    "* Lei, Romano & Barbieri (2018) *Conformal Prediction Under Covariate Shift.*  \n",
    "* Optuna docs: <https://optuna.org/>  \n",
    "* LightGBM tuning guide: <https://lightgbm.readthedocs.io/en/latest/Parameters-Tuning.html>\n",
    "\n"
   ]
  },
  {
   "cell_type": "code",
   "execution_count": 26,
   "id": "fedf4b95",
   "metadata": {},
   "outputs": [
    {
     "name": "stdout",
     "output_type": "stream",
     "text": [
      "LightGBM: 3.3.5 | Optuna: 3.6.0\n",
      "LightGBM GPU support: False\n"
     ]
    }
   ],
   "source": [
    "# ============================================================\n",
    "# 0.  Imports & environment check\n",
    "# ============================================================\n",
    "import os, gc, json, joblib, warnings, datetime as dt\n",
    "import numpy as np\n",
    "import pandas as pd\n",
    "\n",
    "import lightgbm as lgb\n",
    "from sklearn.compose import ColumnTransformer\n",
    "from sklearn.preprocessing import StandardScaler, OneHotEncoder\n",
    "from sklearn.metrics import make_scorer\n",
    "from sklearn.model_selection import train_test_split\n",
    "\n",
    "import optuna\n",
    "from optuna.samplers import TPESampler\n",
    "from optuna.pruners  import HyperbandPruner\n",
    "from optuna_integration import LightGBMTuner  # backup (CPU only)\n",
    "\n",
    "warnings.filterwarnings(\"ignore\", category=UserWarning)\n",
    "\n",
    "print(\"LightGBM:\", lgb.__version__, \"| Optuna:\", optuna.__version__)\n",
    "\n",
    "# -------- Robust GPU probe (works on any build) --------\n",
    "def lightgbm_has_gpu() -> bool:\n",
    "    \"\"\"Return True if the loaded LightGBM DLL was compiled with CUDA / OpenCL.\"\"\"\n",
    "    try:\n",
    "        # available since v3.3.0; returns 'CPU' on cpu-only builds\n",
    "        return lgb.get_device_name(0) != \"CPU\"\n",
    "    except AttributeError:         # very old 3.2.x or earlier\n",
    "        return False\n",
    "\n",
    "gpu_available = lightgbm_has_gpu()\n",
    "print(\"LightGBM GPU support:\", gpu_available)"
   ]
  },
  {
   "cell_type": "code",
   "execution_count": 27,
   "id": "da4e41cd",
   "metadata": {},
   "outputs": [
    {
     "name": "stdout",
     "output_type": "stream",
     "text": [
      "Matrix  → 5,703 rows × 34 cols\n"
     ]
    }
   ],
   "source": [
    "# ============================================================\n",
    "# 1.  Load data + minimal preprocessing\n",
    "#    (uses your features_v1_tail.csv)\n",
    "# ============================================================\n",
    "\n",
    "TARGET   = \"return_72h\"\n",
    "\n",
    "cat_cols = [\"day_of_week\",\"momentum_bucket\", \"extreme_flag1\", \"tail_asym\",\"vol_regime\", \"token\"]\n",
    "num_cols = [c for c in df.columns\n",
    "            if c not in cat_cols + [\"timestamp\", TARGET]]\n",
    "\n",
    "FEATURES = cat_cols + num_cols     # preserve order\n",
    "\n",
    "# LightGBM prefers pandas with category dtype for cat feats\n",
    "X_df = df[FEATURES].copy()\n",
    "for c in cat_cols:\n",
    "    X_df[c] = X_df[c].astype(\"category\")\n",
    "\n",
    "y = df[TARGET].values\n",
    "X = X_df                     # ★ keep as DataFrame, NOT .values\n",
    "cat_idx = [X.columns.get_loc(c) for c in cat_cols]   # optional\n",
    "print(f\"Matrix  → {X.shape[0]:,} rows × {X.shape[1]} cols\")\n",
    "\n"
   ]
  },
  {
   "cell_type": "code",
   "execution_count": 28,
   "id": "b7c089d4",
   "metadata": {},
   "outputs": [],
   "source": [
    "# 3.  Optuna search space \n",
    "# ============================================================\n",
    "\n",
    "def suggest_params(trial, tau: float) -> dict:\n",
    "    return {\n",
    "        # ----- core CQR settings -----\n",
    "        \"objective\" : \"quantile\",\n",
    "        \"metric\"    : \"quantile\",\n",
    "        \"alpha\"     : tau,\n",
    "        \"device_type\": \"gpu\" if gpu_available else \"cpu\",\n",
    "\n",
    "        # ----- tree complexity -----\n",
    "        \"learning_rate\" : trial.suggest_float(\"lr\",      0.005, 0.1,  log=True),\n",
    "        \"num_leaves\"    : trial.suggest_int(  \"leaves\",      32, 256, log=True),\n",
    "        \"max_depth\"     : trial.suggest_int(  \"depth\",        4, 14),\n",
    "        \"min_data_in_leaf\":\n",
    "                          trial.suggest_int(  \"min_leaf\",     5, 300, log=True),\n",
    "\n",
    "        # ----- randomness & regularisation -----\n",
    "        \"feature_fraction\": trial.suggest_float(\"feat_frac\", 0.4, 1.0),\n",
    "        \"bagging_fraction\": trial.suggest_float(\"bag_frac\",  0.4, 1.0),\n",
    "        \"bagging_freq\"    : trial.suggest_int(  \"bag_freq\",      0, 15),\n",
    "\n",
    "        # **FIX**: low bound must be > 0 when log=True  → use 1e-8\n",
    "        \"lambda_l1\" : trial.suggest_float(\"l1\", 1e-8, 5.0, log=True),\n",
    "        \"lambda_l2\" : trial.suggest_float(\"l2\", 1e-8, 5.0, log=True),\n",
    "\n",
    "        \"min_gain_to_split\":\n",
    "                          trial.suggest_float(\"gamma\",     0.0, 0.4),\n",
    "\n",
    "        # ----- training length -----\n",
    "        \"num_iterations\"        : 8000,\n",
    "        \"early_stopping_round\"  : 400,      # (LightGBM’s param without the “s”)\n",
    "        \"verbosity\"             : -1,\n",
    "        \"seed\"                  : 42,\n",
    "        \"n_jobs\"                : -1,       # all 24 logical threads\n",
    "    }"
   ]
  },
  {
   "cell_type": "code",
   "execution_count": 29,
   "id": "700dc24f",
   "metadata": {},
   "outputs": [],
   "source": [
    "# ------------------------------------------------------------\n",
    "#  3.  Objective function uses the *existing* X, y, cat_idx\n",
    "# ------------------------------------------------------------\n",
    "from sklearn.model_selection import train_test_split\n",
    "from sklearn.metrics import mean_pinball_loss      # scikit-learn ≥1.1\n",
    "import lightgbm as lgb\n",
    "\n",
    "def pinball(y_true, y_pred, tau):\n",
    "    \"\"\"Lightweight pinball without sklearn if preferred.\"\"\"\n",
    "    diff = y_true - y_pred\n",
    "    return np.maximum(tau*diff, (tau-1)*diff).mean()\n",
    "\n",
    "def objective(trial, tau):\n",
    "    params = suggest_params(trial, tau)\n",
    "\n",
    "    X_tr, X_val, y_tr, y_val = train_test_split(\n",
    "        X, y, test_size=0.15, random_state=trial.number)\n",
    "\n",
    "    # ★ pass DataFrames directly\n",
    "    lgb_train = lgb.Dataset(X_tr, label=y_tr)\n",
    "    lgb_val   = lgb.Dataset(X_val, label=y_val, reference=lgb_train)\n",
    "\n",
    "    booster = lgb.train(params,\n",
    "                        train_set=lgb_train,\n",
    "                        valid_sets=[lgb_val],\n",
    "                        verbose_eval=False)\n",
    "\n",
    "    y_hat = booster.predict(X_val, num_iteration=booster.best_iteration)\n",
    "    loss  = pinball(y_val, y_hat, tau)\n",
    "    trial.set_user_attr(\"best_iter\", booster.best_iteration)\n",
    "    return loss\n",
    "\n"
   ]
  },
  {
   "cell_type": "code",
   "execution_count": null,
   "id": "ad2618ae",
   "metadata": {},
   "outputs": [
    {
     "name": "stderr",
     "output_type": "stream",
     "text": [
      "c:\\Users\\james\\OneDrive\\Documents\\GitHub\\solana-qrf-interval-forecasting\\.venv\\Lib\\site-packages\\optuna\\samplers\\_tpe\\sampler.py:319: ExperimentalWarning: ``multivariate`` option is an experimental feature. The interface can change in the future.\n",
      "  warnings.warn(\n",
      "[I 2025-06-27 15:37:44,758] Using an existing study with name 'lgb_cqr_tau0.05' instead of creating a new one.\n"
     ]
    },
    {
     "name": "stdout",
     "output_type": "stream",
     "text": [
      "\n",
      "=== Optimising τ = 0.05 ===\n"
     ]
    },
    {
     "name": "stderr",
     "output_type": "stream",
     "text": [
      "Best trial: 64. Best value: 0.00791401:   0%|          | 1/300 [00:06<30:47,  6.18s/it, 6.17/10800 seconds]"
     ]
    },
    {
     "name": "stdout",
     "output_type": "stream",
     "text": [
      "[I 2025-06-27 15:37:50,927] Trial 64 finished with value: 0.007914005160411412 and parameters: {'lr': 0.050495617589756556, 'leaves': 98, 'depth': 6, 'min_leaf': 82, 'feat_frac': 0.6223357648292999, 'bag_frac': 0.7055444971536873, 'bag_freq': 2, 'l1': 0.00014674455932836737, 'l2': 8.337377325136031e-08, 'gamma': 0.32171810355752933}. Best is trial 64 with value: 0.007914005160411412.\n"
     ]
    },
    {
     "name": "stderr",
     "output_type": "stream",
     "text": [
      "Best trial: 61. Best value: 0.00686776:   1%|          | 3/300 [00:07<08:35,  1.74s/it, 7.13/10800 seconds]"
     ]
    },
    {
     "name": "stdout",
     "output_type": "stream",
     "text": [
      "[I 2025-06-27 15:37:51,802] Trial 61 finished with value: 0.006867760394862251 and parameters: {'lr': 0.05532270285179676, 'leaves': 46, 'depth': 10, 'min_leaf': 153, 'feat_frac': 0.9710061592159712, 'bag_frac': 0.5181788823348938, 'bag_freq': 11, 'l1': 1.8907400978542484e-06, 'l2': 2.2071593448986573e-07, 'gamma': 0.3251593167025592}. Best is trial 61 with value: 0.006867760394862251.\n",
      "[I 2025-06-27 15:37:51,886] Trial 60 finished with value: 0.007906664970608258 and parameters: {'lr': 0.05587159803068209, 'leaves': 36, 'depth': 11, 'min_leaf': 13, 'feat_frac': 0.5696091991348133, 'bag_frac': 0.6479431983700548, 'bag_freq': 12, 'l1': 8.492032772793938e-07, 'l2': 0.0009484501590937633, 'gamma': 0.3423286527044975}. Best is trial 61 with value: 0.006867760394862251.\n"
     ]
    },
    {
     "name": "stderr",
     "output_type": "stream",
     "text": [
      "Best trial: 61. Best value: 0.00686776:   1%|▏         | 4/300 [00:07<06:31,  1.32s/it, 7.90/10800 seconds]"
     ]
    },
    {
     "name": "stdout",
     "output_type": "stream",
     "text": [
      "[I 2025-06-27 15:37:52,653] Trial 74 finished with value: 0.007594651505702867 and parameters: {'lr': 0.049582034209743844, 'leaves': 58, 'depth': 11, 'min_leaf': 31, 'feat_frac': 0.8035895059072864, 'bag_frac': 0.45167762314483706, 'bag_freq': 0, 'l1': 2.776741329785824, 'l2': 1.21051560996855e-07, 'gamma': 0.2709366219798845}. Best is trial 61 with value: 0.006867760394862251.\n"
     ]
    },
    {
     "name": "stderr",
     "output_type": "stream",
     "text": [
      "Best trial: 61. Best value: 0.00686776:   2%|▏         | 5/300 [00:08<04:37,  1.06it/s, 8.10/10800 seconds]"
     ]
    },
    {
     "name": "stdout",
     "output_type": "stream",
     "text": [
      "[I 2025-06-27 15:37:52,856] Trial 73 finished with value: 0.007643031970503958 and parameters: {'lr': 0.05709414225607834, 'leaves': 100, 'depth': 5, 'min_leaf': 177, 'feat_frac': 0.6363915417822479, 'bag_frac': 0.8315958393806087, 'bag_freq': 5, 'l1': 0.23689343604946073, 'l2': 0.0011218044238746237, 'gamma': 0.2637256287130146}. Best is trial 61 with value: 0.006867760394862251.\n"
     ]
    },
    {
     "name": "stderr",
     "output_type": "stream",
     "text": [
      "Best trial: 61. Best value: 0.00686776:   2%|▏         | 6/300 [00:09<05:01,  1.03s/it, 9.35/10800 seconds]"
     ]
    },
    {
     "name": "stdout",
     "output_type": "stream",
     "text": [
      "[I 2025-06-27 15:37:54,107] Trial 72 finished with value: 0.007890088293274991 and parameters: {'lr': 0.02360228694518304, 'leaves': 191, 'depth': 10, 'min_leaf': 38, 'feat_frac': 0.5038959436873914, 'bag_frac': 0.8260736093334891, 'bag_freq': 12, 'l1': 2.7434728402722708e-08, 'l2': 0.04955683745277878, 'gamma': 0.3797838945592324}. Best is trial 61 with value: 0.006867760394862251.\n"
     ]
    },
    {
     "name": "stderr",
     "output_type": "stream",
     "text": [
      "Best trial: 61. Best value: 0.00686776:   2%|▏         | 7/300 [00:09<03:51,  1.27it/s, 9.57/10800 seconds]"
     ]
    },
    {
     "name": "stdout",
     "output_type": "stream",
     "text": [
      "[I 2025-06-27 15:37:54,323] Trial 67 finished with value: 0.007778418732156098 and parameters: {'lr': 0.006401220458647395, 'leaves': 200, 'depth': 9, 'min_leaf': 48, 'feat_frac': 0.8396058936798058, 'bag_frac': 0.8019317367075964, 'bag_freq': 4, 'l1': 0.01725471225894739, 'l2': 2.4425461433800715, 'gamma': 0.37161762040602275}. Best is trial 61 with value: 0.006867760394862251.\n"
     ]
    },
    {
     "name": "stderr",
     "output_type": "stream",
     "text": [
      "Best trial: 65. Best value: 0.00672248:   3%|▎         | 8/300 [00:09<03:08,  1.55it/s, 9.99/10800 seconds]"
     ]
    },
    {
     "name": "stdout",
     "output_type": "stream",
     "text": [
      "[I 2025-06-27 15:37:54,749] Trial 65 finished with value: 0.0067224833840362755 and parameters: {'lr': 0.01861742030044574, 'leaves': 43, 'depth': 12, 'min_leaf': 58, 'feat_frac': 0.5736950173764794, 'bag_frac': 0.5877047834214095, 'bag_freq': 7, 'l1': 7.01857685513187e-05, 'l2': 0.05093250154702032, 'gamma': 0.3743229440858178}. Best is trial 65 with value: 0.0067224833840362755.\n"
     ]
    },
    {
     "name": "stderr",
     "output_type": "stream",
     "text": [
      "Best trial: 65. Best value: 0.00672248:   3%|▎         | 9/300 [00:11<03:57,  1.22it/s, 11.18/10800 seconds]"
     ]
    },
    {
     "name": "stdout",
     "output_type": "stream",
     "text": [
      "[I 2025-06-27 15:37:55,942] Trial 77 finished with value: 0.0069489909108670705 and parameters: {'lr': 0.029967460841688203, 'leaves': 44, 'depth': 8, 'min_leaf': 156, 'feat_frac': 0.8730345820347618, 'bag_frac': 0.5081607633413551, 'bag_freq': 12, 'l1': 0.6937581880424046, 'l2': 1.961540717738159, 'gamma': 0.14732026074028637}. Best is trial 65 with value: 0.0067224833840362755.\n"
     ]
    },
    {
     "name": "stderr",
     "output_type": "stream",
     "text": [
      "Best trial: 65. Best value: 0.00672248:   3%|▎         | 10/300 [00:14<07:08,  1.48s/it, 14.14/10800 seconds]"
     ]
    },
    {
     "name": "stdout",
     "output_type": "stream",
     "text": [
      "[I 2025-06-27 15:37:58,895] Trial 78 finished with value: 0.007694705089495843 and parameters: {'lr': 0.0244967429296617, 'leaves': 104, 'depth': 4, 'min_leaf': 20, 'feat_frac': 0.5725147942844739, 'bag_frac': 0.8179039479288834, 'bag_freq': 12, 'l1': 3.793053719600329e-07, 'l2': 9.84506695473594e-06, 'gamma': 0.21781735784218972}. Best is trial 65 with value: 0.0067224833840362755.\n"
     ]
    },
    {
     "name": "stderr",
     "output_type": "stream",
     "text": [
      "Best trial: 65. Best value: 0.00672248:   4%|▎         | 11/300 [00:14<05:22,  1.11s/it, 14.43/10800 seconds]"
     ]
    },
    {
     "name": "stdout",
     "output_type": "stream",
     "text": [
      "[I 2025-06-27 15:37:59,190] Trial 84 finished with value: 0.007925001895845862 and parameters: {'lr': 0.01722428585004388, 'leaves': 244, 'depth': 7, 'min_leaf': 293, 'feat_frac': 0.515544305838548, 'bag_frac': 0.43719547194048397, 'bag_freq': 5, 'l1': 3.267062349107466e-06, 'l2': 4.1779533547116205, 'gamma': 0.3407787060544121}. Best is trial 65 with value: 0.0067224833840362755.\n"
     ]
    },
    {
     "name": "stderr",
     "output_type": "stream",
     "text": [
      "Best trial: 65. Best value: 0.00672248:   4%|▍         | 13/300 [00:14<02:59,  1.60it/s, 14.77/10800 seconds]"
     ]
    },
    {
     "name": "stdout",
     "output_type": "stream",
     "text": [
      "[I 2025-06-27 15:37:59,369] Trial 66 finished with value: 0.00850044848722426 and parameters: {'lr': 0.029803686528519183, 'leaves': 110, 'depth': 4, 'min_leaf': 12, 'feat_frac': 0.5559032485730597, 'bag_frac': 0.8722796117451721, 'bag_freq': 15, 'l1': 3.647920939311466, 'l2': 2.9922453679186795e-08, 'gamma': 0.08189822971693471}. Best is trial 65 with value: 0.0067224833840362755.\n",
      "[I 2025-06-27 15:37:59,527] Trial 83 finished with value: 0.007604207947053332 and parameters: {'lr': 0.019810222892224415, 'leaves': 78, 'depth': 12, 'min_leaf': 124, 'feat_frac': 0.5588711762019046, 'bag_frac': 0.9223638724740256, 'bag_freq': 5, 'l1': 2.218144574792101e-08, 'l2': 0.001780853598629022, 'gamma': 0.28133833486706594}. Best is trial 65 with value: 0.0067224833840362755.\n"
     ]
    },
    {
     "name": "stderr",
     "output_type": "stream",
     "text": [
      "Best trial: 65. Best value: 0.00672248:   5%|▍         | 14/300 [00:15<03:03,  1.56it/s, 15.44/10800 seconds]"
     ]
    },
    {
     "name": "stdout",
     "output_type": "stream",
     "text": [
      "[I 2025-06-27 15:38:00,199] Trial 82 finished with value: 0.008038597976843568 and parameters: {'lr': 0.01000485907420423, 'leaves': 42, 'depth': 6, 'min_leaf': 55, 'feat_frac': 0.67720059408797, 'bag_frac': 0.8813916304958025, 'bag_freq': 7, 'l1': 4.21385299108772e-05, 'l2': 9.54518052697311e-05, 'gamma': 0.31034341652181247}. Best is trial 65 with value: 0.0067224833840362755.\n"
     ]
    },
    {
     "name": "stderr",
     "output_type": "stream",
     "text": [
      "Best trial: 65. Best value: 0.00672248:   5%|▌         | 15/300 [00:15<02:27,  1.93it/s, 15.68/10800 seconds]"
     ]
    },
    {
     "name": "stdout",
     "output_type": "stream",
     "text": [
      "[I 2025-06-27 15:38:00,436] Trial 80 finished with value: 0.0080435695274394 and parameters: {'lr': 0.01360700860952127, 'leaves': 60, 'depth': 10, 'min_leaf': 7, 'feat_frac': 0.9394334557974499, 'bag_frac': 0.840798336150133, 'bag_freq': 13, 'l1': 2.4393435365039105e-06, 'l2': 7.15780332494194e-06, 'gamma': 0.35077980437849826}. Best is trial 65 with value: 0.0067224833840362755.\n"
     ]
    },
    {
     "name": "stderr",
     "output_type": "stream",
     "text": [
      "Best trial: 65. Best value: 0.00672248:   5%|▌         | 16/300 [00:15<01:59,  2.37it/s, 15.87/10800 seconds]"
     ]
    },
    {
     "name": "stdout",
     "output_type": "stream",
     "text": [
      "[I 2025-06-27 15:38:00,632] Trial 69 finished with value: 0.008193547735582857 and parameters: {'lr': 0.017179092997471876, 'leaves': 88, 'depth': 13, 'min_leaf': 6, 'feat_frac': 0.5678616146708166, 'bag_frac': 0.6772998845118802, 'bag_freq': 13, 'l1': 0.08975924697240492, 'l2': 1.4233297709973652e-07, 'gamma': 0.2250765628312108}. Best is trial 65 with value: 0.0067224833840362755.\n"
     ]
    },
    {
     "name": "stderr",
     "output_type": "stream",
     "text": [
      "Best trial: 65. Best value: 0.00672248:   6%|▌         | 17/300 [00:16<02:54,  1.62it/s, 16.94/10800 seconds]"
     ]
    },
    {
     "name": "stdout",
     "output_type": "stream",
     "text": [
      "[I 2025-06-27 15:38:01,702] Trial 90 finished with value: 0.008522650118366431 and parameters: {'lr': 0.05359294203523586, 'leaves': 52, 'depth': 7, 'min_leaf': 229, 'feat_frac': 0.8826258192585889, 'bag_frac': 0.453829910493937, 'bag_freq': 12, 'l1': 8.214310718635378e-06, 'l2': 2.2723473410946278e-07, 'gamma': 0.3077750263976793}. Best is trial 65 with value: 0.0067224833840362755.\n"
     ]
    },
    {
     "name": "stderr",
     "output_type": "stream",
     "text": [
      "Best trial: 65. Best value: 0.00672248:   6%|▌         | 18/300 [00:17<02:18,  2.03it/s, 17.14/10800 seconds]"
     ]
    },
    {
     "name": "stdout",
     "output_type": "stream",
     "text": [
      "[I 2025-06-27 15:38:01,901] Trial 92 finished with value: 0.007684427956327146 and parameters: {'lr': 0.04804220612601048, 'leaves': 32, 'depth': 8, 'min_leaf': 55, 'feat_frac': 0.941975057314437, 'bag_frac': 0.6386341171476292, 'bag_freq': 12, 'l1': 1.0954691729599042e-07, 'l2': 5.630153159156373e-08, 'gamma': 0.36765686263636016}. Best is trial 65 with value: 0.0067224833840362755.\n"
     ]
    },
    {
     "name": "stderr",
     "output_type": "stream",
     "text": [
      "Best trial: 65. Best value: 0.00672248:   6%|▋         | 19/300 [00:17<01:59,  2.36it/s, 17.41/10800 seconds]"
     ]
    },
    {
     "name": "stdout",
     "output_type": "stream",
     "text": [
      "[I 2025-06-27 15:38:02,169] Trial 95 finished with value: 0.007697403488777468 and parameters: {'lr': 0.08409641173401261, 'leaves': 49, 'depth': 9, 'min_leaf': 120, 'feat_frac': 0.9982326629619759, 'bag_frac': 0.526958288397989, 'bag_freq': 10, 'l1': 1.0479575843865288e-07, 'l2': 4.991906640134055e-06, 'gamma': 0.28281384807081966}. Best is trial 65 with value: 0.0067224833840362755.\n"
     ]
    },
    {
     "name": "stderr",
     "output_type": "stream",
     "text": [
      "Best trial: 65. Best value: 0.00672248:   7%|▋         | 21/300 [00:17<01:22,  3.37it/s, 17.77/10800 seconds]"
     ]
    },
    {
     "name": "stdout",
     "output_type": "stream",
     "text": [
      "[I 2025-06-27 15:38:02,377] Trial 89 finished with value: 0.007020112331423381 and parameters: {'lr': 0.02499133473080438, 'leaves': 67, 'depth': 14, 'min_leaf': 34, 'feat_frac': 0.7469590986100314, 'bag_frac': 0.504364232910899, 'bag_freq': 7, 'l1': 4.2672783474413595e-05, 'l2': 0.33171998270414094, 'gamma': 0.3122720426169485}. Best is trial 65 with value: 0.0067224833840362755.\n",
      "[I 2025-06-27 15:38:02,533] Trial 91 finished with value: 0.008683789582706445 and parameters: {'lr': 0.030146752229989485, 'leaves': 50, 'depth': 11, 'min_leaf': 182, 'feat_frac': 0.5585331867657812, 'bag_frac': 0.5162239146619869, 'bag_freq': 9, 'l1': 6.309187834062964e-05, 'l2': 2.0907256946572392, 'gamma': 0.36715424525163565}. Best is trial 65 with value: 0.0067224833840362755.\n"
     ]
    },
    {
     "name": "stderr",
     "output_type": "stream",
     "text": [
      "Best trial: 65. Best value: 0.00672248:   7%|▋         | 22/300 [00:17<01:11,  3.90it/s, 17.93/10800 seconds]"
     ]
    },
    {
     "name": "stdout",
     "output_type": "stream",
     "text": [
      "[I 2025-06-27 15:38:02,692] Trial 93 finished with value: 0.007164729270555429 and parameters: {'lr': 0.04863847498526263, 'leaves': 60, 'depth': 7, 'min_leaf': 87, 'feat_frac': 0.8363833633990574, 'bag_frac': 0.5030365438459019, 'bag_freq': 13, 'l1': 4.729541746425427e-08, 'l2': 4.838715072387694e-06, 'gamma': 0.2669430012992793}. Best is trial 65 with value: 0.0067224833840362755.\n"
     ]
    },
    {
     "name": "stderr",
     "output_type": "stream",
     "text": [
      "Best trial: 65. Best value: 0.00672248:   8%|▊         | 23/300 [00:18<01:51,  2.49it/s, 18.67/10800 seconds]"
     ]
    },
    {
     "name": "stdout",
     "output_type": "stream",
     "text": [
      "[I 2025-06-27 15:38:03,432] Trial 96 finished with value: 0.007295239364070191 and parameters: {'lr': 0.09222079616314788, 'leaves': 32, 'depth': 11, 'min_leaf': 164, 'feat_frac': 0.9471516564941775, 'bag_frac': 0.7194690679159348, 'bag_freq': 6, 'l1': 7.829453480728279e-06, 'l2': 4.565648253576724e-06, 'gamma': 0.3700758448221324}. Best is trial 65 with value: 0.0067224833840362755.\n"
     ]
    },
    {
     "name": "stderr",
     "output_type": "stream",
     "text": [
      "Best trial: 65. Best value: 0.00672248:   8%|▊         | 24/300 [00:20<03:16,  1.41it/s, 20.11/10800 seconds]"
     ]
    },
    {
     "name": "stdout",
     "output_type": "stream",
     "text": [
      "[I 2025-06-27 15:38:04,864] Trial 75 finished with value: 0.007777866435967423 and parameters: {'lr': 0.03496182205954081, 'leaves': 200, 'depth': 4, 'min_leaf': 10, 'feat_frac': 0.6526245630478609, 'bag_frac': 0.8662129180408431, 'bag_freq': 15, 'l1': 1.0855152303821539e-08, 'l2': 0.0007885123868841094, 'gamma': 0.10540771200123596}. Best is trial 65 with value: 0.0067224833840362755.\n"
     ]
    },
    {
     "name": "stderr",
     "output_type": "stream",
     "text": [
      "Best trial: 65. Best value: 0.00672248:   8%|▊         | 25/300 [00:20<03:21,  1.37it/s, 20.88/10800 seconds]"
     ]
    },
    {
     "name": "stdout",
     "output_type": "stream",
     "text": [
      "[I 2025-06-27 15:38:05,642] Trial 76 finished with value: 0.00751879867385454 and parameters: {'lr': 0.0053518525471459725, 'leaves': 220, 'depth': 6, 'min_leaf': 5, 'feat_frac': 0.806396993054873, 'bag_frac': 0.6265178669416144, 'bag_freq': 0, 'l1': 5.9330517158676116e-05, 'l2': 6.982777422777477e-08, 'gamma': 0.3544560216445809}. Best is trial 65 with value: 0.0067224833840362755.\n"
     ]
    },
    {
     "name": "stderr",
     "output_type": "stream",
     "text": [
      "Best trial: 65. Best value: 0.00672248:   9%|▊         | 26/300 [00:21<02:37,  1.74it/s, 21.10/10800 seconds]"
     ]
    },
    {
     "name": "stdout",
     "output_type": "stream",
     "text": [
      "[I 2025-06-27 15:38:05,853] Trial 68 finished with value: 0.007898037588803534 and parameters: {'lr': 0.01686180180442162, 'leaves': 76, 'depth': 12, 'min_leaf': 9, 'feat_frac': 0.9662747012232925, 'bag_frac': 0.4781120465141326, 'bag_freq': 7, 'l1': 0.0009397461413277199, 'l2': 4.0269010781928014e-05, 'gamma': 0.2389143766144337}. Best is trial 65 with value: 0.0067224833840362755.\n"
     ]
    },
    {
     "name": "stderr",
     "output_type": "stream",
     "text": [
      "Best trial: 65. Best value: 0.00672248:   9%|▉         | 27/300 [00:22<03:26,  1.32it/s, 22.28/10800 seconds]"
     ]
    },
    {
     "name": "stdout",
     "output_type": "stream",
     "text": [
      "[I 2025-06-27 15:38:07,040] Trial 99 finished with value: 0.007909022093218395 and parameters: {'lr': 0.019863140383260813, 'leaves': 41, 'depth': 9, 'min_leaf': 52, 'feat_frac': 0.592734859769514, 'bag_frac': 0.5095838652339418, 'bag_freq': 3, 'l1': 0.003275024166977793, 'l2': 0.0010679363927756254, 'gamma': 0.3944886991392644}. Best is trial 65 with value: 0.0067224833840362755.\n"
     ]
    },
    {
     "name": "stderr",
     "output_type": "stream",
     "text": [
      "Best trial: 65. Best value: 0.00672248:   9%|▉         | 28/300 [00:22<03:20,  1.36it/s, 22.97/10800 seconds]"
     ]
    },
    {
     "name": "stdout",
     "output_type": "stream",
     "text": [
      "[I 2025-06-27 15:38:07,730] Trial 97 finished with value: 0.007438896311482608 and parameters: {'lr': 0.022150459547652598, 'leaves': 39, 'depth': 10, 'min_leaf': 90, 'feat_frac': 0.5249416507616161, 'bag_frac': 0.46728349396314917, 'bag_freq': 3, 'l1': 0.00010955068310959234, 'l2': 0.0004876852848269749, 'gamma': 0.3441413327671428}. Best is trial 65 with value: 0.0067224833840362755.\n"
     ]
    },
    {
     "name": "stderr",
     "output_type": "stream",
     "text": [
      "Best trial: 65. Best value: 0.00672248:  10%|▉         | 29/300 [00:23<03:39,  1.23it/s, 23.95/10800 seconds]"
     ]
    },
    {
     "name": "stdout",
     "output_type": "stream",
     "text": [
      "[I 2025-06-27 15:38:08,708] Trial 70 finished with value: 0.00809955029948785 and parameters: {'lr': 0.041594368831545686, 'leaves': 35, 'depth': 8, 'min_leaf': 135, 'feat_frac': 0.6931390273039055, 'bag_frac': 0.9408624053719593, 'bag_freq': 5, 'l1': 2.5026256199079594e-06, 'l2': 0.27188053775467697, 'gamma': 0.11406914895268364}. Best is trial 65 with value: 0.0067224833840362755.\n"
     ]
    },
    {
     "name": "stderr",
     "output_type": "stream",
     "text": [
      "Best trial: 65. Best value: 0.00672248:  10%|█         | 30/300 [00:24<03:12,  1.41it/s, 24.43/10800 seconds]"
     ]
    },
    {
     "name": "stdout",
     "output_type": "stream",
     "text": [
      "[I 2025-06-27 15:38:09,191] Trial 98 finished with value: 0.007737778326748806 and parameters: {'lr': 0.008526529792908579, 'leaves': 38, 'depth': 14, 'min_leaf': 95, 'feat_frac': 0.5782251316101181, 'bag_frac': 0.49403735517997627, 'bag_freq': 6, 'l1': 9.267488997323468e-06, 'l2': 0.00867456512635811, 'gamma': 0.38441017847874065}. Best is trial 65 with value: 0.0067224833840362755.\n"
     ]
    },
    {
     "name": "stderr",
     "output_type": "stream",
     "text": [
      "Best trial: 65. Best value: 0.00672248:  10%|█         | 31/300 [00:24<02:45,  1.62it/s, 24.83/10800 seconds]"
     ]
    },
    {
     "name": "stdout",
     "output_type": "stream",
     "text": [
      "[I 2025-06-27 15:38:09,587] Trial 94 finished with value: 0.008215671915433705 and parameters: {'lr': 0.02043833923291811, 'leaves': 40, 'depth': 13, 'min_leaf': 48, 'feat_frac': 0.6221499699514569, 'bag_frac': 0.46283458851648696, 'bag_freq': 5, 'l1': 7.522951844868153e-07, 'l2': 0.006399112415455718, 'gamma': 0.227351398208016}. Best is trial 65 with value: 0.0067224833840362755.\n"
     ]
    },
    {
     "name": "stderr",
     "output_type": "stream",
     "text": [
      "Best trial: 65. Best value: 0.00672248:  11%|█         | 32/300 [00:26<03:41,  1.21it/s, 26.14/10800 seconds]"
     ]
    },
    {
     "name": "stdout",
     "output_type": "stream",
     "text": [
      "[I 2025-06-27 15:38:10,896] Trial 100 finished with value: 0.007356012662658925 and parameters: {'lr': 0.027434697529550817, 'leaves': 40, 'depth': 6, 'min_leaf': 180, 'feat_frac': 0.8505986631555502, 'bag_frac': 0.5423781912869846, 'bag_freq': 13, 'l1': 0.01712870608817854, 'l2': 0.07554018400990756, 'gamma': 0.17576528517925386}. Best is trial 65 with value: 0.0067224833840362755.\n"
     ]
    },
    {
     "name": "stderr",
     "output_type": "stream",
     "text": [
      "Best trial: 65. Best value: 0.00672248:  11%|█         | 33/300 [00:26<03:28,  1.28it/s, 26.82/10800 seconds]"
     ]
    },
    {
     "name": "stdout",
     "output_type": "stream",
     "text": [
      "[I 2025-06-27 15:38:11,576] Trial 104 finished with value: 0.007476749041146191 and parameters: {'lr': 0.05870650098546462, 'leaves': 52, 'depth': 12, 'min_leaf': 120, 'feat_frac': 0.9633307279992536, 'bag_frac': 0.42889143397342344, 'bag_freq': 12, 'l1': 0.5312048625932089, 'l2': 0.5315833794301985, 'gamma': 0.12012822876768618}. Best is trial 65 with value: 0.0067224833840362755.\n"
     ]
    },
    {
     "name": "stderr",
     "output_type": "stream",
     "text": [
      "Best trial: 65. Best value: 0.00672248:  11%|█▏        | 34/300 [00:27<03:05,  1.44it/s, 27.31/10800 seconds]"
     ]
    },
    {
     "name": "stdout",
     "output_type": "stream",
     "text": [
      "[I 2025-06-27 15:38:12,072] Trial 71 finished with value: 0.006905356869030146 and parameters: {'lr': 0.01637305809302839, 'leaves': 159, 'depth': 7, 'min_leaf': 107, 'feat_frac': 0.9065551568015217, 'bag_frac': 0.7068955926474962, 'bag_freq': 4, 'l1': 3.268776998252577e-05, 'l2': 0.00023304626466220935, 'gamma': 0.03054225922245655}. Best is trial 65 with value: 0.0067224833840362755.\n",
      "[I 2025-06-27 15:38:12,187] Trial 109 finished with value: 0.0071148049446605665 and parameters: {'lr': 0.040319241525870436, 'leaves': 44, 'depth': 10, 'min_leaf': 62, 'feat_frac': 0.7034525350826384, 'bag_frac': 0.5905633979180657, 'bag_freq': 14, 'l1': 1.8286376054419915, 'l2': 2.209339545822333, 'gamma': 0.19890013899435777}. Best is trial 65 with value: 0.0067224833840362755.\n"
     ]
    },
    {
     "name": "stderr",
     "output_type": "stream",
     "text": [
      "Best trial: 65. Best value: 0.00672248:  12%|█▏        | 36/300 [00:27<02:26,  1.80it/s, 27.59/10800 seconds]"
     ]
    },
    {
     "name": "stdout",
     "output_type": "stream",
     "text": [
      "[I 2025-06-27 15:38:12,353] Trial 106 finished with value: 0.007680162293162499 and parameters: {'lr': 0.023963968353062526, 'leaves': 47, 'depth': 12, 'min_leaf': 44, 'feat_frac': 0.9382531793794989, 'bag_frac': 0.4945946542285447, 'bag_freq': 14, 'l1': 0.16856059699933942, 'l2': 0.1265946604270262, 'gamma': 0.23963873660413293}. Best is trial 65 with value: 0.0067224833840362755.\n"
     ]
    },
    {
     "name": "stderr",
     "output_type": "stream",
     "text": [
      "Best trial: 65. Best value: 0.00672248:  12%|█▏        | 37/300 [00:27<01:44,  2.51it/s, 27.97/10800 seconds]"
     ]
    },
    {
     "name": "stdout",
     "output_type": "stream",
     "text": [
      "[I 2025-06-27 15:38:12,728] Trial 111 finished with value: 0.0076338364916015275 and parameters: {'lr': 0.04760093898195565, 'leaves': 86, 'depth': 12, 'min_leaf': 90, 'feat_frac': 0.8288432691141623, 'bag_frac': 0.5914269773666794, 'bag_freq': 6, 'l1': 2.2260233885816967e-05, 'l2': 0.5020628927923719, 'gamma': 0.3942401978305066}. Best is trial 65 with value: 0.0067224833840362755.\n"
     ]
    },
    {
     "name": "stderr",
     "output_type": "stream",
     "text": [
      "Best trial: 65. Best value: 0.00672248:  13%|█▎        | 38/300 [00:29<02:41,  1.62it/s, 29.26/10800 seconds]"
     ]
    },
    {
     "name": "stdout",
     "output_type": "stream",
     "text": [
      "[I 2025-06-27 15:38:14,015] Trial 103 finished with value: 0.008127484910169047 and parameters: {'lr': 0.03514785478782373, 'leaves': 32, 'depth': 7, 'min_leaf': 80, 'feat_frac': 0.9066728063873499, 'bag_frac': 0.4872155235894434, 'bag_freq': 10, 'l1': 0.3546666783078311, 'l2': 2.476054258431177, 'gamma': 0.14523931895486406}. Best is trial 65 with value: 0.0067224833840362755.\n"
     ]
    },
    {
     "name": "stderr",
     "output_type": "stream",
     "text": [
      "Best trial: 101. Best value: 0.00631706:  13%|█▎        | 39/300 [00:30<03:57,  1.10it/s, 30.99/10800 seconds]"
     ]
    },
    {
     "name": "stdout",
     "output_type": "stream",
     "text": [
      "[I 2025-06-27 15:38:15,747] Trial 101 finished with value: 0.0063170610258746675 and parameters: {'lr': 0.0317987300846867, 'leaves': 59, 'depth': 8, 'min_leaf': 146, 'feat_frac': 0.7996841222741473, 'bag_frac': 0.5261675913365518, 'bag_freq': 12, 'l1': 0.07670567438378743, 'l2': 2.9578678161254977, 'gamma': 0.12270738968522557}. Best is trial 101 with value: 0.0063170610258746675.\n"
     ]
    },
    {
     "name": "stderr",
     "output_type": "stream",
     "text": [
      "Best trial: 101. Best value: 0.00631706:  13%|█▎        | 40/300 [00:33<05:43,  1.32s/it, 33.40/10800 seconds]"
     ]
    },
    {
     "name": "stdout",
     "output_type": "stream",
     "text": [
      "[I 2025-06-27 15:38:18,164] Trial 112 finished with value: 0.008073715253398684 and parameters: {'lr': 0.01457101639503737, 'leaves': 56, 'depth': 14, 'min_leaf': 22, 'feat_frac': 0.9364762394769165, 'bag_frac': 0.6210990920238701, 'bag_freq': 13, 'l1': 2.1558808589656836e-05, 'l2': 1.807071279406911, 'gamma': 0.31760884502229714}. Best is trial 101 with value: 0.0063170610258746675.\n"
     ]
    },
    {
     "name": "stderr",
     "output_type": "stream",
     "text": [
      "Best trial: 101. Best value: 0.00631706:  14%|█▎        | 41/300 [00:34<05:15,  1.22s/it, 34.36/10800 seconds]"
     ]
    },
    {
     "name": "stdout",
     "output_type": "stream",
     "text": [
      "[I 2025-06-27 15:38:19,118] Trial 85 finished with value: 0.008476540891058364 and parameters: {'lr': 0.01899856067514429, 'leaves': 38, 'depth': 6, 'min_leaf': 196, 'feat_frac': 0.7244058331063894, 'bag_frac': 0.832591707241683, 'bag_freq': 11, 'l1': 9.228221920180295e-06, 'l2': 1.2006357843597198e-06, 'gamma': 0.01251614917797892}. Best is trial 101 with value: 0.0063170610258746675.\n"
     ]
    },
    {
     "name": "stderr",
     "output_type": "stream",
     "text": [
      "Best trial: 101. Best value: 0.00631706:  14%|█▍        | 42/300 [00:37<07:12,  1.68s/it, 37.18/10800 seconds]"
     ]
    },
    {
     "name": "stdout",
     "output_type": "stream",
     "text": [
      "[I 2025-06-27 15:38:21,940] Trial 62 finished with value: 0.007653609402744271 and parameters: {'lr': 0.005978928855861768, 'leaves': 52, 'depth': 5, 'min_leaf': 133, 'feat_frac': 0.9249057833019708, 'bag_frac': 0.42168734961070786, 'bag_freq': 3, 'l1': 0.00392017175317102, 'l2': 0.2126783550116243, 'gamma': 0.06791965874957051}. Best is trial 101 with value: 0.0063170610258746675.\n"
     ]
    },
    {
     "name": "stderr",
     "output_type": "stream",
     "text": [
      "Best trial: 101. Best value: 0.00631706:  14%|█▍        | 43/300 [00:38<06:38,  1.55s/it, 38.43/10800 seconds]"
     ]
    },
    {
     "name": "stdout",
     "output_type": "stream",
     "text": [
      "[I 2025-06-27 15:38:23,191] Trial 105 finished with value: 0.007730582449796779 and parameters: {'lr': 0.024559216510026453, 'leaves': 68, 'depth': 8, 'min_leaf': 85, 'feat_frac': 0.9269669417307657, 'bag_frac': 0.6142004978198208, 'bag_freq': 13, 'l1': 0.1382845527522328, 'l2': 1.7319855209440345, 'gamma': 0.02976730805140905}. Best is trial 101 with value: 0.0063170610258746675.\n"
     ]
    },
    {
     "name": "stderr",
     "output_type": "stream",
     "text": [
      "Best trial: 101. Best value: 0.00631706:  15%|█▍        | 44/300 [00:40<07:37,  1.79s/it, 40.78/10800 seconds]"
     ]
    },
    {
     "name": "stdout",
     "output_type": "stream",
     "text": [
      "[I 2025-06-27 15:38:25,544] Trial 102 finished with value: 0.007235623286421398 and parameters: {'lr': 0.018691432023933363, 'leaves': 41, 'depth': 7, 'min_leaf': 112, 'feat_frac': 0.9449358873333524, 'bag_frac': 0.4993031270759873, 'bag_freq': 12, 'l1': 0.02131903566353133, 'l2': 0.008455977353046562, 'gamma': 0.15097861551049796}. Best is trial 101 with value: 0.0063170610258746675.\n"
     ]
    },
    {
     "name": "stderr",
     "output_type": "stream",
     "text": [
      "Best trial: 101. Best value: 0.00631706:  15%|█▌        | 45/300 [00:43<08:01,  1.89s/it, 42.92/10800 seconds]"
     ]
    },
    {
     "name": "stdout",
     "output_type": "stream",
     "text": [
      "[I 2025-06-27 15:38:27,678] Trial 116 finished with value: 0.007898114968071263 and parameters: {'lr': 0.018808787536971548, 'leaves': 198, 'depth': 8, 'min_leaf': 124, 'feat_frac': 0.7583384939889135, 'bag_frac': 0.7465128819339498, 'bag_freq': 3, 'l1': 1.6042111628419775e-05, 'l2': 0.00043591868558646627, 'gamma': 0.05929326812564935}. Best is trial 101 with value: 0.0063170610258746675.\n",
      "[I 2025-06-27 15:38:27,853] Trial 108 finished with value: 0.007551808154066976 and parameters: {'lr': 0.05107886325549243, 'leaves': 44, 'depth': 9, 'min_leaf': 189, 'feat_frac': 0.8506188198743692, 'bag_frac': 0.5259977355720319, 'bag_freq': 11, 'l1': 1.7373734956643547, 'l2': 0.07865867554215006, 'gamma': 0.054877604448825126}. Best is trial 101 with value: 0.0063170610258746675.\n"
     ]
    },
    {
     "name": "stderr",
     "output_type": "stream",
     "text": [
      "Best trial: 101. Best value: 0.00631706:  16%|█▌        | 47/300 [00:43<05:02,  1.19s/it, 43.85/10800 seconds]"
     ]
    },
    {
     "name": "stdout",
     "output_type": "stream",
     "text": [
      "[I 2025-06-27 15:38:28,606] Trial 114 finished with value: 0.007365679069700454 and parameters: {'lr': 0.028037412764287263, 'leaves': 153, 'depth': 7, 'min_leaf': 132, 'feat_frac': 0.7620338337576538, 'bag_frac': 0.5863905025680076, 'bag_freq': 6, 'l1': 5.012399807730924e-06, 'l2': 0.00018684474095414965, 'gamma': 0.1002350173529423}. Best is trial 101 with value: 0.0063170610258746675.\n"
     ]
    },
    {
     "name": "stderr",
     "output_type": "stream",
     "text": [
      "Best trial: 101. Best value: 0.00631706:  16%|█▌        | 48/300 [00:45<05:01,  1.20s/it, 45.05/10800 seconds]"
     ]
    },
    {
     "name": "stdout",
     "output_type": "stream",
     "text": [
      "[I 2025-06-27 15:38:29,808] Trial 120 finished with value: 0.007964088840510737 and parameters: {'lr': 0.018154787206718006, 'leaves': 202, 'depth': 4, 'min_leaf': 75, 'feat_frac': 0.9283595328894431, 'bag_frac': 0.6775234141589961, 'bag_freq': 1, 'l1': 6.0995757036285e-05, 'l2': 1.3462447166631234e-06, 'gamma': 0.09400206002010938}. Best is trial 101 with value: 0.0063170610258746675.\n"
     ]
    },
    {
     "name": "stderr",
     "output_type": "stream",
     "text": [
      "Best trial: 101. Best value: 0.00631706:  16%|█▋        | 49/300 [00:46<05:54,  1.41s/it, 46.96/10800 seconds]"
     ]
    },
    {
     "name": "stdout",
     "output_type": "stream",
     "text": [
      "[I 2025-06-27 15:38:31,722] Trial 119 finished with value: 0.0068085367409798135 and parameters: {'lr': 0.01674976888335359, 'leaves': 168, 'depth': 6, 'min_leaf': 185, 'feat_frac': 0.9856596385978892, 'bag_frac': 0.742309845528822, 'bag_freq': 5, 'l1': 9.057612772320008e-05, 'l2': 0.00010138458559167452, 'gamma': 0.040751840192973995}. Best is trial 101 with value: 0.0063170610258746675.\n"
     ]
    },
    {
     "name": "stderr",
     "output_type": "stream",
     "text": [
      "Best trial: 101. Best value: 0.00631706:  17%|█▋        | 50/300 [00:47<04:32,  1.09s/it, 47.30/10800 seconds]"
     ]
    },
    {
     "name": "stdout",
     "output_type": "stream",
     "text": [
      "[I 2025-06-27 15:38:32,057] Trial 87 finished with value: 0.009478284899811186 and parameters: {'lr': 0.040202014347436525, 'leaves': 135, 'depth': 9, 'min_leaf': 5, 'feat_frac': 0.5278362893723482, 'bag_frac': 0.4131034329114801, 'bag_freq': 1, 'l1': 2.4549315058803104e-05, 'l2': 0.09567783504067101, 'gamma': 0.12874018182239164}. Best is trial 101 with value: 0.0063170610258746675.\n"
     ]
    },
    {
     "name": "stderr",
     "output_type": "stream",
     "text": [
      "Best trial: 101. Best value: 0.00631706:  17%|█▋        | 51/300 [00:48<04:27,  1.07s/it, 48.34/10800 seconds]"
     ]
    },
    {
     "name": "stdout",
     "output_type": "stream",
     "text": [
      "[I 2025-06-27 15:38:33,096] Trial 115 finished with value: 0.007041108281227156 and parameters: {'lr': 0.01095123677504154, 'leaves': 172, 'depth': 6, 'min_leaf': 196, 'feat_frac': 0.9687540198572064, 'bag_frac': 0.622593122834936, 'bag_freq': 6, 'l1': 0.0002478638124493935, 'l2': 3.656678475699365e-05, 'gamma': 0.09807294237405051}. Best is trial 101 with value: 0.0063170610258746675.\n"
     ]
    },
    {
     "name": "stderr",
     "output_type": "stream",
     "text": [
      "Best trial: 101. Best value: 0.00631706:  17%|█▋        | 52/300 [00:48<03:53,  1.06it/s, 48.96/10800 seconds]"
     ]
    },
    {
     "name": "stdout",
     "output_type": "stream",
     "text": [
      "[I 2025-06-27 15:38:33,694] Trial 79 finished with value: 0.007236865946893935 and parameters: {'lr': 0.013884590446558851, 'leaves': 193, 'depth': 4, 'min_leaf': 62, 'feat_frac': 0.7421542243134127, 'bag_frac': 0.5207424001750192, 'bag_freq': 2, 'l1': 0.069180077625632, 'l2': 3.3644081685954676e-07, 'gamma': 0.06664890961286014}. Best is trial 101 with value: 0.0063170610258746675.\n"
     ]
    },
    {
     "name": "stderr",
     "output_type": "stream",
     "text": [
      "Best trial: 101. Best value: 0.00631706:  18%|█▊        | 53/300 [00:50<04:02,  1.02it/s, 50.04/10800 seconds]"
     ]
    },
    {
     "name": "stdout",
     "output_type": "stream",
     "text": [
      "[I 2025-06-27 15:38:34,799] Trial 88 finished with value: 0.007848131652531067 and parameters: {'lr': 0.00528208586010802, 'leaves': 100, 'depth': 4, 'min_leaf': 16, 'feat_frac': 0.555325289567261, 'bag_frac': 0.601998226925019, 'bag_freq': 3, 'l1': 1.412171857265654, 'l2': 1.3964477546172121e-07, 'gamma': 0.06857431136625905}. Best is trial 101 with value: 0.0063170610258746675.\n"
     ]
    },
    {
     "name": "stderr",
     "output_type": "stream",
     "text": [
      "Best trial: 101. Best value: 0.00631706:  18%|█▊        | 54/300 [00:50<03:03,  1.34it/s, 50.23/10800 seconds]"
     ]
    },
    {
     "name": "stdout",
     "output_type": "stream",
     "text": [
      "[I 2025-06-27 15:38:34,992] Trial 127 finished with value: 0.008144293924370102 and parameters: {'lr': 0.018144094418297015, 'leaves': 67, 'depth': 12, 'min_leaf': 224, 'feat_frac': 0.9296348899451394, 'bag_frac': 0.6010220231204506, 'bag_freq': 7, 'l1': 4.104783673250611e-07, 'l2': 1.091635450673672e-06, 'gamma': 0.33469097248780544}. Best is trial 101 with value: 0.0063170610258746675.\n"
     ]
    },
    {
     "name": "stderr",
     "output_type": "stream",
     "text": [
      "Best trial: 101. Best value: 0.00631706:  18%|█▊        | 55/300 [00:51<03:41,  1.11it/s, 51.51/10800 seconds]"
     ]
    },
    {
     "name": "stdout",
     "output_type": "stream",
     "text": [
      "[I 2025-06-27 15:38:36,266] Trial 130 finished with value: 0.00852477165508023 and parameters: {'lr': 0.06374063927851421, 'leaves': 46, 'depth': 13, 'min_leaf': 121, 'feat_frac': 0.9883907312638609, 'bag_frac': 0.4143285270425992, 'bag_freq': 11, 'l1': 1.083088528177297e-05, 'l2': 4.792495274377019e-08, 'gamma': 0.22458981594940486}. Best is trial 101 with value: 0.0063170610258746675.\n"
     ]
    },
    {
     "name": "stderr",
     "output_type": "stream",
     "text": [
      "Best trial: 101. Best value: 0.00631706:  19%|█▊        | 56/300 [00:52<03:17,  1.23it/s, 52.10/10800 seconds]"
     ]
    },
    {
     "name": "stdout",
     "output_type": "stream",
     "text": [
      "[I 2025-06-27 15:38:36,862] Trial 131 finished with value: 0.007597091897046288 and parameters: {'lr': 0.029862190359299528, 'leaves': 59, 'depth': 13, 'min_leaf': 206, 'feat_frac': 0.897321619105139, 'bag_frac': 0.5899060252252158, 'bag_freq': 12, 'l1': 4.710683505417713e-06, 'l2': 1.0594155665137449e-07, 'gamma': 0.3178347452728506}. Best is trial 101 with value: 0.0063170610258746675.\n"
     ]
    },
    {
     "name": "stderr",
     "output_type": "stream",
     "text": [
      "Best trial: 101. Best value: 0.00631706:  19%|█▉        | 57/300 [00:55<05:49,  1.44s/it, 55.01/10800 seconds]"
     ]
    },
    {
     "name": "stdout",
     "output_type": "stream",
     "text": [
      "[I 2025-06-27 15:38:39,766] Trial 81 finished with value: 0.008029282205281532 and parameters: {'lr': 0.005269628722121422, 'leaves': 74, 'depth': 12, 'min_leaf': 294, 'feat_frac': 0.4169225452175669, 'bag_frac': 0.6120679659814863, 'bag_freq': 13, 'l1': 0.12112755822228946, 'l2': 5.194049346775574e-06, 'gamma': 0.09877126499437701}. Best is trial 101 with value: 0.0063170610258746675.\n"
     ]
    },
    {
     "name": "stderr",
     "output_type": "stream",
     "text": [
      "Best trial: 118. Best value: 0.00612546:  19%|█▉        | 58/300 [00:56<05:45,  1.43s/it, 56.41/10800 seconds]"
     ]
    },
    {
     "name": "stdout",
     "output_type": "stream",
     "text": [
      "[I 2025-06-27 15:38:41,170] Trial 118 finished with value: 0.00612545654917489 and parameters: {'lr': 0.010782308956446812, 'leaves': 253, 'depth': 4, 'min_leaf': 96, 'feat_frac': 0.7624305070704434, 'bag_frac': 0.7107255210498393, 'bag_freq': 4, 'l1': 8.151379625914121e-06, 'l2': 2.0930257375146314e-07, 'gamma': 0.06896027532497424}. Best is trial 118 with value: 0.00612545654917489.\n"
     ]
    },
    {
     "name": "stderr",
     "output_type": "stream",
     "text": [
      "Best trial: 118. Best value: 0.00612546:  20%|█▉        | 59/300 [00:56<04:35,  1.14s/it, 56.88/10800 seconds]"
     ]
    },
    {
     "name": "stdout",
     "output_type": "stream",
     "text": [
      "[I 2025-06-27 15:38:41,643] Trial 125 finished with value: 0.007085526385573863 and parameters: {'lr': 0.03363308719977683, 'leaves': 103, 'depth': 6, 'min_leaf': 61, 'feat_frac': 0.9141116652240372, 'bag_frac': 0.7515969551414869, 'bag_freq': 5, 'l1': 3.5566072786282153e-05, 'l2': 1.1751273628234569e-05, 'gamma': 0.10618049269864496}. Best is trial 118 with value: 0.00612545654917489.\n"
     ]
    },
    {
     "name": "stderr",
     "output_type": "stream",
     "text": [
      "Best trial: 118. Best value: 0.00612546:  20%|██        | 60/300 [00:57<04:29,  1.12s/it, 57.96/10800 seconds]"
     ]
    },
    {
     "name": "stdout",
     "output_type": "stream",
     "text": [
      "[I 2025-06-27 15:38:42,715] Trial 63 finished with value: 0.00705589726612677 and parameters: {'lr': 0.006763742640024027, 'leaves': 37, 'depth': 12, 'min_leaf': 219, 'feat_frac': 0.7853214053420718, 'bag_frac': 0.47930489638785034, 'bag_freq': 2, 'l1': 0.10698920274868083, 'l2': 1.404418200063175, 'gamma': 0.02238785807474275}. Best is trial 118 with value: 0.00612545654917489.\n"
     ]
    },
    {
     "name": "stderr",
     "output_type": "stream",
     "text": [
      "Best trial: 118. Best value: 0.00612546:  20%|██        | 61/300 [00:58<03:32,  1.13it/s, 58.30/10800 seconds]"
     ]
    },
    {
     "name": "stdout",
     "output_type": "stream",
     "text": [
      "[I 2025-06-27 15:38:43,058] Trial 110 finished with value: 0.007859444220506228 and parameters: {'lr': 0.027147937716038607, 'leaves': 71, 'depth': 8, 'min_leaf': 97, 'feat_frac': 0.8041741754216064, 'bag_frac': 0.5065246741172529, 'bag_freq': 14, 'l1': 0.06624442410287283, 'l2': 0.3035846863905712, 'gamma': 0.165353712782262}. Best is trial 118 with value: 0.00612545654917489.\n"
     ]
    },
    {
     "name": "stderr",
     "output_type": "stream",
     "text": [
      "Best trial: 118. Best value: 0.00612546:  21%|██        | 62/300 [01:00<05:15,  1.33s/it, 60.65/10800 seconds]"
     ]
    },
    {
     "name": "stdout",
     "output_type": "stream",
     "text": [
      "[I 2025-06-27 15:38:45,413] Trial 113 finished with value: 0.007791154520932898 and parameters: {'lr': 0.008238001057281947, 'leaves': 98, 'depth': 8, 'min_leaf': 34, 'feat_frac': 0.8969007953311616, 'bag_frac': 0.5888828929983241, 'bag_freq': 3, 'l1': 0.0006909990183218618, 'l2': 0.0006715396777920593, 'gamma': 0.05499956486898702}. Best is trial 118 with value: 0.00612545654917489.\n"
     ]
    },
    {
     "name": "stderr",
     "output_type": "stream",
     "text": [
      "Best trial: 118. Best value: 0.00612546:  21%|██        | 63/300 [01:01<04:15,  1.08s/it, 61.14/10800 seconds]"
     ]
    },
    {
     "name": "stdout",
     "output_type": "stream",
     "text": [
      "[I 2025-06-27 15:38:45,904] Trial 124 finished with value: 0.007210814010753875 and parameters: {'lr': 0.00885504307341622, 'leaves': 104, 'depth': 4, 'min_leaf': 78, 'feat_frac': 0.8501713695959523, 'bag_frac': 0.5640759694117056, 'bag_freq': 2, 'l1': 1.519078699315986e-05, 'l2': 0.0004215642068245529, 'gamma': 0.04841982223864345}. Best is trial 118 with value: 0.00612545654917489.\n"
     ]
    },
    {
     "name": "stderr",
     "output_type": "stream",
     "text": [
      "Best trial: 118. Best value: 0.00612546:  21%|██▏       | 64/300 [01:02<04:44,  1.20s/it, 62.65/10800 seconds]"
     ]
    },
    {
     "name": "stdout",
     "output_type": "stream",
     "text": [
      "[I 2025-06-27 15:38:47,407] Trial 107 finished with value: 0.0076188824963004 and parameters: {'lr': 0.012033544956698635, 'leaves': 65, 'depth': 9, 'min_leaf': 76, 'feat_frac': 0.8680090605288255, 'bag_frac': 0.5264604730700806, 'bag_freq': 9, 'l1': 0.13167583709415662, 'l2': 1.375563418634754, 'gamma': 0.17570752021005595}. Best is trial 118 with value: 0.00612545654917489.\n"
     ]
    },
    {
     "name": "stderr",
     "output_type": "stream",
     "text": [
      "Best trial: 118. Best value: 0.00612546:  22%|██▏       | 65/300 [01:04<05:51,  1.49s/it, 64.82/10800 seconds]"
     ]
    },
    {
     "name": "stdout",
     "output_type": "stream",
     "text": [
      "[I 2025-06-27 15:38:49,578] Trial 129 finished with value: 0.0063362304896324734 and parameters: {'lr': 0.014237821461461886, 'leaves': 221, 'depth': 5, 'min_leaf': 243, 'feat_frac': 0.9841975276561485, 'bag_frac': 0.8944764171008863, 'bag_freq': 5, 'l1': 0.14536996547622622, 'l2': 0.00020696570324008198, 'gamma': 0.12915279870658944}. Best is trial 118 with value: 0.00612545654917489.\n"
     ]
    },
    {
     "name": "stderr",
     "output_type": "stream",
     "text": [
      "Best trial: 118. Best value: 0.00612546:  22%|██▏       | 66/300 [01:05<04:29,  1.15s/it, 65.17/10800 seconds]"
     ]
    },
    {
     "name": "stdout",
     "output_type": "stream",
     "text": [
      "[I 2025-06-27 15:38:49,932] Trial 121 finished with value: 0.008002741603901964 and parameters: {'lr': 0.01175091558473685, 'leaves': 175, 'depth': 8, 'min_leaf': 135, 'feat_frac': 0.8214919610183128, 'bag_frac': 0.7398077057907871, 'bag_freq': 2, 'l1': 0.00010946387075051304, 'l2': 0.00032747005409645416, 'gamma': 0.003816042026672059}. Best is trial 118 with value: 0.00612545654917489.\n"
     ]
    },
    {
     "name": "stderr",
     "output_type": "stream",
     "text": [
      "Best trial: 118. Best value: 0.00612546:  23%|██▎       | 68/300 [01:08<07:04,  1.83s/it, 68.59/10800 seconds]"
     ]
    },
    {
     "name": "stdout",
     "output_type": "stream",
     "text": [
      "[I 2025-06-27 15:38:53,340] Trial 143 finished with value: 0.00763593629617856 and parameters: {'lr': 0.027900221786389963, 'leaves': 41, 'depth': 13, 'min_leaf': 15, 'feat_frac': 0.4473991513001272, 'bag_frac': 0.6790015222486738, 'bag_freq': 5, 'l1': 4.923189732107855e-06, 'l2': 3.2715185876773947, 'gamma': 0.3894111385720582}. Best is trial 118 with value: 0.00612545654917489.\n",
      "[I 2025-06-27 15:38:53,345] Trial 86 finished with value: 0.006760469797133206 and parameters: {'lr': 0.006701982229616987, 'leaves': 39, 'depth': 8, 'min_leaf': 38, 'feat_frac': 0.8118366082177085, 'bag_frac': 0.47197525532202744, 'bag_freq': 3, 'l1': 8.7425046117122e-08, 'l2': 3.5355340539047924, 'gamma': 0.07981669476486464}. Best is trial 118 with value: 0.00612545654917489.\n"
     ]
    },
    {
     "name": "stderr",
     "output_type": "stream",
     "text": [
      "Best trial: 118. Best value: 0.00612546:  23%|██▎       | 69/300 [01:09<04:10,  1.09s/it, 68.91/10800 seconds]"
     ]
    },
    {
     "name": "stdout",
     "output_type": "stream",
     "text": [
      "[I 2025-06-27 15:38:53,659] Trial 134 finished with value: 0.006880814903071609 and parameters: {'lr': 0.032585992251269895, 'leaves': 196, 'depth': 5, 'min_leaf': 70, 'feat_frac': 0.9946901110696124, 'bag_frac': 0.9471013094734071, 'bag_freq': 6, 'l1': 1.5559373395907192e-07, 'l2': 5.4891771330264525e-05, 'gamma': 0.006078666336227868}. Best is trial 118 with value: 0.00612545654917489.\n"
     ]
    },
    {
     "name": "stderr",
     "output_type": "stream",
     "text": [
      "Best trial: 118. Best value: 0.00612546:  23%|██▎       | 70/300 [01:09<03:37,  1.06it/s, 69.55/10800 seconds]"
     ]
    },
    {
     "name": "stdout",
     "output_type": "stream",
     "text": [
      "[I 2025-06-27 15:38:54,308] Trial 132 finished with value: 0.00818211116766173 and parameters: {'lr': 0.01731435706812465, 'leaves': 118, 'depth': 6, 'min_leaf': 201, 'feat_frac': 0.958899923080845, 'bag_frac': 0.600978867941322, 'bag_freq': 5, 'l1': 3.9098287697456296e-05, 'l2': 1.551230941251285, 'gamma': 0.023074695367005238}. Best is trial 118 with value: 0.00612545654917489.\n"
     ]
    },
    {
     "name": "stderr",
     "output_type": "stream",
     "text": [
      "Best trial: 118. Best value: 0.00612546:  24%|██▎       | 71/300 [01:10<03:39,  1.05it/s, 70.53/10800 seconds]"
     ]
    },
    {
     "name": "stdout",
     "output_type": "stream",
     "text": [
      "[I 2025-06-27 15:38:55,291] Trial 126 finished with value: 0.008097998710355589 and parameters: {'lr': 0.010992962496404551, 'leaves': 165, 'depth': 4, 'min_leaf': 171, 'feat_frac': 0.8868181572916931, 'bag_frac': 0.8079236522620475, 'bag_freq': 4, 'l1': 4.136955883024684e-05, 'l2': 0.012577955548605857, 'gamma': 0.018638094533934974}. Best is trial 118 with value: 0.00612545654917489.\n"
     ]
    },
    {
     "name": "stderr",
     "output_type": "stream",
     "text": [
      "Best trial: 118. Best value: 0.00612546:  24%|██▍       | 72/300 [01:11<03:25,  1.11it/s, 71.29/10800 seconds]"
     ]
    },
    {
     "name": "stdout",
     "output_type": "stream",
     "text": [
      "[I 2025-06-27 15:38:56,050] Trial 137 finished with value: 0.007727905789066807 and parameters: {'lr': 0.014857954226170911, 'leaves': 226, 'depth': 4, 'min_leaf': 62, 'feat_frac': 0.7574572318729196, 'bag_frac': 0.6055632946453281, 'bag_freq': 4, 'l1': 1.4129588550003283e-07, 'l2': 1.3643084050334393e-06, 'gamma': 0.10167213673529668}. Best is trial 118 with value: 0.00612545654917489.\n"
     ]
    },
    {
     "name": "stderr",
     "output_type": "stream",
     "text": [
      "Best trial: 118. Best value: 0.00612546:  24%|██▍       | 73/300 [01:13<04:33,  1.21s/it, 73.28/10800 seconds]"
     ]
    },
    {
     "name": "stdout",
     "output_type": "stream",
     "text": [
      "[I 2025-06-27 15:38:58,034] Trial 117 finished with value: 0.006641761420361271 and parameters: {'lr': 0.011139835474446039, 'leaves': 192, 'depth': 8, 'min_leaf': 44, 'feat_frac': 0.8697295978818894, 'bag_frac': 0.722628849181307, 'bag_freq': 0, 'l1': 2.0499322294326957e-06, 'l2': 0.0005948237129887643, 'gamma': 0.04164881888571652}. Best is trial 118 with value: 0.00612545654917489.\n"
     ]
    },
    {
     "name": "stderr",
     "output_type": "stream",
     "text": [
      "Best trial: 118. Best value: 0.00612546:  25%|██▍       | 74/300 [01:17<07:37,  2.02s/it, 77.34/10800 seconds]"
     ]
    },
    {
     "name": "stdout",
     "output_type": "stream",
     "text": [
      "[I 2025-06-27 15:39:02,104] Trial 139 finished with value: 0.007531655223184549 and parameters: {'lr': 0.00983840209104886, 'leaves': 220, 'depth': 5, 'min_leaf': 63, 'feat_frac': 0.8030578164324795, 'bag_frac': 0.5651822734046263, 'bag_freq': 7, 'l1': 2.218908797766245e-07, 'l2': 6.08507614603587e-08, 'gamma': 0.09789680218807159}. Best is trial 118 with value: 0.00612545654917489.\n"
     ]
    },
    {
     "name": "stderr",
     "output_type": "stream",
     "text": [
      "Best trial: 118. Best value: 0.00612546:  25%|██▌       | 75/300 [01:18<06:12,  1.66s/it, 78.10/10800 seconds]"
     ]
    },
    {
     "name": "stdout",
     "output_type": "stream",
     "text": [
      "[I 2025-06-27 15:39:02,858] Trial 144 finished with value: 0.0070303958151948075 and parameters: {'lr': 0.020728104543806438, 'leaves': 216, 'depth': 4, 'min_leaf': 182, 'feat_frac': 0.9841522390937566, 'bag_frac': 0.9551557044047702, 'bag_freq': 4, 'l1': 0.5948673868140647, 'l2': 0.001397152335980519, 'gamma': 0.11954034400621157}. Best is trial 118 with value: 0.00612545654917489.\n",
      "[I 2025-06-27 15:39:03,028] Trial 149 finished with value: 0.007116670196892887 and parameters: {'lr': 0.014802251273231468, 'leaves': 222, 'depth': 4, 'min_leaf': 116, 'feat_frac': 0.9399894804325308, 'bag_frac': 0.8910833375652824, 'bag_freq': 8, 'l1': 0.05779315030463241, 'l2': 3.679999622617542e-06, 'gamma': 0.19344945317911796}. Best is trial 118 with value: 0.00612545654917489.\n"
     ]
    },
    {
     "name": "stderr",
     "output_type": "stream",
     "text": [
      "Best trial: 118. Best value: 0.00612546:  26%|██▌       | 78/300 [01:19<02:53,  1.28it/s, 79.05/10800 seconds]"
     ]
    },
    {
     "name": "stdout",
     "output_type": "stream",
     "text": [
      "[I 2025-06-27 15:39:03,647] Trial 142 finished with value: 0.007056234427496651 and parameters: {'lr': 0.014838458558318677, 'leaves': 153, 'depth': 4, 'min_leaf': 198, 'feat_frac': 0.7118192841724152, 'bag_frac': 0.6372039529261485, 'bag_freq': 7, 'l1': 2.862539268732566e-07, 'l2': 9.616809916030273e-07, 'gamma': 0.02869997728472}. Best is trial 118 with value: 0.00612545654917489.\n",
      "[I 2025-06-27 15:39:03,812] Trial 152 finished with value: 0.00698432321285704 and parameters: {'lr': 0.015643784376245074, 'leaves': 226, 'depth': 4, 'min_leaf': 293, 'feat_frac': 0.8894314983978691, 'bag_frac': 0.9718319605529571, 'bag_freq': 5, 'l1': 0.8292373295105319, 'l2': 1.3843191128227763e-05, 'gamma': 0.16091158726706162}. Best is trial 118 with value: 0.00612545654917489.\n"
     ]
    },
    {
     "name": "stderr",
     "output_type": "stream",
     "text": [
      "Best trial: 118. Best value: 0.00612546:  26%|██▋       | 79/300 [01:19<02:59,  1.23it/s, 79.93/10800 seconds]"
     ]
    },
    {
     "name": "stdout",
     "output_type": "stream",
     "text": [
      "[I 2025-06-27 15:39:04,687] Trial 135 finished with value: 0.007806618528769868 and parameters: {'lr': 0.02128922687806927, 'leaves': 83, 'depth': 5, 'min_leaf': 187, 'feat_frac': 0.9594332539757031, 'bag_frac': 0.8315106260118511, 'bag_freq': 3, 'l1': 0.02394434757957813, 'l2': 0.0022422930268140785, 'gamma': 0.0017995553832194436}. Best is trial 118 with value: 0.00612545654917489.\n"
     ]
    },
    {
     "name": "stderr",
     "output_type": "stream",
     "text": [
      "Best trial: 118. Best value: 0.00612546:  27%|██▋       | 80/300 [01:20<02:47,  1.31it/s, 80.58/10800 seconds]"
     ]
    },
    {
     "name": "stdout",
     "output_type": "stream",
     "text": [
      "[I 2025-06-27 15:39:05,339] Trial 123 finished with value: 0.007520104887905999 and parameters: {'lr': 0.009205926833826773, 'leaves': 128, 'depth': 8, 'min_leaf': 58, 'feat_frac': 0.8469515728172584, 'bag_frac': 0.7153335198137027, 'bag_freq': 2, 'l1': 1.1424589638331117e-06, 'l2': 0.00025657572948760746, 'gamma': 0.04696239095907631}. Best is trial 118 with value: 0.00612545654917489.\n"
     ]
    },
    {
     "name": "stderr",
     "output_type": "stream",
     "text": [
      "Best trial: 118. Best value: 0.00612546:  27%|██▋       | 81/300 [01:20<02:14,  1.63it/s, 80.84/10800 seconds]"
     ]
    },
    {
     "name": "stdout",
     "output_type": "stream",
     "text": [
      "[I 2025-06-27 15:39:05,597] Trial 133 finished with value: 0.006467319541194688 and parameters: {'lr': 0.02386738501568831, 'leaves': 221, 'depth': 4, 'min_leaf': 108, 'feat_frac': 0.8850699484068996, 'bag_frac': 0.8655356854535504, 'bag_freq': 8, 'l1': 0.004724655202939853, 'l2': 0.0007859464776695336, 'gamma': 0.04209341817722145}. Best is trial 118 with value: 0.00612545654917489.\n"
     ]
    },
    {
     "name": "stderr",
     "output_type": "stream",
     "text": [
      "Best trial: 118. Best value: 0.00612546:  27%|██▋       | 82/300 [01:25<07:02,  1.94s/it, 85.88/10800 seconds]"
     ]
    },
    {
     "name": "stdout",
     "output_type": "stream",
     "text": [
      "[I 2025-06-27 15:39:10,637] Trial 136 finished with value: 0.007152102593224925 and parameters: {'lr': 0.012758369706952367, 'leaves': 91, 'depth': 8, 'min_leaf': 69, 'feat_frac': 0.9395465493696972, 'bag_frac': 0.5714868491508499, 'bag_freq': 1, 'l1': 8.636171978989751e-06, 'l2': 0.004477066976042529, 'gamma': 0.02055048641848068}. Best is trial 118 with value: 0.00612545654917489.\n"
     ]
    },
    {
     "name": "stderr",
     "output_type": "stream",
     "text": [
      "Best trial: 118. Best value: 0.00612546:  28%|██▊       | 83/300 [01:27<06:56,  1.92s/it, 87.76/10800 seconds]"
     ]
    },
    {
     "name": "stdout",
     "output_type": "stream",
     "text": [
      "[I 2025-06-27 15:39:12,519] Trial 122 finished with value: 0.00804866506203482 and parameters: {'lr': 0.005250528497510386, 'leaves': 145, 'depth': 7, 'min_leaf': 73, 'feat_frac': 0.9308676909646761, 'bag_frac': 0.6126411650611782, 'bag_freq': 1, 'l1': 7.655681167601233e-07, 'l2': 0.009085722976843862, 'gamma': 0.0563532230712914}. Best is trial 118 with value: 0.00612545654917489.\n"
     ]
    },
    {
     "name": "stderr",
     "output_type": "stream",
     "text": [
      "Best trial: 118. Best value: 0.00612546:  28%|██▊       | 84/300 [01:29<06:49,  1.90s/it, 89.60/10800 seconds]"
     ]
    },
    {
     "name": "stdout",
     "output_type": "stream",
     "text": [
      "[I 2025-06-27 15:39:14,358] Trial 128 finished with value: 0.007545036714416292 and parameters: {'lr': 0.006426730489807427, 'leaves': 117, 'depth': 6, 'min_leaf': 35, 'feat_frac': 0.8886163282847233, 'bag_frac': 0.6761770940478158, 'bag_freq': 6, 'l1': 1.5210021531178568e-05, 'l2': 0.0011310605546128224, 'gamma': 0.012997933635233504}. Best is trial 118 with value: 0.00612545654917489.\n"
     ]
    },
    {
     "name": "stderr",
     "output_type": "stream",
     "text": [
      "Best trial: 118. Best value: 0.00612546:  28%|██▊       | 85/300 [01:31<06:42,  1.87s/it, 91.41/10800 seconds]"
     ]
    },
    {
     "name": "stdout",
     "output_type": "stream",
     "text": [
      "[I 2025-06-27 15:39:16,166] Trial 155 finished with value: 0.00891064639214101 and parameters: {'lr': 0.022297693444265316, 'leaves': 34, 'depth': 7, 'min_leaf': 39, 'feat_frac': 0.7754379543714903, 'bag_frac': 0.40522811603842496, 'bag_freq': 5, 'l1': 2.62610718174266e-07, 'l2': 0.7658404834749496, 'gamma': 0.020871488656785522}. Best is trial 118 with value: 0.00612545654917489.\n"
     ]
    },
    {
     "name": "stderr",
     "output_type": "stream",
     "text": [
      "Best trial: 118. Best value: 0.00612546:  29%|██▊       | 86/300 [01:32<05:47,  1.62s/it, 92.45/10800 seconds]"
     ]
    },
    {
     "name": "stdout",
     "output_type": "stream",
     "text": [
      "[I 2025-06-27 15:39:17,210] Trial 153 finished with value: 0.007498437837704944 and parameters: {'lr': 0.029462355357193097, 'leaves': 247, 'depth': 7, 'min_leaf': 188, 'feat_frac': 0.9081869400475112, 'bag_frac': 0.9978530998266145, 'bag_freq': 5, 'l1': 0.7533364145260968, 'l2': 3.027141851388833e-05, 'gamma': 0.061565607644671616}. Best is trial 118 with value: 0.00612545654917489.\n"
     ]
    },
    {
     "name": "stderr",
     "output_type": "stream",
     "text": [
      "Best trial: 118. Best value: 0.00612546:  29%|██▉       | 87/300 [01:33<04:59,  1.41s/it, 93.35/10800 seconds]"
     ]
    },
    {
     "name": "stdout",
     "output_type": "stream",
     "text": [
      "[I 2025-06-27 15:39:18,110] Trial 140 finished with value: 0.007261013762242568 and parameters: {'lr': 0.0066475092986284815, 'leaves': 209, 'depth': 4, 'min_leaf': 147, 'feat_frac': 0.7860800417505482, 'bag_frac': 0.7028128385181194, 'bag_freq': 7, 'l1': 2.3713884112478137e-07, 'l2': 5.580006410279249e-06, 'gamma': 0.075208266903529}. Best is trial 118 with value: 0.00612545654917489.\n"
     ]
    },
    {
     "name": "stderr",
     "output_type": "stream",
     "text": [
      "Best trial: 118. Best value: 0.00612546:  29%|██▉       | 88/300 [01:34<04:35,  1.30s/it, 94.41/10800 seconds]"
     ]
    },
    {
     "name": "stdout",
     "output_type": "stream",
     "text": [
      "[I 2025-06-27 15:39:19,164] Trial 138 finished with value: 0.007362201424478126 and parameters: {'lr': 0.012564423326419744, 'leaves': 164, 'depth': 5, 'min_leaf': 105, 'feat_frac': 0.8296872650125535, 'bag_frac': 0.9884522338066773, 'bag_freq': 10, 'l1': 1.4764402935802137e-06, 'l2': 3.7397806125807696e-06, 'gamma': 0.06253045763810573}. Best is trial 118 with value: 0.00612545654917489.\n"
     ]
    },
    {
     "name": "stderr",
     "output_type": "stream",
     "text": [
      "Best trial: 118. Best value: 0.00612546:  30%|██▉       | 89/300 [01:35<04:34,  1.30s/it, 95.71/10800 seconds]"
     ]
    },
    {
     "name": "stdout",
     "output_type": "stream",
     "text": [
      "[I 2025-06-27 15:39:20,465] Trial 158 finished with value: 0.007555939858717937 and parameters: {'lr': 0.024649861969642195, 'leaves': 78, 'depth': 8, 'min_leaf': 21, 'feat_frac': 0.8321977912531723, 'bag_frac': 0.40385179072684796, 'bag_freq': 8, 'l1': 1.9921144986899713e-07, 'l2': 3.922602838170651, 'gamma': 0.05714530317696945}. Best is trial 118 with value: 0.00612545654917489.\n"
     ]
    },
    {
     "name": "stderr",
     "output_type": "stream",
     "text": [
      "Best trial: 118. Best value: 0.00612546:  30%|███       | 90/300 [01:36<03:33,  1.02s/it, 96.06/10800 seconds]"
     ]
    },
    {
     "name": "stdout",
     "output_type": "stream",
     "text": [
      "[I 2025-06-27 15:39:20,818] Trial 141 finished with value: 0.007440212702260697 and parameters: {'lr': 0.006894599276025733, 'leaves': 254, 'depth': 5, 'min_leaf': 184, 'feat_frac': 0.8388511473295743, 'bag_frac': 0.7136214448944848, 'bag_freq': 7, 'l1': 9.297957870590037e-07, 'l2': 5.643937139689548e-07, 'gamma': 0.053690293681698024}. Best is trial 118 with value: 0.00612545654917489.\n"
     ]
    },
    {
     "name": "stderr",
     "output_type": "stream",
     "text": [
      "Best trial: 118. Best value: 0.00612546:  30%|███       | 91/300 [01:41<07:41,  2.21s/it, 101.05/10800 seconds]"
     ]
    },
    {
     "name": "stdout",
     "output_type": "stream",
     "text": [
      "[I 2025-06-27 15:39:25,809] Trial 148 finished with value: 0.007463040241590956 and parameters: {'lr': 0.008916721925967968, 'leaves': 50, 'depth': 11, 'min_leaf': 37, 'feat_frac': 0.7085438276483493, 'bag_frac': 0.47907224996955217, 'bag_freq': 3, 'l1': 3.394220493857099e-08, 'l2': 2.385205532680398, 'gamma': 0.06586454927185727}. Best is trial 118 with value: 0.00612545654917489.\n"
     ]
    },
    {
     "name": "stderr",
     "output_type": "stream",
     "text": [
      "Best trial: 118. Best value: 0.00612546:  31%|███       | 92/300 [01:45<10:00,  2.89s/it, 105.52/10800 seconds]"
     ]
    },
    {
     "name": "stdout",
     "output_type": "stream",
     "text": [
      "[I 2025-06-27 15:39:30,280] Trial 157 finished with value: 0.007492961682831402 and parameters: {'lr': 0.016108933761806773, 'leaves': 37, 'depth': 7, 'min_leaf': 32, 'feat_frac': 0.8192244475597844, 'bag_frac': 0.5271362576934313, 'bag_freq': 5, 'l1': 6.018269278713963e-07, 'l2': 0.09536184268236547, 'gamma': 0.021911825364894416}. Best is trial 118 with value: 0.00612545654917489.\n"
     ]
    },
    {
     "name": "stderr",
     "output_type": "stream",
     "text": [
      "Best trial: 118. Best value: 0.00612546:  31%|███       | 93/300 [01:52<14:32,  4.21s/it, 112.83/10800 seconds]"
     ]
    },
    {
     "name": "stdout",
     "output_type": "stream",
     "text": [
      "[I 2025-06-27 15:39:37,592] Trial 163 finished with value: 0.0067924126704967565 and parameters: {'lr': 0.017450902907834787, 'leaves': 233, 'depth': 5, 'min_leaf': 132, 'feat_frac': 0.8211517035842881, 'bag_frac': 0.8945833060942524, 'bag_freq': 9, 'l1': 0.010903057166896563, 'l2': 0.004748406045303581, 'gamma': 0.00894316541030045}. Best is trial 118 with value: 0.00612545654917489.\n"
     ]
    },
    {
     "name": "stderr",
     "output_type": "stream",
     "text": [
      "Best trial: 118. Best value: 0.00612546:  31%|███▏      | 94/300 [01:53<10:27,  3.04s/it, 113.15/10800 seconds]"
     ]
    },
    {
     "name": "stdout",
     "output_type": "stream",
     "text": [
      "[I 2025-06-27 15:39:37,906] Trial 159 finished with value: 0.007565448132278229 and parameters: {'lr': 0.01869344334499543, 'leaves': 32, 'depth': 7, 'min_leaf': 45, 'feat_frac': 0.8256782543483424, 'bag_frac': 0.49002999464122016, 'bag_freq': 1, 'l1': 3.1967802066516283e-07, 'l2': 0.07820689351049417, 'gamma': 0.010011952582931333}. Best is trial 118 with value: 0.00612545654917489.\n"
     ]
    },
    {
     "name": "stderr",
     "output_type": "stream",
     "text": [
      "Best trial: 118. Best value: 0.00612546:  32%|███▏      | 95/300 [01:54<08:35,  2.51s/it, 114.42/10800 seconds]"
     ]
    },
    {
     "name": "stdout",
     "output_type": "stream",
     "text": [
      "[I 2025-06-27 15:39:39,180] Trial 166 finished with value: 0.007639195123172872 and parameters: {'lr': 0.01026067147190155, 'leaves': 34, 'depth': 5, 'min_leaf': 102, 'feat_frac': 0.8304126072290754, 'bag_frac': 0.4980699342448363, 'bag_freq': 1, 'l1': 2.1214320737048735e-07, 'l2': 1.3339633078352533, 'gamma': 0.09017700491535333}. Best is trial 118 with value: 0.00612545654917489.\n"
     ]
    },
    {
     "name": "stderr",
     "output_type": "stream",
     "text": [
      "Best trial: 118. Best value: 0.00612546:  32%|███▏      | 96/300 [01:55<06:40,  1.96s/it, 115.10/10800 seconds]"
     ]
    },
    {
     "name": "stdout",
     "output_type": "stream",
     "text": [
      "[I 2025-06-27 15:39:39,860] Trial 150 finished with value: 0.007194458947439124 and parameters: {'lr': 0.006120568014899845, 'leaves': 35, 'depth': 8, 'min_leaf': 27, 'feat_frac': 0.7764348563899682, 'bag_frac': 0.43813544195000886, 'bag_freq': 1, 'l1': 2.2850375805504387e-07, 'l2': 0.012561138957761259, 'gamma': 0.027830740975947905}. Best is trial 118 with value: 0.00612545654917489.\n"
     ]
    },
    {
     "name": "stderr",
     "output_type": "stream",
     "text": [
      "Best trial: 118. Best value: 0.00612546:  32%|███▏      | 97/300 [01:56<05:45,  1.70s/it, 116.20/10800 seconds]"
     ]
    },
    {
     "name": "stdout",
     "output_type": "stream",
     "text": [
      "[I 2025-06-27 15:39:40,961] Trial 161 finished with value: 0.006473353191106055 and parameters: {'lr': 0.011233882646887452, 'leaves': 134, 'depth': 4, 'min_leaf': 64, 'feat_frac': 0.8743405654223164, 'bag_frac': 0.8949687593186648, 'bag_freq': 9, 'l1': 0.061547469659570246, 'l2': 6.88492164915171e-05, 'gamma': 0.0024148406835922467}. Best is trial 118 with value: 0.00612545654917489.\n"
     ]
    },
    {
     "name": "stderr",
     "output_type": "stream",
     "text": [
      "Best trial: 118. Best value: 0.00612546:  33%|███▎      | 98/300 [01:57<04:55,  1.46s/it, 117.10/10800 seconds]"
     ]
    },
    {
     "name": "stdout",
     "output_type": "stream",
     "text": [
      "[I 2025-06-27 15:39:41,861] Trial 147 finished with value: 0.006754237269126215 and parameters: {'lr': 0.005617112863397861, 'leaves': 68, 'depth': 6, 'min_leaf': 28, 'feat_frac': 0.8567772071341521, 'bag_frac': 0.4456991862696007, 'bag_freq': 8, 'l1': 1.2766632460498236e-08, 'l2': 4.464457798134717, 'gamma': 0.11565421620525312}. Best is trial 118 with value: 0.00612545654917489.\n"
     ]
    },
    {
     "name": "stderr",
     "output_type": "stream",
     "text": [
      "Best trial: 118. Best value: 0.00612546:  33%|███▎      | 99/300 [01:58<04:33,  1.36s/it, 118.22/10800 seconds]"
     ]
    },
    {
     "name": "stdout",
     "output_type": "stream",
     "text": [
      "[I 2025-06-27 15:39:42,980] Trial 151 finished with value: 0.006867520790780289 and parameters: {'lr': 0.006207690548866359, 'leaves': 33, 'depth': 7, 'min_leaf': 30, 'feat_frac': 0.7142697411185104, 'bag_frac': 0.4183831748684531, 'bag_freq': 2, 'l1': 8.169118700148063e-07, 'l2': 0.4575162277046455, 'gamma': 0.07985109363630707}. Best is trial 118 with value: 0.00612545654917489.\n"
     ]
    },
    {
     "name": "stderr",
     "output_type": "stream",
     "text": [
      "Best trial: 118. Best value: 0.00612546:  33%|███▎      | 100/300 [02:00<05:05,  1.53s/it, 120.14/10800 seconds]"
     ]
    },
    {
     "name": "stdout",
     "output_type": "stream",
     "text": [
      "[I 2025-06-27 15:39:44,902] Trial 164 finished with value: 0.007726784258913231 and parameters: {'lr': 0.008990196143843974, 'leaves': 74, 'depth': 7, 'min_leaf': 78, 'feat_frac': 0.8869836532219544, 'bag_frac': 0.5274904831318707, 'bag_freq': 8, 'l1': 3.835788808662377e-08, 'l2': 0.26371202743258165, 'gamma': 0.15326369244902172}. Best is trial 118 with value: 0.00612545654917489.\n"
     ]
    },
    {
     "name": "stderr",
     "output_type": "stream",
     "text": [
      "Best trial: 118. Best value: 0.00612546:  34%|███▎      | 101/300 [02:04<07:56,  2.39s/it, 124.56/10800 seconds]"
     ]
    },
    {
     "name": "stdout",
     "output_type": "stream",
     "text": [
      "[I 2025-06-27 15:39:49,316] Trial 170 finished with value: 0.007142967984830706 and parameters: {'lr': 0.029380326557810976, 'leaves': 186, 'depth': 6, 'min_leaf': 42, 'feat_frac': 0.9594986561149288, 'bag_frac': 0.918722809545557, 'bag_freq': 5, 'l1': 1.9457898817559532e-07, 'l2': 0.0007718576206672205, 'gamma': 0.05477092578985177}. Best is trial 118 with value: 0.00612545654917489.\n"
     ]
    },
    {
     "name": "stderr",
     "output_type": "stream",
     "text": [
      "Best trial: 118. Best value: 0.00612546:  34%|███▍      | 102/300 [02:04<05:48,  1.76s/it, 124.83/10800 seconds]"
     ]
    },
    {
     "name": "stdout",
     "output_type": "stream",
     "text": [
      "[I 2025-06-27 15:39:49,594] Trial 171 finished with value: 0.00749379345038694 and parameters: {'lr': 0.02719782231235012, 'leaves': 246, 'depth': 4, 'min_leaf': 19, 'feat_frac': 0.801633538770174, 'bag_frac': 0.8476406750932308, 'bag_freq': 6, 'l1': 5.202923327787068e-05, 'l2': 0.00014084618021716164, 'gamma': 0.13604106347454706}. Best is trial 118 with value: 0.00612545654917489.\n"
     ]
    },
    {
     "name": "stderr",
     "output_type": "stream",
     "text": [
      "Best trial: 118. Best value: 0.00612546:  34%|███▍      | 103/300 [02:05<04:37,  1.41s/it, 125.43/10800 seconds]"
     ]
    },
    {
     "name": "stdout",
     "output_type": "stream",
     "text": [
      "[I 2025-06-27 15:39:50,189] Trial 146 finished with value: 0.0075033721174027615 and parameters: {'lr': 0.007315042050024947, 'leaves': 49, 'depth': 9, 'min_leaf': 21, 'feat_frac': 0.8745493349470979, 'bag_frac': 0.5006882544246488, 'bag_freq': 7, 'l1': 3.242441767712564e-08, 'l2': 0.31687516239083635, 'gamma': 0.028599513394529222}. Best is trial 118 with value: 0.00612545654917489.\n"
     ]
    },
    {
     "name": "stderr",
     "output_type": "stream",
     "text": [
      "Best trial: 118. Best value: 0.00612546:  35%|███▍      | 104/300 [02:07<05:37,  1.72s/it, 127.88/10800 seconds]"
     ]
    },
    {
     "name": "stdout",
     "output_type": "stream",
     "text": [
      "[I 2025-06-27 15:39:52,635] Trial 173 finished with value: 0.007980169491969396 and parameters: {'lr': 0.05090647073292097, 'leaves': 199, 'depth': 6, 'min_leaf': 59, 'feat_frac': 0.7813874579740879, 'bag_frac': 0.9232272232159925, 'bag_freq': 8, 'l1': 0.09263467739114825, 'l2': 0.02686938231736622, 'gamma': 0.023055110243764013}. Best is trial 118 with value: 0.00612545654917489.\n"
     ]
    },
    {
     "name": "stderr",
     "output_type": "stream",
     "text": [
      "Best trial: 118. Best value: 0.00612546:  35%|███▌      | 105/300 [02:08<04:22,  1.34s/it, 128.34/10800 seconds]"
     ]
    },
    {
     "name": "stdout",
     "output_type": "stream",
     "text": [
      "[I 2025-06-27 15:39:53,100] Trial 154 finished with value: 0.0075452427606267055 and parameters: {'lr': 0.006991304795782228, 'leaves': 47, 'depth': 8, 'min_leaf': 46, 'feat_frac': 0.7073796541677684, 'bag_frac': 0.41756975540651947, 'bag_freq': 5, 'l1': 8.317579859908618e-07, 'l2': 0.38838727774961196, 'gamma': 0.09427747536394206}. Best is trial 118 with value: 0.00612545654917489.\n"
     ]
    },
    {
     "name": "stderr",
     "output_type": "stream",
     "text": [
      "Best trial: 118. Best value: 0.00612546:  35%|███▌      | 106/300 [02:09<04:00,  1.24s/it, 129.33/10800 seconds]"
     ]
    },
    {
     "name": "stdout",
     "output_type": "stream",
     "text": [
      "[I 2025-06-27 15:39:54,093] Trial 175 finished with value: 0.006916846585911265 and parameters: {'lr': 0.029343502313193937, 'leaves': 248, 'depth': 4, 'min_leaf': 81, 'feat_frac': 0.7390640081150208, 'bag_frac': 0.8436227071437993, 'bag_freq': 14, 'l1': 0.06653541534247266, 'l2': 0.008939310216385273, 'gamma': 0.02542874453324757}. Best is trial 118 with value: 0.00612545654917489.\n"
     ]
    },
    {
     "name": "stderr",
     "output_type": "stream",
     "text": [
      "Best trial: 118. Best value: 0.00612546:  36%|███▌      | 107/300 [02:14<08:12,  2.55s/it, 134.95/10800 seconds]"
     ]
    },
    {
     "name": "stdout",
     "output_type": "stream",
     "text": [
      "[I 2025-06-27 15:39:59,704] Trial 182 finished with value: 0.006932303433682548 and parameters: {'lr': 0.04454905158160679, 'leaves': 154, 'depth': 4, 'min_leaf': 89, 'feat_frac': 0.9637259790260333, 'bag_frac': 0.7772992686360358, 'bag_freq': 9, 'l1': 0.11626184080031561, 'l2': 0.0037884681168390455, 'gamma': 0.017580908715940684}. Best is trial 118 with value: 0.00612545654917489.\n"
     ]
    },
    {
     "name": "stderr",
     "output_type": "stream",
     "text": [
      "Best trial: 118. Best value: 0.00612546:  36%|███▌      | 108/300 [02:17<07:53,  2.47s/it, 137.22/10800 seconds]"
     ]
    },
    {
     "name": "stdout",
     "output_type": "stream",
     "text": [
      "[I 2025-06-27 15:40:01,981] Trial 181 finished with value: 0.008061145233157986 and parameters: {'lr': 0.017521450921786915, 'leaves': 225, 'depth': 4, 'min_leaf': 156, 'feat_frac': 0.9209696191680993, 'bag_frac': 0.8894160986703828, 'bag_freq': 10, 'l1': 0.00045242977583573085, 'l2': 0.02581812910289519, 'gamma': 0.03548204245955705}. Best is trial 118 with value: 0.00612545654917489.\n"
     ]
    },
    {
     "name": "stderr",
     "output_type": "stream",
     "text": [
      "Best trial: 118. Best value: 0.00612546:  36%|███▋      | 109/300 [02:17<05:41,  1.79s/it, 137.41/10800 seconds]"
     ]
    },
    {
     "name": "stdout",
     "output_type": "stream",
     "text": [
      "[I 2025-06-27 15:40:02,173] Trial 172 finished with value: 0.007497114037499487 and parameters: {'lr': 0.010602370239548511, 'leaves': 216, 'depth': 5, 'min_leaf': 109, 'feat_frac': 0.8856090578450101, 'bag_frac': 0.9754888998307133, 'bag_freq': 7, 'l1': 0.059663564857699504, 'l2': 0.10861301019035477, 'gamma': 0.01810807823257074}. Best is trial 118 with value: 0.00612545654917489.\n"
     ]
    },
    {
     "name": "stderr",
     "output_type": "stream",
     "text": [
      "Best trial: 118. Best value: 0.00612546:  37%|███▋      | 110/300 [02:18<05:06,  1.61s/it, 138.62/10800 seconds]"
     ]
    },
    {
     "name": "stdout",
     "output_type": "stream",
     "text": [
      "[I 2025-06-27 15:40:03,379] Trial 156 finished with value: 0.007627012797126128 and parameters: {'lr': 0.005434739824433334, 'leaves': 88, 'depth': 8, 'min_leaf': 21, 'feat_frac': 0.9376852523659549, 'bag_frac': 0.5012889985504021, 'bag_freq': 6, 'l1': 7.654270950955741e-08, 'l2': 4.718060682093453, 'gamma': 0.05251740857761039}. Best is trial 118 with value: 0.00612545654917489.\n"
     ]
    },
    {
     "name": "stderr",
     "output_type": "stream",
     "text": [
      "Best trial: 118. Best value: 0.00612546:  37%|███▋      | 111/300 [02:21<05:53,  1.87s/it, 141.10/10800 seconds]"
     ]
    },
    {
     "name": "stdout",
     "output_type": "stream",
     "text": [
      "[I 2025-06-27 15:40:05,862] Trial 177 finished with value: 0.006721840600862485 and parameters: {'lr': 0.014574145147470113, 'leaves': 104, 'depth': 5, 'min_leaf': 101, 'feat_frac': 0.7881297127880823, 'bag_frac': 0.7764308082473277, 'bag_freq': 14, 'l1': 0.08999015006767544, 'l2': 2.013900433940594e-05, 'gamma': 0.022504560187589746}. Best is trial 118 with value: 0.00612545654917489.\n"
     ]
    },
    {
     "name": "stderr",
     "output_type": "stream",
     "text": [
      "Best trial: 118. Best value: 0.00612546:  37%|███▋      | 112/300 [02:21<04:17,  1.37s/it, 141.30/10800 seconds]"
     ]
    },
    {
     "name": "stdout",
     "output_type": "stream",
     "text": [
      "[I 2025-06-27 15:40:06,062] Trial 174 finished with value: 0.007623935008329703 and parameters: {'lr': 0.017843959138908922, 'leaves': 251, 'depth': 8, 'min_leaf': 50, 'feat_frac': 0.6521932116839695, 'bag_frac': 0.6300466167663046, 'bag_freq': 8, 'l1': 0.071027826501351, 'l2': 0.02983734483981547, 'gamma': 0.0032660906427121926}. Best is trial 118 with value: 0.00612545654917489.\n"
     ]
    },
    {
     "name": "stderr",
     "output_type": "stream",
     "text": [
      "Best trial: 118. Best value: 0.00612546:  38%|███▊      | 113/300 [02:22<04:03,  1.30s/it, 142.45/10800 seconds]"
     ]
    },
    {
     "name": "stdout",
     "output_type": "stream",
     "text": [
      "[I 2025-06-27 15:40:07,205] Trial 162 finished with value: 0.008263446474301694 and parameters: {'lr': 0.008583575451540133, 'leaves': 41, 'depth': 9, 'min_leaf': 19, 'feat_frac': 0.5571454169102124, 'bag_frac': 0.4372192719192523, 'bag_freq': 0, 'l1': 2.7835982347752635e-08, 'l2': 0.021475375324083428, 'gamma': 0.01917765494942965}. Best is trial 118 with value: 0.00612545654917489.\n"
     ]
    },
    {
     "name": "stderr",
     "output_type": "stream",
     "text": [
      "Best trial: 118. Best value: 0.00612546:  38%|███▊      | 114/300 [02:22<03:06,  1.00s/it, 142.74/10800 seconds]"
     ]
    },
    {
     "name": "stdout",
     "output_type": "stream",
     "text": [
      "[I 2025-06-27 15:40:07,497] Trial 188 finished with value: 0.008308594618397431 and parameters: {'lr': 0.014250781803881769, 'leaves': 67, 'depth': 13, 'min_leaf': 56, 'feat_frac': 0.5929755078441743, 'bag_frac': 0.6987475540964421, 'bag_freq': 10, 'l1': 1.59594142894019e-05, 'l2': 0.20334596764758464, 'gamma': 0.3697983656978915}. Best is trial 118 with value: 0.00612545654917489.\n"
     ]
    },
    {
     "name": "stderr",
     "output_type": "stream",
     "text": [
      "Best trial: 118. Best value: 0.00612546:  38%|███▊      | 115/300 [02:23<02:53,  1.07it/s, 143.52/10800 seconds]"
     ]
    },
    {
     "name": "stdout",
     "output_type": "stream",
     "text": [
      "[I 2025-06-27 15:40:08,282] Trial 189 finished with value: 0.007861339512025653 and parameters: {'lr': 0.019448286122105734, 'leaves': 32, 'depth': 12, 'min_leaf': 113, 'feat_frac': 0.5210844154069597, 'bag_frac': 0.7414307038174106, 'bag_freq': 9, 'l1': 0.0002487106295590425, 'l2': 0.000835160512177365, 'gamma': 0.35840102041019906}. Best is trial 118 with value: 0.00612545654917489.\n"
     ]
    },
    {
     "name": "stderr",
     "output_type": "stream",
     "text": [
      "Best trial: 118. Best value: 0.00612546:  39%|███▊      | 116/300 [02:27<05:58,  1.95s/it, 147.84/10800 seconds]"
     ]
    },
    {
     "name": "stdout",
     "output_type": "stream",
     "text": [
      "[I 2025-06-27 15:40:12,596] Trial 186 finished with value: 0.007248083630640864 and parameters: {'lr': 0.0204856101640975, 'leaves': 103, 'depth': 4, 'min_leaf': 78, 'feat_frac': 0.8262823604114264, 'bag_frac': 0.9910223171479855, 'bag_freq': 8, 'l1': 0.01704078962017571, 'l2': 0.0002119586164249934, 'gamma': 0.03626957528826907}. Best is trial 118 with value: 0.00612545654917489.\n"
     ]
    },
    {
     "name": "stderr",
     "output_type": "stream",
     "text": [
      "Best trial: 118. Best value: 0.00612546:  39%|███▉      | 117/300 [02:28<04:52,  1.60s/it, 148.63/10800 seconds]"
     ]
    },
    {
     "name": "stdout",
     "output_type": "stream",
     "text": [
      "[I 2025-06-27 15:40:13,387] Trial 190 finished with value: 0.007970489735097721 and parameters: {'lr': 0.012591238176931118, 'leaves': 33, 'depth': 13, 'min_leaf': 36, 'feat_frac': 0.6548509176854641, 'bag_frac': 0.752095130585182, 'bag_freq': 6, 'l1': 0.00049330652912742, 'l2': 0.14166914156601856, 'gamma': 0.28788133632430385}. Best is trial 118 with value: 0.00612545654917489.\n"
     ]
    },
    {
     "name": "stderr",
     "output_type": "stream",
     "text": [
      "Best trial: 118. Best value: 0.00612546:  39%|███▉      | 118/300 [02:29<04:30,  1.49s/it, 149.85/10800 seconds]"
     ]
    },
    {
     "name": "stdout",
     "output_type": "stream",
     "text": [
      "[I 2025-06-27 15:40:14,606] Trial 178 finished with value: 0.00733023350673535 and parameters: {'lr': 0.010265862386206179, 'leaves': 142, 'depth': 6, 'min_leaf': 57, 'feat_frac': 0.7171322498585527, 'bag_frac': 0.7932066484466234, 'bag_freq': 10, 'l1': 0.0588858703591616, 'l2': 0.006485297768159413, 'gamma': 0.03969839510537687}. Best is trial 118 with value: 0.00612545654917489.\n"
     ]
    },
    {
     "name": "stderr",
     "output_type": "stream",
     "text": [
      "Best trial: 118. Best value: 0.00612546:  40%|███▉      | 119/300 [02:30<03:44,  1.24s/it, 150.52/10800 seconds]"
     ]
    },
    {
     "name": "stdout",
     "output_type": "stream",
     "text": [
      "[I 2025-06-27 15:40:15,276] Trial 185 finished with value: 0.006944715517604092 and parameters: {'lr': 0.012054652942690295, 'leaves': 94, 'depth': 5, 'min_leaf': 60, 'feat_frac': 0.9232307309327399, 'bag_frac': 0.8538308082320372, 'bag_freq': 9, 'l1': 0.012979283575998823, 'l2': 3.893515646074377e-07, 'gamma': 0.06389673066365772}. Best is trial 118 with value: 0.00612545654917489.\n"
     ]
    },
    {
     "name": "stderr",
     "output_type": "stream",
     "text": [
      "Best trial: 118. Best value: 0.00612546:  40%|████      | 120/300 [02:35<06:40,  2.23s/it, 155.04/10800 seconds]"
     ]
    },
    {
     "name": "stdout",
     "output_type": "stream",
     "text": [
      "[I 2025-06-27 15:40:19,803] Trial 192 finished with value: 0.00809067746757286 and parameters: {'lr': 0.008623816770043525, 'leaves': 116, 'depth': 5, 'min_leaf': 64, 'feat_frac': 0.8632985600846362, 'bag_frac': 0.8301737045697116, 'bag_freq': 9, 'l1': 0.0709596197294786, 'l2': 3.79471100312309e-05, 'gamma': 0.017297290760789216}. Best is trial 118 with value: 0.00612545654917489.\n"
     ]
    },
    {
     "name": "stderr",
     "output_type": "stream",
     "text": [
      "Best trial: 118. Best value: 0.00612546:  40%|████      | 121/300 [02:37<06:40,  2.24s/it, 157.31/10800 seconds]"
     ]
    },
    {
     "name": "stdout",
     "output_type": "stream",
     "text": [
      "[I 2025-06-27 15:40:22,069] Trial 145 finished with value: 0.0077324506572594865 and parameters: {'lr': 0.00540437858414665, 'leaves': 211, 'depth': 6, 'min_leaf': 267, 'feat_frac': 0.6427731797073518, 'bag_frac': 0.7534543904676796, 'bag_freq': 7, 'l1': 1.2281885592979168e-06, 'l2': 6.03064789485953e-08, 'gamma': 0.05114288400524336}. Best is trial 118 with value: 0.00612545654917489.\n"
     ]
    },
    {
     "name": "stderr",
     "output_type": "stream",
     "text": [
      "Best trial: 118. Best value: 0.00612546:  41%|████      | 122/300 [02:38<05:32,  1.87s/it, 158.31/10800 seconds]"
     ]
    },
    {
     "name": "stdout",
     "output_type": "stream",
     "text": [
      "[I 2025-06-27 15:40:23,074] Trial 160 finished with value: 0.007225402929614423 and parameters: {'lr': 0.005523766630867386, 'leaves': 49, 'depth': 8, 'min_leaf': 68, 'feat_frac': 0.9956968580873773, 'bag_frac': 0.5191136664542941, 'bag_freq': 1, 'l1': 1.298945384716899e-07, 'l2': 2.737516079058086, 'gamma': 0.04199558649608863}. Best is trial 118 with value: 0.00612545654917489.\n"
     ]
    },
    {
     "name": "stderr",
     "output_type": "stream",
     "text": [
      "Best trial: 118. Best value: 0.00612546:  41%|████      | 123/300 [02:38<04:03,  1.38s/it, 158.55/10800 seconds]"
     ]
    },
    {
     "name": "stdout",
     "output_type": "stream",
     "text": [
      "[I 2025-06-27 15:40:23,306] Trial 168 finished with value: 0.008152109337305393 and parameters: {'lr': 0.005120591003349882, 'leaves': 38, 'depth': 9, 'min_leaf': 11, 'feat_frac': 0.7815705792066086, 'bag_frac': 0.4746860445085436, 'bag_freq': 3, 'l1': 7.697706794157762e-08, 'l2': 1.5824881096495322, 'gamma': 0.12449929169879405}. Best is trial 118 with value: 0.00612545654917489.\n"
     ]
    },
    {
     "name": "stderr",
     "output_type": "stream",
     "text": [
      "Best trial: 118. Best value: 0.00612546:  41%|████▏     | 124/300 [02:42<05:58,  2.03s/it, 162.11/10800 seconds]"
     ]
    },
    {
     "name": "stdout",
     "output_type": "stream",
     "text": [
      "[I 2025-06-27 15:40:26,873] Trial 180 finished with value: 0.007223729781230931 and parameters: {'lr': 0.00794997285367054, 'leaves': 43, 'depth': 5, 'min_leaf': 18, 'feat_frac': 0.9536814646635311, 'bag_frac': 0.4430857592450778, 'bag_freq': 6, 'l1': 4.9670197127746684e-08, 'l2': 2.8543372612347224, 'gamma': 0.14650459743056254}. Best is trial 118 with value: 0.00612545654917489.\n"
     ]
    },
    {
     "name": "stderr",
     "output_type": "stream",
     "text": [
      "Best trial: 118. Best value: 0.00612546:  42%|████▏     | 125/300 [02:42<04:29,  1.54s/it, 162.50/10800 seconds]"
     ]
    },
    {
     "name": "stdout",
     "output_type": "stream",
     "text": [
      "[I 2025-06-27 15:40:27,256] Trial 184 finished with value: 0.006952139480734089 and parameters: {'lr': 0.006360499095252282, 'leaves': 60, 'depth': 4, 'min_leaf': 61, 'feat_frac': 0.7454697172546083, 'bag_frac': 0.9552502087885494, 'bag_freq': 9, 'l1': 0.08824048139820379, 'l2': 0.0014460164605440027, 'gamma': 0.026124946561175217}. Best is trial 118 with value: 0.00612545654917489.\n"
     ]
    },
    {
     "name": "stderr",
     "output_type": "stream",
     "text": [
      "Best trial: 118. Best value: 0.00612546:  42%|████▏     | 126/300 [02:45<05:29,  1.89s/it, 165.21/10800 seconds]"
     ]
    },
    {
     "name": "stdout",
     "output_type": "stream",
     "text": [
      "[I 2025-06-27 15:40:29,966] Trial 165 finished with value: 0.00781754599303837 and parameters: {'lr': 0.0077233534543883625, 'leaves': 68, 'depth': 8, 'min_leaf': 42, 'feat_frac': 0.6298776648497435, 'bag_frac': 0.4762728468321613, 'bag_freq': 1, 'l1': 5.679189260909742e-07, 'l2': 0.23628049380825084, 'gamma': 0.10671762179310829}. Best is trial 118 with value: 0.00612545654917489.\n"
     ]
    },
    {
     "name": "stderr",
     "output_type": "stream",
     "text": [
      "Best trial: 118. Best value: 0.00612546:  42%|████▏     | 127/300 [02:52<10:09,  3.52s/it, 172.54/10800 seconds]"
     ]
    },
    {
     "name": "stdout",
     "output_type": "stream",
     "text": [
      "[I 2025-06-27 15:40:37,300] Trial 167 finished with value: 0.007888273718388182 and parameters: {'lr': 0.005471903771748391, 'leaves': 61, 'depth': 8, 'min_leaf': 25, 'feat_frac': 0.8893740919908585, 'bag_frac': 0.5908631780633966, 'bag_freq': 4, 'l1': 3.365999587628939e-06, 'l2': 1.5003422559959483, 'gamma': 0.10658917431205536}. Best is trial 118 with value: 0.00612545654917489.\n",
      "[I 2025-06-27 15:40:37,486] Trial 176 finished with value: 0.007879848887657168 and parameters: {'lr': 0.01782793863292247, 'leaves': 178, 'depth': 9, 'min_leaf': 35, 'feat_frac': 0.7764246056148646, 'bag_frac': 0.8969150737195947, 'bag_freq': 11, 'l1': 0.040601684253247734, 'l2': 0.13555672634976687, 'gamma': 0.02452003582423916}. Best is trial 118 with value: 0.00612545654917489.\n"
     ]
    },
    {
     "name": "stderr",
     "output_type": "stream",
     "text": [
      "Best trial: 118. Best value: 0.00612546:  43%|████▎     | 129/300 [02:52<05:14,  1.84s/it, 172.98/10800 seconds]"
     ]
    },
    {
     "name": "stdout",
     "output_type": "stream",
     "text": [
      "[I 2025-06-27 15:40:37,737] Trial 196 finished with value: 0.007295399372609436 and parameters: {'lr': 0.015246627501151555, 'leaves': 181, 'depth': 6, 'min_leaf': 78, 'feat_frac': 0.6960343931414184, 'bag_frac': 0.8412858716878964, 'bag_freq': 14, 'l1': 0.8687131862902893, 'l2': 1.006422647304882e-07, 'gamma': 0.04280052839286902}. Best is trial 118 with value: 0.00612545654917489.\n"
     ]
    },
    {
     "name": "stderr",
     "output_type": "stream",
     "text": [
      "Best trial: 118. Best value: 0.00612546:  43%|████▎     | 130/300 [02:54<04:35,  1.62s/it, 174.09/10800 seconds]"
     ]
    },
    {
     "name": "stdout",
     "output_type": "stream",
     "text": [
      "[I 2025-06-27 15:40:38,850] Trial 183 finished with value: 0.007507924697984417 and parameters: {'lr': 0.0067770143258749265, 'leaves': 148, 'depth': 4, 'min_leaf': 90, 'feat_frac': 0.743905865472534, 'bag_frac': 0.8160924730096558, 'bag_freq': 9, 'l1': 0.06489320138820821, 'l2': 2.288282826354236e-06, 'gamma': 0.06761137045085733}. Best is trial 118 with value: 0.00612545654917489.\n"
     ]
    },
    {
     "name": "stderr",
     "output_type": "stream",
     "text": [
      "Best trial: 118. Best value: 0.00612546:  44%|████▎     | 131/300 [02:57<05:44,  2.04s/it, 177.11/10800 seconds]"
     ]
    },
    {
     "name": "stdout",
     "output_type": "stream",
     "text": [
      "[I 2025-06-27 15:40:41,865] Trial 193 finished with value: 0.006974457204807446 and parameters: {'lr': 0.009445951084220758, 'leaves': 86, 'depth': 7, 'min_leaf': 51, 'feat_frac': 0.8217118064007365, 'bag_frac': 0.7223216359522363, 'bag_freq': 12, 'l1': 0.43912104643319444, 'l2': 5.238150517201186e-05, 'gamma': 0.06502553553539082}. Best is trial 118 with value: 0.00612545654917489.\n"
     ]
    },
    {
     "name": "stderr",
     "output_type": "stream",
     "text": [
      "Best trial: 118. Best value: 0.00612546:  44%|████▍     | 132/300 [02:57<04:17,  1.53s/it, 177.45/10800 seconds]"
     ]
    },
    {
     "name": "stdout",
     "output_type": "stream",
     "text": [
      "[I 2025-06-27 15:40:42,210] Trial 204 finished with value: 0.00720947389415554 and parameters: {'lr': 0.027974202079792995, 'leaves': 171, 'depth': 6, 'min_leaf': 116, 'feat_frac': 0.9121301156365036, 'bag_frac': 0.769937168536875, 'bag_freq': 4, 'l1': 0.0003032537856887509, 'l2': 2.525247353050981e-05, 'gamma': 0.016736621244273785}. Best is trial 118 with value: 0.00612545654917489.\n"
     ]
    },
    {
     "name": "stderr",
     "output_type": "stream",
     "text": [
      "Best trial: 118. Best value: 0.00612546:  44%|████▍     | 133/300 [02:57<03:24,  1.22s/it, 177.96/10800 seconds]"
     ]
    },
    {
     "name": "stdout",
     "output_type": "stream",
     "text": [
      "[I 2025-06-27 15:40:42,718] Trial 195 finished with value: 0.006992107965421381 and parameters: {'lr': 0.005603466224317779, 'leaves': 77, 'depth': 4, 'min_leaf': 17, 'feat_frac': 0.8845840139197145, 'bag_frac': 0.40149121033388735, 'bag_freq': 11, 'l1': 3.9436796485978866e-07, 'l2': 2.1547695857233045, 'gamma': 0.08288515075014369}. Best is trial 118 with value: 0.00612545654917489.\n"
     ]
    },
    {
     "name": "stderr",
     "output_type": "stream",
     "text": [
      "Best trial: 118. Best value: 0.00612546:  45%|████▍     | 134/300 [02:58<02:41,  1.03it/s, 178.35/10800 seconds]"
     ]
    },
    {
     "name": "stdout",
     "output_type": "stream",
     "text": [
      "[I 2025-06-27 15:40:43,105] Trial 169 finished with value: 0.0072883560206747295 and parameters: {'lr': 0.005040541356913041, 'leaves': 38, 'depth': 10, 'min_leaf': 22, 'feat_frac': 0.8066660422533951, 'bag_frac': 0.6838673296677661, 'bag_freq': 1, 'l1': 2.3770234057925596e-07, 'l2': 3.751865091757429, 'gamma': 0.14769323977927862}. Best is trial 118 with value: 0.00612545654917489.\n"
     ]
    },
    {
     "name": "stderr",
     "output_type": "stream",
     "text": [
      "Best trial: 118. Best value: 0.00612546:  45%|████▌     | 135/300 [02:59<03:06,  1.13s/it, 179.85/10800 seconds]"
     ]
    },
    {
     "name": "stdout",
     "output_type": "stream",
     "text": [
      "[I 2025-06-27 15:40:44,611] Trial 179 finished with value: 0.006630576089160833 and parameters: {'lr': 0.024308935767214695, 'leaves': 249, 'depth': 4, 'min_leaf': 125, 'feat_frac': 0.6022550285588135, 'bag_frac': 0.8806339124564404, 'bag_freq': 12, 'l1': 2.450811398938314, 'l2': 0.012955864151925024, 'gamma': 0.0340017359927929}. Best is trial 118 with value: 0.00612545654917489.\n"
     ]
    },
    {
     "name": "stderr",
     "output_type": "stream",
     "text": [
      "Best trial: 118. Best value: 0.00612546:  45%|████▌     | 136/300 [03:00<03:02,  1.11s/it, 180.92/10800 seconds]"
     ]
    },
    {
     "name": "stdout",
     "output_type": "stream",
     "text": [
      "[I 2025-06-27 15:40:45,677] Trial 213 finished with value: 0.008365010402031248 and parameters: {'lr': 0.033284958925754414, 'leaves': 35, 'depth': 10, 'min_leaf': 249, 'feat_frac': 0.9252469317497427, 'bag_frac': 0.6136685009613028, 'bag_freq': 13, 'l1': 5.1466108294095015e-08, 'l2': 1.25184236712686e-08, 'gamma': 0.34542564745635806}. Best is trial 118 with value: 0.00612545654917489.\n"
     ]
    },
    {
     "name": "stderr",
     "output_type": "stream",
     "text": [
      "Best trial: 118. Best value: 0.00612546:  46%|████▌     | 137/300 [03:01<02:41,  1.01it/s, 181.62/10800 seconds]"
     ]
    },
    {
     "name": "stdout",
     "output_type": "stream",
     "text": [
      "[I 2025-06-27 15:40:46,384] Trial 203 finished with value: 0.007983175572601713 and parameters: {'lr': 0.01194278140096147, 'leaves': 244, 'depth': 5, 'min_leaf': 103, 'feat_frac': 0.7112744664044265, 'bag_frac': 0.7202377616656531, 'bag_freq': 3, 'l1': 0.0007826002344723177, 'l2': 3.363917059298456e-08, 'gamma': 0.18663857258638633}. Best is trial 118 with value: 0.00612545654917489.\n"
     ]
    },
    {
     "name": "stderr",
     "output_type": "stream",
     "text": [
      "Best trial: 118. Best value: 0.00612546:  46%|████▌     | 138/300 [03:04<03:56,  1.46s/it, 184.17/10800 seconds]"
     ]
    },
    {
     "name": "stdout",
     "output_type": "stream",
     "text": [
      "[I 2025-06-27 15:40:48,932] Trial 208 finished with value: 0.0075861267635958995 and parameters: {'lr': 0.02686865401392277, 'leaves': 96, 'depth': 5, 'min_leaf': 150, 'feat_frac': 0.9262952156276634, 'bag_frac': 0.8472235779731965, 'bag_freq': 15, 'l1': 0.0214737221731704, 'l2': 2.1491777175562216e-06, 'gamma': 0.016866033852835548}. Best is trial 118 with value: 0.00612545654917489.\n"
     ]
    },
    {
     "name": "stderr",
     "output_type": "stream",
     "text": [
      "Best trial: 118. Best value: 0.00612546:  46%|████▋     | 139/300 [03:05<03:30,  1.31s/it, 185.13/10800 seconds]"
     ]
    },
    {
     "name": "stdout",
     "output_type": "stream",
     "text": [
      "[I 2025-06-27 15:40:49,890] Trial 187 finished with value: 0.007319738009354818 and parameters: {'lr': 0.007138330509103059, 'leaves': 77, 'depth': 5, 'min_leaf': 94, 'feat_frac': 0.7343468805692605, 'bag_frac': 0.7307516313815832, 'bag_freq': 11, 'l1': 0.1941440172989654, 'l2': 5.0840093872680585e-05, 'gamma': 0.07438386532119806}. Best is trial 118 with value: 0.00612545654917489.\n"
     ]
    },
    {
     "name": "stderr",
     "output_type": "stream",
     "text": [
      "Best trial: 118. Best value: 0.00612546:  47%|████▋     | 140/300 [03:05<03:03,  1.15s/it, 185.90/10800 seconds]"
     ]
    },
    {
     "name": "stdout",
     "output_type": "stream",
     "text": [
      "[I 2025-06-27 15:40:50,658] Trial 194 finished with value: 0.007204287981394132 and parameters: {'lr': 0.008013325350647455, 'leaves': 110, 'depth': 5, 'min_leaf': 32, 'feat_frac': 0.8526088148152486, 'bag_frac': 0.8934481261124463, 'bag_freq': 8, 'l1': 0.01443590940860113, 'l2': 9.047837535576257e-07, 'gamma': 0.043862973970739905}. Best is trial 118 with value: 0.00612545654917489.\n"
     ]
    },
    {
     "name": "stderr",
     "output_type": "stream",
     "text": [
      "Best trial: 118. Best value: 0.00612546:  47%|████▋     | 141/300 [03:08<04:19,  1.63s/it, 188.65/10800 seconds]"
     ]
    },
    {
     "name": "stdout",
     "output_type": "stream",
     "text": [
      "[I 2025-06-27 15:40:53,414] Trial 210 finished with value: 0.007414158785473145 and parameters: {'lr': 0.009356259076695283, 'leaves': 187, 'depth': 8, 'min_leaf': 284, 'feat_frac': 0.9437343497277767, 'bag_frac': 0.8935170380326471, 'bag_freq': 9, 'l1': 0.05431931160527134, 'l2': 0.003038103664315944, 'gamma': 0.16943188870392767}. Best is trial 118 with value: 0.00612545654917489.\n"
     ]
    },
    {
     "name": "stderr",
     "output_type": "stream",
     "text": [
      "Best trial: 118. Best value: 0.00612546:  47%|████▋     | 142/300 [03:08<03:15,  1.24s/it, 188.98/10800 seconds]"
     ]
    },
    {
     "name": "stdout",
     "output_type": "stream",
     "text": [
      "[I 2025-06-27 15:40:53,741] Trial 191 finished with value: 0.0070977283021153095 and parameters: {'lr': 0.006480497298362762, 'leaves': 135, 'depth': 5, 'min_leaf': 87, 'feat_frac': 0.718987342548173, 'bag_frac': 0.8253594871749576, 'bag_freq': 14, 'l1': 0.0017829021483787009, 'l2': 1.1240314865466086e-05, 'gamma': 0.07469957428859869}. Best is trial 118 with value: 0.00612545654917489.\n"
     ]
    },
    {
     "name": "stderr",
     "output_type": "stream",
     "text": [
      "Best trial: 118. Best value: 0.00612546:  48%|████▊     | 143/300 [03:12<05:18,  2.03s/it, 192.85/10800 seconds]"
     ]
    },
    {
     "name": "stdout",
     "output_type": "stream",
     "text": [
      "[I 2025-06-27 15:40:57,612] Trial 202 finished with value: 0.006478377379674958 and parameters: {'lr': 0.007060595244886116, 'leaves': 80, 'depth': 5, 'min_leaf': 17, 'feat_frac': 0.7728473196396672, 'bag_frac': 0.48579460841796346, 'bag_freq': 8, 'l1': 6.478776935994633e-08, 'l2': 1.4573035148442401, 'gamma': 0.10336099036697306}. Best is trial 118 with value: 0.00612545654917489.\n"
     ]
    },
    {
     "name": "stderr",
     "output_type": "stream",
     "text": [
      "Best trial: 118. Best value: 0.00612546:  48%|████▊     | 144/300 [03:13<04:30,  1.73s/it, 193.90/10800 seconds]"
     ]
    },
    {
     "name": "stdout",
     "output_type": "stream",
     "text": [
      "[I 2025-06-27 15:40:58,661] Trial 207 finished with value: 0.007486029681409115 and parameters: {'lr': 0.018573435260767948, 'leaves': 89, 'depth': 8, 'min_leaf': 97, 'feat_frac': 0.7035811694140871, 'bag_frac': 0.8562695035033427, 'bag_freq': 13, 'l1': 2.4569241976006597, 'l2': 1.142206554775112e-05, 'gamma': 0.02484334253055924}. Best is trial 118 with value: 0.00612545654917489.\n"
     ]
    },
    {
     "name": "stderr",
     "output_type": "stream",
     "text": [
      "Best trial: 118. Best value: 0.00612546:  48%|████▊     | 145/300 [03:17<05:43,  2.21s/it, 197.23/10800 seconds]"
     ]
    },
    {
     "name": "stdout",
     "output_type": "stream",
     "text": [
      "[I 2025-06-27 15:41:01,991] Trial 205 finished with value: 0.007340458895473089 and parameters: {'lr': 0.011648148331432098, 'leaves': 229, 'depth': 5, 'min_leaf': 117, 'feat_frac': 0.6164308971130508, 'bag_frac': 0.9311591792726325, 'bag_freq': 1, 'l1': 7.002828652592034e-07, 'l2': 7.720878812616956e-07, 'gamma': 0.18190682066294295}. Best is trial 118 with value: 0.00612545654917489.\n"
     ]
    },
    {
     "name": "stderr",
     "output_type": "stream",
     "text": [
      "Best trial: 118. Best value: 0.00612546:  49%|████▊     | 146/300 [03:17<04:11,  1.64s/it, 197.44/10800 seconds]"
     ]
    },
    {
     "name": "stdout",
     "output_type": "stream",
     "text": [
      "[I 2025-06-27 15:41:02,199] Trial 222 finished with value: 0.007281815940049564 and parameters: {'lr': 0.023039786179817008, 'leaves': 41, 'depth': 11, 'min_leaf': 60, 'feat_frac': 0.6836436043784553, 'bag_frac': 0.5231510956859996, 'bag_freq': 2, 'l1': 5.502919860995865e-06, 'l2': 1.0914724395204023, 'gamma': 0.3530537422020277}. Best is trial 118 with value: 0.00612545654917489.\n"
     ]
    },
    {
     "name": "stderr",
     "output_type": "stream",
     "text": [
      "Best trial: 118. Best value: 0.00612546:  49%|████▉     | 147/300 [03:19<04:16,  1.67s/it, 199.28/10800 seconds]"
     ]
    },
    {
     "name": "stdout",
     "output_type": "stream",
     "text": [
      "[I 2025-06-27 15:41:04,043] Trial 211 finished with value: 0.007587892102631561 and parameters: {'lr': 0.03134593313063796, 'leaves': 76, 'depth': 7, 'min_leaf': 79, 'feat_frac': 0.723984263129192, 'bag_frac': 0.6564523096263251, 'bag_freq': 13, 'l1': 0.00044737651797638735, 'l2': 0.0006531922616548995, 'gamma': 0.02582563047625369}. Best is trial 118 with value: 0.00612545654917489.\n"
     ]
    },
    {
     "name": "stderr",
     "output_type": "stream",
     "text": [
      "Best trial: 118. Best value: 0.00612546:  49%|████▉     | 148/300 [03:20<04:09,  1.64s/it, 200.85/10800 seconds]"
     ]
    },
    {
     "name": "stdout",
     "output_type": "stream",
     "text": [
      "[I 2025-06-27 15:41:05,606] Trial 216 finished with value: 0.0067438571590842196 and parameters: {'lr': 0.023699657674655695, 'leaves': 174, 'depth': 4, 'min_leaf': 127, 'feat_frac': 0.5524266660783632, 'bag_frac': 0.8831801853105619, 'bag_freq': 9, 'l1': 2.236433065132082, 'l2': 0.14907934027583766, 'gamma': 0.031108603508843532}. Best is trial 118 with value: 0.00612545654917489.\n"
     ]
    },
    {
     "name": "stderr",
     "output_type": "stream",
     "text": [
      "Best trial: 118. Best value: 0.00612546:  50%|█████     | 150/300 [03:22<03:48,  1.52s/it, 202.16/10800 seconds]"
     ]
    },
    {
     "name": "stdout",
     "output_type": "stream",
     "text": [
      "[I 2025-06-27 15:41:06,859] Trial 212 finished with value: 0.00729340422409101 and parameters: {'lr': 0.024967467186622877, 'leaves': 94, 'depth': 4, 'min_leaf': 31, 'feat_frac': 0.7322697619856826, 'bag_frac': 0.7160478141510331, 'bag_freq': 13, 'l1': 0.03386380094363099, 'l2': 0.0001084697771237362, 'gamma': 0.04236551989916121}. Best is trial 118 with value: 0.00612545654917489.\n",
      "[I 2025-06-27 15:41:06,918] Trial 223 finished with value: 0.007480194592159243 and parameters: {'lr': 0.028941527988548217, 'leaves': 56, 'depth': 5, 'min_leaf': 126, 'feat_frac': 0.5158459424196571, 'bag_frac': 0.41630325887226965, 'bag_freq': 11, 'l1': 0.788042869310272, 'l2': 0.2824198833049058, 'gamma': 0.12055038835142844}. Best is trial 118 with value: 0.00612545654917489.\n"
     ]
    },
    {
     "name": "stderr",
     "output_type": "stream",
     "text": [
      "Best trial: 118. Best value: 0.00612546:  50%|█████     | 151/300 [03:24<03:37,  1.46s/it, 204.86/10800 seconds]"
     ]
    },
    {
     "name": "stdout",
     "output_type": "stream",
     "text": [
      "[I 2025-06-27 15:41:09,615] Trial 201 finished with value: 0.007892072141250423 and parameters: {'lr': 0.0054855722849714425, 'leaves': 67, 'depth': 6, 'min_leaf': 7, 'feat_frac': 0.7429282421980227, 'bag_frac': 0.4409755465652204, 'bag_freq': 11, 'l1': 1.2989799393058416e-07, 'l2': 0.5332194780295798, 'gamma': 0.18496725731721342}. Best is trial 118 with value: 0.00612545654917489.\n"
     ]
    },
    {
     "name": "stderr",
     "output_type": "stream",
     "text": [
      "Best trial: 118. Best value: 0.00612546:  51%|█████     | 152/300 [03:25<02:57,  1.20s/it, 205.27/10800 seconds]"
     ]
    },
    {
     "name": "stdout",
     "output_type": "stream",
     "text": [
      "[I 2025-06-27 15:41:10,025] Trial 206 finished with value: 0.008211256143216047 and parameters: {'lr': 0.012457750872187898, 'leaves': 205, 'depth': 6, 'min_leaf': 280, 'feat_frac': 0.6214340110527111, 'bag_frac': 0.9677578675334559, 'bag_freq': 9, 'l1': 0.007962094547469028, 'l2': 8.732095175106072e-05, 'gamma': 0.03521616491933464}. Best is trial 118 with value: 0.00612545654917489.\n"
     ]
    },
    {
     "name": "stderr",
     "output_type": "stream",
     "text": [
      "Best trial: 118. Best value: 0.00612546:  51%|█████     | 153/300 [03:25<02:35,  1.06s/it, 205.93/10800 seconds]"
     ]
    },
    {
     "name": "stdout",
     "output_type": "stream",
     "text": [
      "[I 2025-06-27 15:41:10,685] Trial 198 finished with value: 0.007268801833229438 and parameters: {'lr': 0.013888886610966003, 'leaves': 201, 'depth': 12, 'min_leaf': 18, 'feat_frac': 0.8185662614464995, 'bag_frac': 0.770449102202507, 'bag_freq': 2, 'l1': 0.0001242674776610628, 'l2': 3.7685365015156294e-06, 'gamma': 0.0551322404094525}. Best is trial 118 with value: 0.00612545654917489.\n"
     ]
    },
    {
     "name": "stderr",
     "output_type": "stream",
     "text": [
      "Best trial: 118. Best value: 0.00612546:  51%|█████▏    | 154/300 [03:26<02:16,  1.07it/s, 206.54/10800 seconds]"
     ]
    },
    {
     "name": "stdout",
     "output_type": "stream",
     "text": [
      "[I 2025-06-27 15:41:11,303] Trial 214 finished with value: 0.0077782447599634725 and parameters: {'lr': 0.015204244471623453, 'leaves': 190, 'depth': 5, 'min_leaf': 46, 'feat_frac': 0.5095902442397948, 'bag_frac': 0.8830971003042393, 'bag_freq': 12, 'l1': 3.9933972183828295, 'l2': 0.0009549378724930114, 'gamma': 0.028105550101127596}. Best is trial 118 with value: 0.00612545654917489.\n"
     ]
    },
    {
     "name": "stderr",
     "output_type": "stream",
     "text": [
      "Best trial: 118. Best value: 0.00612546:  52%|█████▏    | 155/300 [03:27<02:07,  1.13it/s, 207.28/10800 seconds]"
     ]
    },
    {
     "name": "stdout",
     "output_type": "stream",
     "text": [
      "[I 2025-06-27 15:41:12,043] Trial 199 finished with value: 0.007495548125350594 and parameters: {'lr': 0.007447060149838445, 'leaves': 154, 'depth': 7, 'min_leaf': 87, 'feat_frac': 0.7413621381308946, 'bag_frac': 0.6717590967326251, 'bag_freq': 15, 'l1': 0.0327336023115007, 'l2': 9.684757972139422e-06, 'gamma': 0.07945949901723469}. Best is trial 118 with value: 0.00612545654917489.\n"
     ]
    },
    {
     "name": "stderr",
     "output_type": "stream",
     "text": [
      "Best trial: 118. Best value: 0.00612546:  52%|█████▏    | 156/300 [03:28<02:36,  1.09s/it, 208.88/10800 seconds]"
     ]
    },
    {
     "name": "stdout",
     "output_type": "stream",
     "text": [
      "[I 2025-06-27 15:41:13,642] Trial 219 finished with value: 0.006670577911008374 and parameters: {'lr': 0.018397561135060202, 'leaves': 184, 'depth': 4, 'min_leaf': 163, 'feat_frac': 0.6329955799931306, 'bag_frac': 0.8807321060556738, 'bag_freq': 8, 'l1': 1.599416307615159, 'l2': 0.11244953733690366, 'gamma': 0.03481357709348163}. Best is trial 118 with value: 0.00612545654917489.\n"
     ]
    },
    {
     "name": "stderr",
     "output_type": "stream",
     "text": [
      "Best trial: 118. Best value: 0.00612546:  52%|█████▏    | 157/300 [03:29<02:16,  1.04it/s, 209.52/10800 seconds]"
     ]
    },
    {
     "name": "stdout",
     "output_type": "stream",
     "text": [
      "[I 2025-06-27 15:41:14,282] Trial 218 finished with value: 0.008555396085392509 and parameters: {'lr': 0.02703211820334729, 'leaves': 195, 'depth': 4, 'min_leaf': 260, 'feat_frac': 0.5246500009297772, 'bag_frac': 0.8964841791586711, 'bag_freq': 9, 'l1': 0.081373758152222, 'l2': 0.0008071496381723827, 'gamma': 0.05973451031403603}. Best is trial 118 with value: 0.00612545654917489.\n"
     ]
    },
    {
     "name": "stderr",
     "output_type": "stream",
     "text": [
      "Best trial: 118. Best value: 0.00612546:  53%|█████▎    | 158/300 [03:29<01:51,  1.27it/s, 209.89/10800 seconds]"
     ]
    },
    {
     "name": "stdout",
     "output_type": "stream",
     "text": [
      "[I 2025-06-27 15:41:14,654] Trial 209 finished with value: 0.007756757334354193 and parameters: {'lr': 0.011780993169048112, 'leaves': 36, 'depth': 7, 'min_leaf': 16, 'feat_frac': 0.5851175392095539, 'bag_frac': 0.4767535620446732, 'bag_freq': 1, 'l1': 6.854805111793578e-05, 'l2': 1.2338155349174353, 'gamma': 0.14374353157449152}. Best is trial 118 with value: 0.00612545654917489.\n"
     ]
    },
    {
     "name": "stderr",
     "output_type": "stream",
     "text": [
      "Best trial: 118. Best value: 0.00612546:  53%|█████▎    | 159/300 [03:31<02:24,  1.03s/it, 211.50/10800 seconds]"
     ]
    },
    {
     "name": "stdout",
     "output_type": "stream",
     "text": [
      "[I 2025-06-27 15:41:16,257] Trial 234 finished with value: 0.007577889655740789 and parameters: {'lr': 0.07879434121897143, 'leaves': 143, 'depth': 4, 'min_leaf': 119, 'feat_frac': 0.4575776949971712, 'bag_frac': 0.9598350948566676, 'bag_freq': 15, 'l1': 3.696143703861504, 'l2': 0.0010513787303880588, 'gamma': 0.07242273901852826}. Best is trial 118 with value: 0.00612545654917489.\n"
     ]
    },
    {
     "name": "stderr",
     "output_type": "stream",
     "text": [
      "Best trial: 118. Best value: 0.00612546:  53%|█████▎    | 160/300 [03:32<02:03,  1.13it/s, 212.05/10800 seconds]"
     ]
    },
    {
     "name": "stdout",
     "output_type": "stream",
     "text": [
      "[I 2025-06-27 15:41:16,807] Trial 215 finished with value: 0.0070926313697151615 and parameters: {'lr': 0.010008493573189517, 'leaves': 217, 'depth': 6, 'min_leaf': 56, 'feat_frac': 0.7935302370507505, 'bag_frac': 0.7398293695338309, 'bag_freq': 0, 'l1': 3.314333275814226e-05, 'l2': 2.4292189996594687e-08, 'gamma': 0.004040262611226697}. Best is trial 118 with value: 0.00612545654917489.\n"
     ]
    },
    {
     "name": "stderr",
     "output_type": "stream",
     "text": [
      "Best trial: 118. Best value: 0.00612546:  54%|█████▎    | 161/300 [03:35<03:36,  1.56s/it, 215.19/10800 seconds]"
     ]
    },
    {
     "name": "stdout",
     "output_type": "stream",
     "text": [
      "[I 2025-06-27 15:41:19,944] Trial 233 finished with value: 0.007288861069002636 and parameters: {'lr': 0.05146422171830874, 'leaves': 207, 'depth': 6, 'min_leaf': 287, 'feat_frac': 0.6038890649941063, 'bag_frac': 0.8419364711651913, 'bag_freq': 8, 'l1': 0.742543922410438, 'l2': 0.0007239652922497022, 'gamma': 0.012913201847068834}. Best is trial 118 with value: 0.00612545654917489.\n"
     ]
    },
    {
     "name": "stderr",
     "output_type": "stream",
     "text": [
      "Best trial: 118. Best value: 0.00612546:  54%|█████▍    | 162/300 [03:35<02:48,  1.22s/it, 215.63/10800 seconds]"
     ]
    },
    {
     "name": "stdout",
     "output_type": "stream",
     "text": [
      "[I 2025-06-27 15:41:20,385] Trial 239 finished with value: 0.007377333204559671 and parameters: {'lr': 0.01976093141513793, 'leaves': 113, 'depth': 4, 'min_leaf': 236, 'feat_frac': 0.7071696231181552, 'bag_frac': 0.8646326690318148, 'bag_freq': 6, 'l1': 4.7336698875497705, 'l2': 0.035202694142557306, 'gamma': 0.18434880982312782}. Best is trial 118 with value: 0.00612545654917489.\n"
     ]
    },
    {
     "name": "stderr",
     "output_type": "stream",
     "text": [
      "Best trial: 118. Best value: 0.00612546:  54%|█████▍    | 163/300 [03:36<02:19,  1.02s/it, 216.17/10800 seconds]"
     ]
    },
    {
     "name": "stdout",
     "output_type": "stream",
     "text": [
      "[I 2025-06-27 15:41:20,930] Trial 228 finished with value: 0.008120166451258303 and parameters: {'lr': 0.03516605394555662, 'leaves': 171, 'depth': 7, 'min_leaf': 185, 'feat_frac': 0.48607515630309567, 'bag_frac': 0.8879556439994054, 'bag_freq': 8, 'l1': 0.04748504396008292, 'l2': 0.006358985938509395, 'gamma': 0.04465747864681764}. Best is trial 118 with value: 0.00612545654917489.\n"
     ]
    },
    {
     "name": "stderr",
     "output_type": "stream",
     "text": [
      "Best trial: 118. Best value: 0.00612546:  55%|█████▍    | 164/300 [03:36<01:57,  1.15it/s, 216.68/10800 seconds]"
     ]
    },
    {
     "name": "stdout",
     "output_type": "stream",
     "text": [
      "[I 2025-06-27 15:41:21,438] Trial 227 finished with value: 0.0069027852445668276 and parameters: {'lr': 0.013883756852901963, 'leaves': 200, 'depth': 4, 'min_leaf': 103, 'feat_frac': 0.5468753217856289, 'bag_frac': 0.8071359893044882, 'bag_freq': 13, 'l1': 4.140378156669044, 'l2': 1.0867375753424384, 'gamma': 0.0716866709354397}. Best is trial 118 with value: 0.00612545654917489.\n"
     ]
    },
    {
     "name": "stderr",
     "output_type": "stream",
     "text": [
      "Best trial: 118. Best value: 0.00612546:  55%|█████▌    | 165/300 [03:42<05:00,  2.23s/it, 222.09/10800 seconds]"
     ]
    },
    {
     "name": "stdout",
     "output_type": "stream",
     "text": [
      "[I 2025-06-27 15:41:26,848] Trial 229 finished with value: 0.008068987037253566 and parameters: {'lr': 0.021198469495754813, 'leaves': 141, 'depth': 6, 'min_leaf': 152, 'feat_frac': 0.4868207329819357, 'bag_frac': 0.8936970645384396, 'bag_freq': 6, 'l1': 0.03759974362870087, 'l2': 0.004704688251029685, 'gamma': 0.09071285449711827}. Best is trial 118 with value: 0.00612545654917489.\n"
     ]
    },
    {
     "name": "stderr",
     "output_type": "stream",
     "text": [
      "Best trial: 118. Best value: 0.00612546:  55%|█████▌    | 166/300 [03:45<05:46,  2.59s/it, 225.51/10800 seconds]"
     ]
    },
    {
     "name": "stdout",
     "output_type": "stream",
     "text": [
      "[I 2025-06-27 15:41:30,274] Trial 235 finished with value: 0.008137188418233602 and parameters: {'lr': 0.028465984621892322, 'leaves': 202, 'depth': 4, 'min_leaf': 102, 'feat_frac': 0.5481686918693511, 'bag_frac': 0.7852875216164584, 'bag_freq': 9, 'l1': 0.16151240110608772, 'l2': 1.5962978859403525, 'gamma': 0.04863378021005093}. Best is trial 118 with value: 0.00612545654917489.\n"
     ]
    },
    {
     "name": "stderr",
     "output_type": "stream",
     "text": [
      "Best trial: 118. Best value: 0.00612546:  56%|█████▌    | 167/300 [03:46<04:32,  2.05s/it, 226.30/10800 seconds]"
     ]
    },
    {
     "name": "stdout",
     "output_type": "stream",
     "text": [
      "[I 2025-06-27 15:41:31,059] Trial 238 finished with value: 0.008064109495890164 and parameters: {'lr': 0.0675591054975334, 'leaves': 191, 'depth': 4, 'min_leaf': 242, 'feat_frac': 0.6477402800058368, 'bag_frac': 0.8364923809382048, 'bag_freq': 10, 'l1': 0.7664872264052656, 'l2': 0.6189590712225199, 'gamma': 0.02852488659482483}. Best is trial 118 with value: 0.00612545654917489.\n"
     ]
    },
    {
     "name": "stderr",
     "output_type": "stream",
     "text": [
      "Best trial: 118. Best value: 0.00612546:  56%|█████▌    | 168/300 [03:46<03:18,  1.50s/it, 226.53/10800 seconds]"
     ]
    },
    {
     "name": "stdout",
     "output_type": "stream",
     "text": [
      "[I 2025-06-27 15:41:31,285] Trial 236 finished with value: 0.00779570828932893 and parameters: {'lr': 0.007750532387526036, 'leaves': 152, 'depth': 5, 'min_leaf': 131, 'feat_frac': 0.49146886261106965, 'bag_frac': 0.9964649277516037, 'bag_freq': 9, 'l1': 1.8956105972543054, 'l2': 0.22191810138419393, 'gamma': 0.1630647852723825}. Best is trial 118 with value: 0.00612545654917489.\n"
     ]
    },
    {
     "name": "stderr",
     "output_type": "stream",
     "text": [
      "Best trial: 118. Best value: 0.00612546:  56%|█████▋    | 169/300 [03:48<03:15,  1.49s/it, 228.00/10800 seconds]"
     ]
    },
    {
     "name": "stdout",
     "output_type": "stream",
     "text": [
      "[I 2025-06-27 15:41:32,755] Trial 197 finished with value: 0.00853603739684078 and parameters: {'lr': 0.005924854466001611, 'leaves': 84, 'depth': 8, 'min_leaf': 42, 'feat_frac': 0.7128253466739626, 'bag_frac': 0.7584777636196395, 'bag_freq': 15, 'l1': 0.02647307927413141, 'l2': 3.352252513178726e-08, 'gamma': 0.016881077890853514}. Best is trial 118 with value: 0.00612545654917489.\n"
     ]
    },
    {
     "name": "stderr",
     "output_type": "stream",
     "text": [
      "Best trial: 118. Best value: 0.00612546:  57%|█████▋    | 170/300 [03:49<03:11,  1.47s/it, 229.43/10800 seconds]"
     ]
    },
    {
     "name": "stdout",
     "output_type": "stream",
     "text": [
      "[I 2025-06-27 15:41:34,186] Trial 230 finished with value: 0.006941835305145334 and parameters: {'lr': 0.044466412910586825, 'leaves': 184, 'depth': 5, 'min_leaf': 55, 'feat_frac': 0.546694367965106, 'bag_frac': 0.8993311113032822, 'bag_freq': 7, 'l1': 2.0422093964168035, 'l2': 4.514356760764481, 'gamma': 0.0650730134667188}. Best is trial 118 with value: 0.00612545654917489.\n"
     ]
    },
    {
     "name": "stderr",
     "output_type": "stream",
     "text": [
      "Best trial: 118. Best value: 0.00612546:  57%|█████▋    | 171/300 [03:50<02:48,  1.31s/it, 230.35/10800 seconds]"
     ]
    },
    {
     "name": "stdout",
     "output_type": "stream",
     "text": [
      "[I 2025-06-27 15:41:35,109] Trial 224 finished with value: 0.007298291018849459 and parameters: {'lr': 0.0064840838038595205, 'leaves': 190, 'depth': 5, 'min_leaf': 34, 'feat_frac': 0.7816388970324023, 'bag_frac': 0.4535040174261564, 'bag_freq': 5, 'l1': 4.905298761952227e-08, 'l2': 0.013016189376802068, 'gamma': 0.187551415127828}. Best is trial 118 with value: 0.00612545654917489.\n"
     ]
    },
    {
     "name": "stderr",
     "output_type": "stream",
     "text": [
      "Best trial: 118. Best value: 0.00612546:  57%|█████▋    | 172/300 [03:51<02:44,  1.28s/it, 231.58/10800 seconds]"
     ]
    },
    {
     "name": "stdout",
     "output_type": "stream",
     "text": [
      "[I 2025-06-27 15:41:36,336] Trial 200 finished with value: 0.007739582692964333 and parameters: {'lr': 0.006080192279187063, 'leaves': 175, 'depth': 12, 'min_leaf': 37, 'feat_frac': 0.8905477254534331, 'bag_frac': 0.7113497299290648, 'bag_freq': 0, 'l1': 5.9077426223073646e-06, 'l2': 0.0406211062316047, 'gamma': 0.0438556625315447}. Best is trial 118 with value: 0.00612545654917489.\n"
     ]
    },
    {
     "name": "stderr",
     "output_type": "stream",
     "text": [
      "Best trial: 118. Best value: 0.00612546:  58%|█████▊    | 173/300 [03:53<03:18,  1.56s/it, 233.79/10800 seconds]"
     ]
    },
    {
     "name": "stdout",
     "output_type": "stream",
     "text": [
      "[I 2025-06-27 15:41:38,550] Trial 246 finished with value: 0.007972678936286526 and parameters: {'lr': 0.029967003366722787, 'leaves': 76, 'depth': 10, 'min_leaf': 258, 'feat_frac': 0.7400587221244788, 'bag_frac': 0.601926801079313, 'bag_freq': 7, 'l1': 0.21722222687914616, 'l2': 0.5328155695711557, 'gamma': 0.1002124343641943}. Best is trial 118 with value: 0.00612545654917489.\n"
     ]
    },
    {
     "name": "stderr",
     "output_type": "stream",
     "text": [
      "Best trial: 118. Best value: 0.00612546:  58%|█████▊    | 174/300 [03:55<03:09,  1.50s/it, 235.16/10800 seconds]"
     ]
    },
    {
     "name": "stdout",
     "output_type": "stream",
     "text": [
      "[I 2025-06-27 15:41:39,918] Trial 231 finished with value: 0.007579015977985042 and parameters: {'lr': 0.02093293501741779, 'leaves': 131, 'depth': 4, 'min_leaf': 120, 'feat_frac': 0.451360372594528, 'bag_frac': 0.8903548200308435, 'bag_freq': 10, 'l1': 0.423967266776222, 'l2': 0.04652819794110333, 'gamma': 0.08916160456293953}. Best is trial 118 with value: 0.00612545654917489.\n"
     ]
    },
    {
     "name": "stderr",
     "output_type": "stream",
     "text": [
      "Best trial: 118. Best value: 0.00612546:  58%|█████▊    | 175/300 [04:00<05:20,  2.57s/it, 240.20/10800 seconds]"
     ]
    },
    {
     "name": "stdout",
     "output_type": "stream",
     "text": [
      "[I 2025-06-27 15:41:44,960] Trial 241 finished with value: 0.008311930838337379 and parameters: {'lr': 0.007035519575022966, 'leaves': 65, 'depth': 6, 'min_leaf': 23, 'feat_frac': 0.7545548660223582, 'bag_frac': 0.7257564415522229, 'bag_freq': 8, 'l1': 4.9523834672491625e-08, 'l2': 0.20353688065156086, 'gamma': 0.14222370360486164}. Best is trial 118 with value: 0.00612545654917489.\n"
     ]
    },
    {
     "name": "stderr",
     "output_type": "stream",
     "text": [
      "Best trial: 118. Best value: 0.00612546:  59%|█████▊    | 176/300 [04:04<06:05,  2.95s/it, 244.04/10800 seconds]"
     ]
    },
    {
     "name": "stdout",
     "output_type": "stream",
     "text": [
      "[I 2025-06-27 15:41:48,796] Trial 251 finished with value: 0.008313864167657725 and parameters: {'lr': 0.042266530441520705, 'leaves': 58, 'depth': 9, 'min_leaf': 237, 'feat_frac': 0.8338961960309621, 'bag_frac': 0.512691163560294, 'bag_freq': 10, 'l1': 6.324664068928985e-05, 'l2': 0.8618607907750736, 'gamma': 0.06894271783469175}. Best is trial 118 with value: 0.00612545654917489.\n"
     ]
    },
    {
     "name": "stderr",
     "output_type": "stream",
     "text": [
      "Best trial: 118. Best value: 0.00612546:  59%|█████▉    | 177/300 [04:05<04:50,  2.36s/it, 245.02/10800 seconds]"
     ]
    },
    {
     "name": "stdout",
     "output_type": "stream",
     "text": [
      "[I 2025-06-27 15:41:49,783] Trial 243 finished with value: 0.006944788515592479 and parameters: {'lr': 0.008182610950152438, 'leaves': 197, 'depth': 4, 'min_leaf': 245, 'feat_frac': 0.8040265097695298, 'bag_frac': 0.7764040963803349, 'bag_freq': 4, 'l1': 0.02029495654717951, 'l2': 0.00017425273312225223, 'gamma': 0.08227705149028487}. Best is trial 118 with value: 0.00612545654917489.\n"
     ]
    },
    {
     "name": "stderr",
     "output_type": "stream",
     "text": [
      "Best trial: 118. Best value: 0.00612546:  59%|█████▉    | 178/300 [04:06<03:58,  1.95s/it, 246.03/10800 seconds]"
     ]
    },
    {
     "name": "stdout",
     "output_type": "stream",
     "text": [
      "[I 2025-06-27 15:41:50,794] Trial 220 finished with value: 0.006894243251938774 and parameters: {'lr': 0.011254168673405852, 'leaves': 209, 'depth': 11, 'min_leaf': 39, 'feat_frac': 0.749073524925767, 'bag_frac': 0.6812732061414717, 'bag_freq': 1, 'l1': 3.1517454831378186e-08, 'l2': 0.005103022262342816, 'gamma': 0.14415382248390154}. Best is trial 118 with value: 0.00612545654917489.\n"
     ]
    },
    {
     "name": "stderr",
     "output_type": "stream",
     "text": [
      "Best trial: 118. Best value: 0.00612546:  60%|█████▉    | 179/300 [04:07<03:28,  1.72s/it, 247.21/10800 seconds]"
     ]
    },
    {
     "name": "stdout",
     "output_type": "stream",
     "text": [
      "[I 2025-06-27 15:41:51,967] Trial 254 finished with value: 0.007484731970809023 and parameters: {'lr': 0.025420585022490134, 'leaves': 71, 'depth': 12, 'min_leaf': 63, 'feat_frac': 0.48996410625073145, 'bag_frac': 0.4019886151465009, 'bag_freq': 7, 'l1': 0.0003266431313677777, 'l2': 0.10358932081467417, 'gamma': 0.2901512273473188}. Best is trial 118 with value: 0.00612545654917489.\n"
     ]
    },
    {
     "name": "stderr",
     "output_type": "stream",
     "text": [
      "Best trial: 118. Best value: 0.00612546:  60%|██████    | 180/300 [04:08<02:59,  1.50s/it, 248.19/10800 seconds]"
     ]
    },
    {
     "name": "stdout",
     "output_type": "stream",
     "text": [
      "[I 2025-06-27 15:41:52,945] Trial 225 finished with value: 0.006751685618874836 and parameters: {'lr': 0.005261380496694031, 'leaves': 61, 'depth': 6, 'min_leaf': 54, 'feat_frac': 0.7864435093870561, 'bag_frac': 0.4134050158322966, 'bag_freq': 8, 'l1': 3.4269739694137136e-08, 'l2': 4.010732569197131, 'gamma': 0.07927277662031751}. Best is trial 118 with value: 0.00612545654917489.\n"
     ]
    },
    {
     "name": "stderr",
     "output_type": "stream",
     "text": [
      "Best trial: 118. Best value: 0.00612546:  60%|██████    | 181/300 [04:09<02:49,  1.43s/it, 249.44/10800 seconds]"
     ]
    },
    {
     "name": "stdout",
     "output_type": "stream",
     "text": [
      "[I 2025-06-27 15:41:54,204] Trial 258 finished with value: 0.007170364127265086 and parameters: {'lr': 0.05312139174597362, 'leaves': 61, 'depth': 10, 'min_leaf': 153, 'feat_frac': 0.9769675709216927, 'bag_frac': 0.5858968098966303, 'bag_freq': 12, 'l1': 1.1383792548902414e-05, 'l2': 3.339166220593129e-07, 'gamma': 0.29242710694426716}. Best is trial 118 with value: 0.00612545654917489.\n"
     ]
    },
    {
     "name": "stderr",
     "output_type": "stream",
     "text": [
      "Best trial: 118. Best value: 0.00612546:  61%|██████    | 182/300 [04:10<02:18,  1.18s/it, 250.04/10800 seconds]"
     ]
    },
    {
     "name": "stdout",
     "output_type": "stream",
     "text": [
      "[I 2025-06-27 15:41:54,801] Trial 249 finished with value: 0.006892406988544778 and parameters: {'lr': 0.0068091916680508655, 'leaves': 112, 'depth': 4, 'min_leaf': 24, 'feat_frac': 0.7763514699476064, 'bag_frac': 0.6763792838566505, 'bag_freq': 8, 'l1': 9.414652639701063e-08, 'l2': 0.9674281822653165, 'gamma': 0.23174533930525787}. Best is trial 118 with value: 0.00612545654917489.\n"
     ]
    },
    {
     "name": "stderr",
     "output_type": "stream",
     "text": [
      "Best trial: 118. Best value: 0.00612546:  61%|██████    | 183/300 [04:10<01:47,  1.09it/s, 250.35/10800 seconds]"
     ]
    },
    {
     "name": "stdout",
     "output_type": "stream",
     "text": [
      "[I 2025-06-27 15:41:55,109] Trial 217 finished with value: 0.008344842973220804 and parameters: {'lr': 0.011484571045251597, 'leaves': 207, 'depth': 9, 'min_leaf': 30, 'feat_frac': 0.817571331883072, 'bag_frac': 0.8298316928820473, 'bag_freq': 0, 'l1': 1.4733755473929001e-06, 'l2': 7.995316639671845e-05, 'gamma': 0.07290963152275824}. Best is trial 118 with value: 0.00612545654917489.\n"
     ]
    },
    {
     "name": "stderr",
     "output_type": "stream",
     "text": [
      "Best trial: 118. Best value: 0.00612546:  61%|██████▏   | 184/300 [04:11<01:39,  1.17it/s, 251.06/10800 seconds]"
     ]
    },
    {
     "name": "stdout",
     "output_type": "stream",
     "text": [
      "[I 2025-06-27 15:41:55,824] Trial 245 finished with value: 0.0074536898611828354 and parameters: {'lr': 0.010715567587651421, 'leaves': 62, 'depth': 5, 'min_leaf': 20, 'feat_frac': 0.6752133735299631, 'bag_frac': 0.5177266830900711, 'bag_freq': 9, 'l1': 3.640782146345427e-07, 'l2': 0.058245548491355256, 'gamma': 0.06309155958963358}. Best is trial 118 with value: 0.00612545654917489.\n"
     ]
    },
    {
     "name": "stderr",
     "output_type": "stream",
     "text": [
      "Best trial: 118. Best value: 0.00612546:  62%|██████▏   | 185/300 [04:12<01:53,  1.01it/s, 252.37/10800 seconds]"
     ]
    },
    {
     "name": "stdout",
     "output_type": "stream",
     "text": [
      "[I 2025-06-27 15:41:57,129] Trial 221 finished with value: 0.008033073024408734 and parameters: {'lr': 0.015807420763244855, 'leaves': 244, 'depth': 6, 'min_leaf': 168, 'feat_frac': 0.4235923612066332, 'bag_frac': 0.9096392771381742, 'bag_freq': 10, 'l1': 0.8573999309308504, 'l2': 1.9263484116177624e-06, 'gamma': 0.04620751754121827}. Best is trial 118 with value: 0.00612545654917489.\n"
     ]
    },
    {
     "name": "stderr",
     "output_type": "stream",
     "text": [
      "Best trial: 118. Best value: 0.00612546:  62%|██████▏   | 186/300 [04:14<02:18,  1.21s/it, 254.11/10800 seconds]"
     ]
    },
    {
     "name": "stdout",
     "output_type": "stream",
     "text": [
      "[I 2025-06-27 15:41:58,865] Trial 244 finished with value: 0.007548769421212567 and parameters: {'lr': 0.008070194238284251, 'leaves': 72, 'depth': 4, 'min_leaf': 19, 'feat_frac': 0.7663993426392256, 'bag_frac': 0.5985204959611804, 'bag_freq': 5, 'l1': 3.789330402553608e-08, 'l2': 0.05695528518575694, 'gamma': 0.06517441242962702}. Best is trial 118 with value: 0.00612545654917489.\n"
     ]
    },
    {
     "name": "stderr",
     "output_type": "stream",
     "text": [
      "Best trial: 118. Best value: 0.00612546:  62%|██████▏   | 187/300 [04:14<02:04,  1.10s/it, 254.94/10800 seconds]"
     ]
    },
    {
     "name": "stdout",
     "output_type": "stream",
     "text": [
      "[I 2025-06-27 15:41:59,699] Trial 261 finished with value: 0.009044444709431994 and parameters: {'lr': 0.030181134752664186, 'leaves': 54, 'depth': 14, 'min_leaf': 74, 'feat_frac': 0.4882285059008042, 'bag_frac': 0.6150256423887903, 'bag_freq': 8, 'l1': 0.003732587963595573, 'l2': 0.08825473027692742, 'gamma': 0.37212720398586197}. Best is trial 118 with value: 0.00612545654917489.\n"
     ]
    },
    {
     "name": "stderr",
     "output_type": "stream",
     "text": [
      "Best trial: 118. Best value: 0.00612546:  63%|██████▎   | 188/300 [04:15<01:38,  1.14it/s, 255.29/10800 seconds]"
     ]
    },
    {
     "name": "stdout",
     "output_type": "stream",
     "text": [
      "[I 2025-06-27 15:42:00,053] Trial 248 finished with value: 0.006989099781516662 and parameters: {'lr': 0.007682141492177865, 'leaves': 166, 'depth': 6, 'min_leaf': 13, 'feat_frac': 0.9079233469571572, 'bag_frac': 0.7174001954642543, 'bag_freq': 3, 'l1': 5.05909559917118e-07, 'l2': 1.0327170552254194e-05, 'gamma': 0.14238861269182168}. Best is trial 118 with value: 0.00612545654917489.\n"
     ]
    },
    {
     "name": "stderr",
     "output_type": "stream",
     "text": [
      "Best trial: 118. Best value: 0.00612546:  63%|██████▎   | 189/300 [04:16<01:39,  1.12it/s, 256.22/10800 seconds]"
     ]
    },
    {
     "name": "stdout",
     "output_type": "stream",
     "text": [
      "[I 2025-06-27 15:42:00,981] Trial 253 finished with value: 0.007378874268583164 and parameters: {'lr': 0.015953064042607625, 'leaves': 229, 'depth': 5, 'min_leaf': 197, 'feat_frac': 0.9323851140372614, 'bag_frac': 0.7304051993861403, 'bag_freq': 8, 'l1': 0.7157121743761181, 'l2': 1.156181376943517e-05, 'gamma': 0.03760541596241504}. Best is trial 118 with value: 0.00612545654917489.\n"
     ]
    },
    {
     "name": "stderr",
     "output_type": "stream",
     "text": [
      "Best trial: 118. Best value: 0.00612546:  63%|██████▎   | 190/300 [04:17<01:41,  1.08it/s, 257.23/10800 seconds]"
     ]
    },
    {
     "name": "stdout",
     "output_type": "stream",
     "text": [
      "[I 2025-06-27 15:42:01,987] Trial 267 finished with value: 0.00832746631058766 and parameters: {'lr': 0.04939976092256229, 'leaves': 35, 'depth': 11, 'min_leaf': 123, 'feat_frac': 0.964002667533803, 'bag_frac': 0.4503080841177537, 'bag_freq': 7, 'l1': 8.273898530970826e-08, 'l2': 7.751232503620176e-07, 'gamma': 0.3335207505896862}. Best is trial 118 with value: 0.00612545654917489.\n"
     ]
    },
    {
     "name": "stderr",
     "output_type": "stream",
     "text": [
      "Best trial: 118. Best value: 0.00612546:  64%|██████▎   | 191/300 [04:17<01:29,  1.21it/s, 257.81/10800 seconds]"
     ]
    },
    {
     "name": "stdout",
     "output_type": "stream",
     "text": [
      "[I 2025-06-27 15:42:02,570] Trial 240 finished with value: 0.007157260146896182 and parameters: {'lr': 0.01562960695190097, 'leaves': 87, 'depth': 6, 'min_leaf': 203, 'feat_frac': 0.6106029199367871, 'bag_frac': 0.917567170089033, 'bag_freq': 11, 'l1': 1.6918384328035097, 'l2': 1.0023093563814658, 'gamma': 0.003535003061162653}. Best is trial 118 with value: 0.00612545654917489.\n"
     ]
    },
    {
     "name": "stderr",
     "output_type": "stream",
     "text": [
      "Best trial: 118. Best value: 0.00612546:  64%|██████▍   | 192/300 [04:18<01:38,  1.10it/s, 258.92/10800 seconds]"
     ]
    },
    {
     "name": "stdout",
     "output_type": "stream",
     "text": [
      "[I 2025-06-27 15:42:03,676] Trial 256 finished with value: 0.007292294057295532 and parameters: {'lr': 0.01050098272630415, 'leaves': 68, 'depth': 10, 'min_leaf': 93, 'feat_frac': 0.46032783946790157, 'bag_frac': 0.7117725575454655, 'bag_freq': 4, 'l1': 1.3821600827808615e-05, 'l2': 0.011771105414713996, 'gamma': 0.24736748043639756}. Best is trial 118 with value: 0.00612545654917489.\n"
     ]
    },
    {
     "name": "stderr",
     "output_type": "stream",
     "text": [
      "Best trial: 118. Best value: 0.00612546:  64%|██████▍   | 193/300 [04:20<02:12,  1.24s/it, 260.93/10800 seconds]"
     ]
    },
    {
     "name": "stdout",
     "output_type": "stream",
     "text": [
      "[I 2025-06-27 15:42:05,690] Trial 226 finished with value: 0.008035837412388148 and parameters: {'lr': 0.01120398527001082, 'leaves': 227, 'depth': 8, 'min_leaf': 7, 'feat_frac': 0.7220963013077835, 'bag_frac': 0.6815508780319627, 'bag_freq': 3, 'l1': 0.00024189237522928046, 'l2': 0.0026856348844856307, 'gamma': 0.008576020202468615}. Best is trial 118 with value: 0.00612545654917489.\n"
     ]
    },
    {
     "name": "stderr",
     "output_type": "stream",
     "text": [
      "Best trial: 118. Best value: 0.00612546:  65%|██████▍   | 194/300 [04:24<03:21,  1.90s/it, 264.37/10800 seconds]"
     ]
    },
    {
     "name": "stdout",
     "output_type": "stream",
     "text": [
      "[I 2025-06-27 15:42:09,131] Trial 247 finished with value: 0.008478543142192202 and parameters: {'lr': 0.01308561088976712, 'leaves': 201, 'depth': 9, 'min_leaf': 19, 'feat_frac': 0.8462757738564439, 'bag_frac': 0.7905460920481876, 'bag_freq': 2, 'l1': 1.3404191700033506e-08, 'l2': 0.014178080155569204, 'gamma': 0.08618505471410294}. Best is trial 118 with value: 0.00612545654917489.\n"
     ]
    },
    {
     "name": "stderr",
     "output_type": "stream",
     "text": [
      "Best trial: 118. Best value: 0.00612546:  65%|██████▌   | 195/300 [04:25<03:09,  1.80s/it, 265.95/10800 seconds]"
     ]
    },
    {
     "name": "stdout",
     "output_type": "stream",
     "text": [
      "[I 2025-06-27 15:42:10,704] Trial 252 finished with value: 0.00771531232446742 and parameters: {'lr': 0.00893268032641997, 'leaves': 57, 'depth': 5, 'min_leaf': 14, 'feat_frac': 0.6225523058775065, 'bag_frac': 0.5590018156362027, 'bag_freq': 6, 'l1': 1.2914514378211986e-08, 'l2': 1.5464957234570116, 'gamma': 0.1649232799686203}. Best is trial 118 with value: 0.00612545654917489.\n"
     ]
    },
    {
     "name": "stderr",
     "output_type": "stream",
     "text": [
      "Best trial: 118. Best value: 0.00612546:  65%|██████▌   | 196/300 [04:27<03:03,  1.77s/it, 267.63/10800 seconds]"
     ]
    },
    {
     "name": "stdout",
     "output_type": "stream",
     "text": [
      "[I 2025-06-27 15:42:12,387] Trial 255 finished with value: 0.00738473292450381 and parameters: {'lr': 0.010883188491485106, 'leaves': 109, 'depth': 6, 'min_leaf': 12, 'feat_frac': 0.7909321739764733, 'bag_frac': 0.4371226465856086, 'bag_freq': 5, 'l1': 2.977578869946039e-08, 'l2': 0.9574738635508648, 'gamma': 0.19423860547028934}. Best is trial 118 with value: 0.00612545654917489.\n"
     ]
    },
    {
     "name": "stderr",
     "output_type": "stream",
     "text": [
      "Best trial: 118. Best value: 0.00612546:  66%|██████▌   | 197/300 [04:31<03:58,  2.32s/it, 271.24/10800 seconds]"
     ]
    },
    {
     "name": "stdout",
     "output_type": "stream",
     "text": [
      "[I 2025-06-27 15:42:15,995] Trial 257 finished with value: 0.007744300384789495 and parameters: {'lr': 0.0051185583585589, 'leaves': 49, 'depth': 4, 'min_leaf': 14, 'feat_frac': 0.5682492296409678, 'bag_frac': 0.5025844824909237, 'bag_freq': 7, 'l1': 1.7141753894920844e-07, 'l2': 0.1218426878984115, 'gamma': 0.05633508815017463}. Best is trial 118 with value: 0.00612545654917489.\n"
     ]
    },
    {
     "name": "stderr",
     "output_type": "stream",
     "text": [
      "Best trial: 118. Best value: 0.00612546:  66%|██████▌   | 198/300 [04:32<03:24,  2.01s/it, 272.52/10800 seconds]"
     ]
    },
    {
     "name": "stdout",
     "output_type": "stream",
     "text": [
      "[I 2025-06-27 15:42:17,275] Trial 273 finished with value: 0.007244099347859915 and parameters: {'lr': 0.027750605661703648, 'leaves': 254, 'depth': 4, 'min_leaf': 266, 'feat_frac': 0.8013374206285947, 'bag_frac': 0.7115501863139093, 'bag_freq': 9, 'l1': 0.0056629688828496085, 'l2': 0.011104099940204944, 'gamma': 0.14384099476197967}. Best is trial 118 with value: 0.00612545654917489.\n"
     ]
    },
    {
     "name": "stderr",
     "output_type": "stream",
     "text": [
      "Best trial: 118. Best value: 0.00612546:  66%|██████▋   | 199/300 [04:32<02:29,  1.48s/it, 272.77/10800 seconds]"
     ]
    },
    {
     "name": "stdout",
     "output_type": "stream",
     "text": [
      "[I 2025-06-27 15:42:17,524] Trial 269 finished with value: 0.00708743302563379 and parameters: {'lr': 0.01970280366943296, 'leaves': 196, 'depth': 5, 'min_leaf': 208, 'feat_frac': 0.5833221903576301, 'bag_frac': 0.9411774786742093, 'bag_freq': 9, 'l1': 0.9452341700252183, 'l2': 0.14386411021303383, 'gamma': 0.006265781322621684}. Best is trial 118 with value: 0.00612545654917489.\n"
     ]
    },
    {
     "name": "stderr",
     "output_type": "stream",
     "text": [
      "Best trial: 118. Best value: 0.00612546:  67%|██████▋   | 200/300 [04:33<02:06,  1.26s/it, 273.53/10800 seconds]"
     ]
    },
    {
     "name": "stdout",
     "output_type": "stream",
     "text": [
      "[I 2025-06-27 15:42:18,286] Trial 265 finished with value: 0.00776630988057146 and parameters: {'lr': 0.01533791224938691, 'leaves': 198, 'depth': 7, 'min_leaf': 64, 'feat_frac': 0.9529615392230286, 'bag_frac': 0.8178678797438715, 'bag_freq': 11, 'l1': 0.003268808779430335, 'l2': 6.593394196328359e-05, 'gamma': 0.024157905207896315}. Best is trial 118 with value: 0.00612545654917489.\n"
     ]
    },
    {
     "name": "stderr",
     "output_type": "stream",
     "text": [
      "Best trial: 118. Best value: 0.00612546:  67%|██████▋   | 201/300 [04:33<01:34,  1.04it/s, 273.77/10800 seconds]"
     ]
    },
    {
     "name": "stdout",
     "output_type": "stream",
     "text": [
      "[I 2025-06-27 15:42:18,528] Trial 274 finished with value: 0.00736174495137411 and parameters: {'lr': 0.058083648097821995, 'leaves': 194, 'depth': 5, 'min_leaf': 176, 'feat_frac': 0.8135786233737357, 'bag_frac': 0.9026151920751189, 'bag_freq': 3, 'l1': 7.596680222778089e-07, 'l2': 9.699999525763605e-07, 'gamma': 0.031806797781543564}. Best is trial 118 with value: 0.00612545654917489.\n"
     ]
    },
    {
     "name": "stderr",
     "output_type": "stream",
     "text": [
      "Best trial: 118. Best value: 0.00612546:  67%|██████▋   | 202/300 [04:35<02:09,  1.32s/it, 275.93/10800 seconds]"
     ]
    },
    {
     "name": "stdout",
     "output_type": "stream",
     "text": [
      "[I 2025-06-27 15:42:20,693] Trial 262 finished with value: 0.007403932752925623 and parameters: {'lr': 0.012571890389441766, 'leaves': 71, 'depth': 6, 'min_leaf': 31, 'feat_frac': 0.6411662395967921, 'bag_frac': 0.42723513948476205, 'bag_freq': 8, 'l1': 4.802365504117012e-07, 'l2': 2.067493142804899, 'gamma': 0.02467447441505427}. Best is trial 118 with value: 0.00612545654917489.\n"
     ]
    },
    {
     "name": "stderr",
     "output_type": "stream",
     "text": [
      "Best trial: 118. Best value: 0.00612546:  68%|██████▊   | 203/300 [04:36<01:42,  1.06s/it, 276.37/10800 seconds]"
     ]
    },
    {
     "name": "stdout",
     "output_type": "stream",
     "text": [
      "[I 2025-06-27 15:42:21,133] Trial 237 finished with value: 0.007231264206986324 and parameters: {'lr': 0.011990472177204422, 'leaves': 77, 'depth': 5, 'min_leaf': 31, 'feat_frac': 0.5429920818464985, 'bag_frac': 0.5104319798968505, 'bag_freq': 7, 'l1': 2.2740861026617192e-06, 'l2': 1.260624545910738, 'gamma': 0.17784313729161788}. Best is trial 118 with value: 0.00612545654917489.\n"
     ]
    },
    {
     "name": "stderr",
     "output_type": "stream",
     "text": [
      "Best trial: 118. Best value: 0.00612546:  68%|██████▊   | 204/300 [04:40<03:23,  2.11s/it, 280.96/10800 seconds]"
     ]
    },
    {
     "name": "stdout",
     "output_type": "stream",
     "text": [
      "[I 2025-06-27 15:42:25,717] Trial 266 finished with value: 0.007440588706089777 and parameters: {'lr': 0.01905543231376137, 'leaves': 130, 'depth': 5, 'min_leaf': 181, 'feat_frac': 0.7373848920458907, 'bag_frac': 0.7749380027020459, 'bag_freq': 7, 'l1': 0.006776441066867791, 'l2': 0.1805195410888442, 'gamma': 0.05748048916334658}. Best is trial 118 with value: 0.00612545654917489.\n"
     ]
    },
    {
     "name": "stderr",
     "output_type": "stream",
     "text": [
      "Best trial: 118. Best value: 0.00612546:  68%|██████▊   | 205/300 [04:41<02:31,  1.59s/it, 281.34/10800 seconds]"
     ]
    },
    {
     "name": "stdout",
     "output_type": "stream",
     "text": [
      "[I 2025-06-27 15:42:26,099] Trial 260 finished with value: 0.007485582513928455 and parameters: {'lr': 0.007040375955630785, 'leaves': 35, 'depth': 5, 'min_leaf': 67, 'feat_frac': 0.7327729019336565, 'bag_frac': 0.4297964571798378, 'bag_freq': 11, 'l1': 3.6989196313993833e-06, 'l2': 0.48063292538942176, 'gamma': 0.0038309483178690373}. Best is trial 118 with value: 0.00612545654917489.\n"
     ]
    },
    {
     "name": "stderr",
     "output_type": "stream",
     "text": [
      "Best trial: 118. Best value: 0.00612546:  69%|██████▊   | 206/300 [04:43<02:59,  1.91s/it, 283.98/10800 seconds]"
     ]
    },
    {
     "name": "stdout",
     "output_type": "stream",
     "text": [
      "[I 2025-06-27 15:42:28,737] Trial 271 finished with value: 0.0074937261963961745 and parameters: {'lr': 0.008649043007001495, 'leaves': 69, 'depth': 9, 'min_leaf': 70, 'feat_frac': 0.7304410657255022, 'bag_frac': 0.4022052256777533, 'bag_freq': 12, 'l1': 1.0403013836679667e-07, 'l2': 2.2772734559183783, 'gamma': 0.06527199356401335}. Best is trial 118 with value: 0.00612545654917489.\n"
     ]
    },
    {
     "name": "stderr",
     "output_type": "stream",
     "text": [
      "Best trial: 118. Best value: 0.00612546:  69%|██████▉   | 207/300 [04:45<02:32,  1.64s/it, 285.00/10800 seconds]"
     ]
    },
    {
     "name": "stdout",
     "output_type": "stream",
     "text": [
      "[I 2025-06-27 15:42:29,758] Trial 259 finished with value: 0.007535335682382757 and parameters: {'lr': 0.00660529228870361, 'leaves': 90, 'depth': 6, 'min_leaf': 27, 'feat_frac': 0.6970029689578252, 'bag_frac': 0.4178583206068388, 'bag_freq': 10, 'l1': 4.090066834703823e-08, 'l2': 2.647241199584857, 'gamma': 0.07490648177311583}. Best is trial 118 with value: 0.00612545654917489.\n"
     ]
    },
    {
     "name": "stderr",
     "output_type": "stream",
     "text": [
      "Best trial: 118. Best value: 0.00612546:  69%|██████▉   | 208/300 [04:45<02:00,  1.31s/it, 285.55/10800 seconds]"
     ]
    },
    {
     "name": "stdout",
     "output_type": "stream",
     "text": [
      "[I 2025-06-27 15:42:30,310] Trial 280 finished with value: 0.00752612258206108 and parameters: {'lr': 0.0075782565105310794, 'leaves': 162, 'depth': 5, 'min_leaf': 25, 'feat_frac': 0.801418908117819, 'bag_frac': 0.6257784778298011, 'bag_freq': 7, 'l1': 1.349480677082401e-08, 'l2': 1.1740425130033212, 'gamma': 0.32157808563835427}. Best is trial 118 with value: 0.00612545654917489.\n"
     ]
    },
    {
     "name": "stderr",
     "output_type": "stream",
     "text": [
      "Best trial: 118. Best value: 0.00612546:  70%|██████▉   | 209/300 [04:46<01:58,  1.30s/it, 286.81/10800 seconds]"
     ]
    },
    {
     "name": "stdout",
     "output_type": "stream",
     "text": [
      "[I 2025-06-27 15:42:31,566] Trial 284 finished with value: 0.008241143556942622 and parameters: {'lr': 0.022678491935236553, 'leaves': 38, 'depth': 7, 'min_leaf': 41, 'feat_frac': 0.4507654172982162, 'bag_frac': 0.5154344030989069, 'bag_freq': 10, 'l1': 9.90394718054002e-06, 'l2': 0.03948498616938367, 'gamma': 0.3137515321378988}. Best is trial 118 with value: 0.00612545654917489.\n"
     ]
    },
    {
     "name": "stderr",
     "output_type": "stream",
     "text": [
      "Best trial: 118. Best value: 0.00612546:  70%|███████   | 210/300 [04:48<01:53,  1.27s/it, 288.00/10800 seconds]"
     ]
    },
    {
     "name": "stdout",
     "output_type": "stream",
     "text": [
      "[I 2025-06-27 15:42:32,757] Trial 285 finished with value: 0.007481318679466605 and parameters: {'lr': 0.023541493798813744, 'leaves': 37, 'depth': 8, 'min_leaf': 32, 'feat_frac': 0.8216788488079861, 'bag_frac': 0.4913179347707156, 'bag_freq': 10, 'l1': 0.0005642198915360232, 'l2': 7.333839066942916e-07, 'gamma': 0.34591558482432166}. Best is trial 118 with value: 0.00612545654917489.\n"
     ]
    },
    {
     "name": "stderr",
     "output_type": "stream",
     "text": [
      "Best trial: 118. Best value: 0.00612546:  70%|███████   | 211/300 [04:48<01:33,  1.05s/it, 288.54/10800 seconds]"
     ]
    },
    {
     "name": "stdout",
     "output_type": "stream",
     "text": [
      "[I 2025-06-27 15:42:33,299] Trial 281 finished with value: 0.007503895925213493 and parameters: {'lr': 0.016869330120975582, 'leaves': 105, 'depth': 5, 'min_leaf': 224, 'feat_frac': 0.6542357668416582, 'bag_frac': 0.7388614306697466, 'bag_freq': 15, 'l1': 0.006417317057333919, 'l2': 6.7313819992399975e-06, 'gamma': 0.043486209958177736}. Best is trial 118 with value: 0.00612545654917489.\n"
     ]
    },
    {
     "name": "stderr",
     "output_type": "stream",
     "text": [
      "Best trial: 118. Best value: 0.00612546:  71%|███████   | 212/300 [04:49<01:21,  1.08it/s, 289.18/10800 seconds]"
     ]
    },
    {
     "name": "stdout",
     "output_type": "stream",
     "text": [
      "[I 2025-06-27 15:42:33,940] Trial 278 finished with value: 0.007379191705479596 and parameters: {'lr': 0.030993908280016323, 'leaves': 203, 'depth': 6, 'min_leaf': 252, 'feat_frac': 0.8885052242013494, 'bag_frac': 0.9496028194994892, 'bag_freq': 7, 'l1': 3.6211600643976207e-07, 'l2': 7.910087780373676e-05, 'gamma': 0.012370546806562615}. Best is trial 118 with value: 0.00612545654917489.\n"
     ]
    },
    {
     "name": "stderr",
     "output_type": "stream",
     "text": [
      "Best trial: 118. Best value: 0.00612546:  71%|███████   | 213/300 [04:52<02:15,  1.56s/it, 292.20/10800 seconds]"
     ]
    },
    {
     "name": "stdout",
     "output_type": "stream",
     "text": [
      "[I 2025-06-27 15:42:36,963] Trial 250 finished with value: 0.008505887555141825 and parameters: {'lr': 0.005255334897663911, 'leaves': 94, 'depth': 5, 'min_leaf': 26, 'feat_frac': 0.6319480170364296, 'bag_frac': 0.4368766491835594, 'bag_freq': 6, 'l1': 1.9042078269763064e-08, 'l2': 0.003434551256756671, 'gamma': 0.008699177815891176}. Best is trial 118 with value: 0.00612545654917489.\n"
     ]
    },
    {
     "name": "stderr",
     "output_type": "stream",
     "text": [
      "Best trial: 118. Best value: 0.00612546:  71%|███████▏  | 214/300 [04:53<01:56,  1.36s/it, 293.10/10800 seconds]"
     ]
    },
    {
     "name": "stdout",
     "output_type": "stream",
     "text": [
      "[I 2025-06-27 15:42:37,856] Trial 232 finished with value: 0.007326183499984223 and parameters: {'lr': 0.015231285341377724, 'leaves': 89, 'depth': 4, 'min_leaf': 163, 'feat_frac': 0.42725902436488755, 'bag_frac': 0.8112413098162574, 'bag_freq': 9, 'l1': 0.0996471438774001, 'l2': 0.41380621118670896, 'gamma': 0.003228993564409425}. Best is trial 118 with value: 0.00612545654917489.\n"
     ]
    },
    {
     "name": "stderr",
     "output_type": "stream",
     "text": [
      "Best trial: 118. Best value: 0.00612546:  72%|███████▏  | 215/300 [04:53<01:42,  1.21s/it, 293.97/10800 seconds]"
     ]
    },
    {
     "name": "stdout",
     "output_type": "stream",
     "text": [
      "[I 2025-06-27 15:42:38,731] Trial 283 finished with value: 0.007376030540697001 and parameters: {'lr': 0.010651493514508002, 'leaves': 174, 'depth': 4, 'min_leaf': 28, 'feat_frac': 0.8501678433754152, 'bag_frac': 0.6415519931512926, 'bag_freq': 9, 'l1': 2.7051022254534794e-07, 'l2': 1.9228987416555152, 'gamma': 0.2597697286182986}. Best is trial 118 with value: 0.00612545654917489.\n"
     ]
    },
    {
     "name": "stderr",
     "output_type": "stream",
     "text": [
      "Best trial: 118. Best value: 0.00612546:  72%|███████▏  | 216/300 [04:54<01:36,  1.15s/it, 294.99/10800 seconds]"
     ]
    },
    {
     "name": "stdout",
     "output_type": "stream",
     "text": [
      "[I 2025-06-27 15:42:39,747] Trial 286 finished with value: 0.008594704440964936 and parameters: {'lr': 0.08747197627804747, 'leaves': 149, 'depth': 5, 'min_leaf': 39, 'feat_frac': 0.8540417612043152, 'bag_frac': 0.8751414294770028, 'bag_freq': 13, 'l1': 2.27106682964421e-07, 'l2': 0.00022496615767410581, 'gamma': 0.0693484243452287}. Best is trial 118 with value: 0.00612545654917489.\n"
     ]
    },
    {
     "name": "stderr",
     "output_type": "stream",
     "text": [
      "Best trial: 118. Best value: 0.00612546:  72%|███████▏  | 217/300 [04:55<01:18,  1.05it/s, 295.47/10800 seconds]"
     ]
    },
    {
     "name": "stdout",
     "output_type": "stream",
     "text": [
      "[I 2025-06-27 15:42:40,227] Trial 282 finished with value: 0.0074735992469598615 and parameters: {'lr': 0.010214102115527769, 'leaves': 129, 'depth': 6, 'min_leaf': 10, 'feat_frac': 0.8255744934281354, 'bag_frac': 0.8555277389894159, 'bag_freq': 10, 'l1': 4.0340583800495415e-06, 'l2': 0.6651008800183448, 'gamma': 0.20616881011604818}. Best is trial 118 with value: 0.00612545654917489.\n"
     ]
    },
    {
     "name": "stderr",
     "output_type": "stream",
     "text": [
      "Best trial: 118. Best value: 0.00612546:  73%|███████▎  | 218/300 [04:56<01:21,  1.00it/s, 296.57/10800 seconds]"
     ]
    },
    {
     "name": "stdout",
     "output_type": "stream",
     "text": [
      "[I 2025-06-27 15:42:41,331] Trial 291 finished with value: 0.008017482322179335 and parameters: {'lr': 0.021142003099716332, 'leaves': 196, 'depth': 4, 'min_leaf': 192, 'feat_frac': 0.7903104312253169, 'bag_frac': 0.8679855395047861, 'bag_freq': 6, 'l1': 3.9908643105096804, 'l2': 0.02231329086600286, 'gamma': 0.008655489182156285}. Best is trial 118 with value: 0.00612545654917489.\n"
     ]
    },
    {
     "name": "stderr",
     "output_type": "stream",
     "text": [
      "Best trial: 118. Best value: 0.00612546:  73%|███████▎  | 219/300 [04:57<01:28,  1.09s/it, 297.88/10800 seconds]"
     ]
    },
    {
     "name": "stdout",
     "output_type": "stream",
     "text": [
      "[I 2025-06-27 15:42:42,642] Trial 292 finished with value: 0.008108112690903918 and parameters: {'lr': 0.012101052079604466, 'leaves': 34, 'depth': 10, 'min_leaf': 82, 'feat_frac': 0.720862200362161, 'bag_frac': 0.48656178428668323, 'bag_freq': 8, 'l1': 7.08209996598818e-06, 'l2': 0.025590999147744344, 'gamma': 0.39981964301309697}. Best is trial 118 with value: 0.00612545654917489.\n"
     ]
    },
    {
     "name": "stderr",
     "output_type": "stream",
     "text": [
      "Best trial: 118. Best value: 0.00612546:  73%|███████▎  | 220/300 [04:58<01:27,  1.09s/it, 298.98/10800 seconds]"
     ]
    },
    {
     "name": "stdout",
     "output_type": "stream",
     "text": [
      "[I 2025-06-27 15:42:43,741] Trial 264 finished with value: 0.008454678263293986 and parameters: {'lr': 0.005610200166408778, 'leaves': 113, 'depth': 6, 'min_leaf': 110, 'feat_frac': 0.658149661983759, 'bag_frac': 0.4325435185090907, 'bag_freq': 8, 'l1': 1.3660602205323703e-07, 'l2': 0.09904551107176464, 'gamma': 0.08800446273647235}. Best is trial 118 with value: 0.00612545654917489.\n"
     ]
    },
    {
     "name": "stderr",
     "output_type": "stream",
     "text": [
      "Best trial: 118. Best value: 0.00612546:  74%|███████▎  | 221/300 [05:01<01:50,  1.40s/it, 301.11/10800 seconds]"
     ]
    },
    {
     "name": "stdout",
     "output_type": "stream",
     "text": [
      "[I 2025-06-27 15:42:45,872] Trial 277 finished with value: 0.0075430063705269074 and parameters: {'lr': 0.04925456741271146, 'leaves': 205, 'depth': 6, 'min_leaf': 114, 'feat_frac': 0.9509419472839382, 'bag_frac': 0.9991398967073581, 'bag_freq': 9, 'l1': 1.156354073106945e-06, 'l2': 2.1833342167104615e-07, 'gamma': 0.02594921266148401}. Best is trial 118 with value: 0.00612545654917489.\n"
     ]
    },
    {
     "name": "stderr",
     "output_type": "stream",
     "text": [
      "Best trial: 118. Best value: 0.00612546:  74%|███████▍  | 222/300 [05:06<03:29,  2.68s/it, 306.78/10800 seconds]"
     ]
    },
    {
     "name": "stdout",
     "output_type": "stream",
     "text": [
      "[I 2025-06-27 15:42:51,542] Trial 297 finished with value: 0.006474045672450438 and parameters: {'lr': 0.040619096738378206, 'leaves': 229, 'depth': 5, 'min_leaf': 78, 'feat_frac': 0.9302366270143111, 'bag_frac': 0.8790796939940821, 'bag_freq': 8, 'l1': 0.0005257055748126802, 'l2': 0.0005727342548705883, 'gamma': 0.0746886865568957}. Best is trial 118 with value: 0.00612545654917489.\n"
     ]
    },
    {
     "name": "stderr",
     "output_type": "stream",
     "text": [
      "Best trial: 118. Best value: 0.00612546:  74%|███████▍  | 223/300 [05:07<02:31,  1.97s/it, 307.08/10800 seconds]"
     ]
    },
    {
     "name": "stdout",
     "output_type": "stream",
     "text": [
      "[I 2025-06-27 15:42:51,835] Trial 287 finished with value: 0.007039446194435726 and parameters: {'lr': 0.005310186727036226, 'leaves': 100, 'depth': 5, 'min_leaf': 38, 'feat_frac': 0.7915819275634297, 'bag_frac': 0.6649373290485049, 'bag_freq': 8, 'l1': 1.1822056478163641e-06, 'l2': 0.15899307266737933, 'gamma': 0.2513857079065383}. Best is trial 118 with value: 0.00612545654917489.\n"
     ]
    },
    {
     "name": "stderr",
     "output_type": "stream",
     "text": [
      "Best trial: 118. Best value: 0.00612546:  75%|███████▍  | 224/300 [05:08<02:17,  1.81s/it, 308.51/10800 seconds]"
     ]
    },
    {
     "name": "stdout",
     "output_type": "stream",
     "text": [
      "[I 2025-06-27 15:42:53,267] Trial 263 finished with value: 0.007797626114871813 and parameters: {'lr': 0.008690302331834234, 'leaves': 117, 'depth': 6, 'min_leaf': 6, 'feat_frac': 0.7434409888616931, 'bag_frac': 0.5119130215536599, 'bag_freq': 5, 'l1': 4.206921577174538e-07, 'l2': 3.107304252645611, 'gamma': 0.07939291471158169}. Best is trial 118 with value: 0.00612545654917489.\n"
     ]
    },
    {
     "name": "stderr",
     "output_type": "stream",
     "text": [
      "Best trial: 118. Best value: 0.00612546:  75%|███████▌  | 225/300 [05:10<02:25,  1.94s/it, 310.77/10800 seconds]"
     ]
    },
    {
     "name": "stdout",
     "output_type": "stream",
     "text": [
      "[I 2025-06-27 15:42:55,534] Trial 272 finished with value: 0.006783182619028899 and parameters: {'lr': 0.006842571559324407, 'leaves': 69, 'depth': 5, 'min_leaf': 126, 'feat_frac': 0.7836403335464194, 'bag_frac': 0.5523915879146181, 'bag_freq': 9, 'l1': 5.248241541732928e-08, 'l2': 2.4735478728068405, 'gamma': 0.04696084851887226}. Best is trial 118 with value: 0.00612545654917489.\n"
     ]
    },
    {
     "name": "stderr",
     "output_type": "stream",
     "text": [
      "Best trial: 118. Best value: 0.00612546:  75%|███████▌  | 226/300 [05:11<01:57,  1.59s/it, 311.52/10800 seconds]"
     ]
    },
    {
     "name": "stdout",
     "output_type": "stream",
     "text": [
      "[I 2025-06-27 15:42:56,282] Trial 290 finished with value: 0.007983235502438344 and parameters: {'lr': 0.010480636461099077, 'leaves': 135, 'depth': 4, 'min_leaf': 12, 'feat_frac': 0.8296246136042403, 'bag_frac': 0.6046172286811248, 'bag_freq': 9, 'l1': 5.052048848559072e-07, 'l2': 1.467387344017398, 'gamma': 0.12743711479988712}. Best is trial 118 with value: 0.00612545654917489.\n"
     ]
    },
    {
     "name": "stderr",
     "output_type": "stream",
     "text": [
      "Best trial: 118. Best value: 0.00612546:  76%|███████▌  | 227/300 [05:14<02:18,  1.90s/it, 314.15/10800 seconds]"
     ]
    },
    {
     "name": "stdout",
     "output_type": "stream",
     "text": [
      "[I 2025-06-27 15:42:58,911] Trial 304 finished with value: 0.008723511417465472 and parameters: {'lr': 0.054728010832696156, 'leaves': 183, 'depth': 5, 'min_leaf': 221, 'feat_frac': 0.867265429114318, 'bag_frac': 0.9063829169092487, 'bag_freq': 9, 'l1': 0.005453798136292246, 'l2': 5.519651153850243e-05, 'gamma': 0.16752352229488737}. Best is trial 118 with value: 0.00612545654917489.\n"
     ]
    },
    {
     "name": "stderr",
     "output_type": "stream",
     "text": [
      "Best trial: 118. Best value: 0.00612546:  76%|███████▌  | 228/300 [05:14<01:43,  1.44s/it, 314.52/10800 seconds]"
     ]
    },
    {
     "name": "stdout",
     "output_type": "stream",
     "text": [
      "[I 2025-06-27 15:42:59,280] Trial 300 finished with value: 0.007617824714196305 and parameters: {'lr': 0.005251891317640342, 'leaves': 81, 'depth': 4, 'min_leaf': 48, 'feat_frac': 0.8795300652682954, 'bag_frac': 0.6060909105538343, 'bag_freq': 4, 'l1': 1.7711923151420197e-06, 'l2': 4.571867077936013, 'gamma': 0.2824095833446348}. Best is trial 118 with value: 0.00612545654917489.\n"
     ]
    },
    {
     "name": "stderr",
     "output_type": "stream",
     "text": [
      "Best trial: 118. Best value: 0.00612546:  76%|███████▋  | 229/300 [05:15<01:34,  1.33s/it, 315.58/10800 seconds]"
     ]
    },
    {
     "name": "stdout",
     "output_type": "stream",
     "text": [
      "[I 2025-06-27 15:43:00,343] Trial 279 finished with value: 0.006887571370435532 and parameters: {'lr': 0.0062647304823679325, 'leaves': 137, 'depth': 6, 'min_leaf': 40, 'feat_frac': 0.7719946714880594, 'bag_frac': 0.4483089994867963, 'bag_freq': 5, 'l1': 2.9474199885219473e-08, 'l2': 4.146364534008251, 'gamma': 0.023964073845790385}. Best is trial 118 with value: 0.00612545654917489.\n"
     ]
    },
    {
     "name": "stderr",
     "output_type": "stream",
     "text": [
      "Best trial: 118. Best value: 0.00612546:  77%|███████▋  | 230/300 [05:15<01:12,  1.04s/it, 315.95/10800 seconds]"
     ]
    },
    {
     "name": "stdout",
     "output_type": "stream",
     "text": [
      "[I 2025-06-27 15:43:00,710] Trial 303 finished with value: 0.007788455990030911 and parameters: {'lr': 0.043549920270215224, 'leaves': 216, 'depth': 8, 'min_leaf': 72, 'feat_frac': 0.9909676588313369, 'bag_frac': 0.9235481073922247, 'bag_freq': 11, 'l1': 0.0005631939289969184, 'l2': 0.016384358227451316, 'gamma': 0.16563072991466032}. Best is trial 118 with value: 0.00612545654917489.\n"
     ]
    },
    {
     "name": "stderr",
     "output_type": "stream",
     "text": [
      "Best trial: 118. Best value: 0.00612546:  77%|███████▋  | 231/300 [05:18<01:41,  1.48s/it, 318.45/10800 seconds]"
     ]
    },
    {
     "name": "stdout",
     "output_type": "stream",
     "text": [
      "[I 2025-06-27 15:43:03,208] Trial 276 finished with value: 0.007036515890318531 and parameters: {'lr': 0.005861573989621332, 'leaves': 60, 'depth': 7, 'min_leaf': 80, 'feat_frac': 0.9403634644129144, 'bag_frac': 0.4196174755247376, 'bag_freq': 12, 'l1': 1.6026675639861335e-08, 'l2': 0.035357070779325185, 'gamma': 0.09472017019181989}. Best is trial 118 with value: 0.00612545654917489.\n"
     ]
    },
    {
     "name": "stderr",
     "output_type": "stream",
     "text": [
      "Best trial: 118. Best value: 0.00612546:  77%|███████▋  | 232/300 [05:19<01:35,  1.41s/it, 319.70/10800 seconds]"
     ]
    },
    {
     "name": "stdout",
     "output_type": "stream",
     "text": [
      "[I 2025-06-27 15:43:04,460] Trial 275 finished with value: 0.008263151979712353 and parameters: {'lr': 0.006619807807736546, 'leaves': 70, 'depth': 7, 'min_leaf': 56, 'feat_frac': 0.7260562032472996, 'bag_frac': 0.44703330540007863, 'bag_freq': 9, 'l1': 5.721026944856137e-08, 'l2': 0.05610898644444779, 'gamma': 0.12933681844023306}. Best is trial 118 with value: 0.00612545654917489.\n"
     ]
    },
    {
     "name": "stderr",
     "output_type": "stream",
     "text": [
      "Best trial: 118. Best value: 0.00612546:  78%|███████▊  | 233/300 [05:20<01:25,  1.27s/it, 320.65/10800 seconds]"
     ]
    },
    {
     "name": "stdout",
     "output_type": "stream",
     "text": [
      "[I 2025-06-27 15:43:05,411] Trial 288 finished with value: 0.007175809696017339 and parameters: {'lr': 0.013675769592837892, 'leaves': 240, 'depth': 7, 'min_leaf': 40, 'feat_frac': 0.92767411663771, 'bag_frac': 0.6718801192196723, 'bag_freq': 2, 'l1': 3.744933663936118e-05, 'l2': 0.0019530666507489296, 'gamma': 0.02144720623130964}. Best is trial 118 with value: 0.00612545654917489.\n"
     ]
    },
    {
     "name": "stderr",
     "output_type": "stream",
     "text": [
      "Best trial: 118. Best value: 0.00612546:  78%|███████▊  | 234/300 [05:22<01:38,  1.49s/it, 322.66/10800 seconds]"
     ]
    },
    {
     "name": "stdout",
     "output_type": "stream",
     "text": [
      "[I 2025-06-27 15:43:07,417] Trial 268 finished with value: 0.007012529620083945 and parameters: {'lr': 0.0061165404467790835, 'leaves': 32, 'depth': 6, 'min_leaf': 18, 'feat_frac': 0.623651197922851, 'bag_frac': 0.543251305284267, 'bag_freq': 3, 'l1': 1.4554596839141885e-06, 'l2': 0.00016051042621167304, 'gamma': 0.15807370894856312}. Best is trial 118 with value: 0.00612545654917489.\n"
     ]
    },
    {
     "name": "stderr",
     "output_type": "stream",
     "text": [
      "Best trial: 118. Best value: 0.00612546:  78%|███████▊  | 235/300 [05:22<01:13,  1.13s/it, 322.94/10800 seconds]"
     ]
    },
    {
     "name": "stdout",
     "output_type": "stream",
     "text": [
      "[I 2025-06-27 15:43:07,698] Trial 306 finished with value: 0.006997597941011006 and parameters: {'lr': 0.04708452798547034, 'leaves': 156, 'depth': 4, 'min_leaf': 84, 'feat_frac': 0.933156622727821, 'bag_frac': 0.870488231678771, 'bag_freq': 8, 'l1': 1.3582958229272783e-05, 'l2': 5.543999039174802e-05, 'gamma': 0.11937666688613699}. Best is trial 118 with value: 0.00612545654917489.\n"
     ]
    },
    {
     "name": "stderr",
     "output_type": "stream",
     "text": [
      "Best trial: 118. Best value: 0.00612546:  79%|███████▊  | 236/300 [05:23<00:55,  1.16it/s, 323.17/10800 seconds]"
     ]
    },
    {
     "name": "stdout",
     "output_type": "stream",
     "text": [
      "[I 2025-06-27 15:43:07,931] Trial 305 finished with value: 0.007624820545444175 and parameters: {'lr': 0.009772097765742968, 'leaves': 135, 'depth': 5, 'min_leaf': 185, 'feat_frac': 0.7789490807156493, 'bag_frac': 0.6080428367800783, 'bag_freq': 15, 'l1': 4.268518677194448e-05, 'l2': 0.35126609721434215, 'gamma': 0.00830965098246414}. Best is trial 118 with value: 0.00612545654917489.\n"
     ]
    },
    {
     "name": "stderr",
     "output_type": "stream",
     "text": [
      "Best trial: 118. Best value: 0.00612546:  79%|███████▉  | 237/300 [05:23<00:42,  1.48it/s, 323.42/10800 seconds]"
     ]
    },
    {
     "name": "stdout",
     "output_type": "stream",
     "text": [
      "[I 2025-06-27 15:43:08,182] Trial 308 finished with value: 0.007145317432636426 and parameters: {'lr': 0.05305791765519427, 'leaves': 236, 'depth': 4, 'min_leaf': 197, 'feat_frac': 0.8934932648062601, 'bag_frac': 0.8698191809895198, 'bag_freq': 6, 'l1': 0.002560549840700205, 'l2': 0.0018990730839392506, 'gamma': 0.0313077969220739}. Best is trial 118 with value: 0.00612545654917489.\n"
     ]
    },
    {
     "name": "stderr",
     "output_type": "stream",
     "text": [
      "Best trial: 118. Best value: 0.00612546:  79%|███████▉  | 238/300 [05:24<00:45,  1.36it/s, 324.30/10800 seconds]"
     ]
    },
    {
     "name": "stdout",
     "output_type": "stream",
     "text": [
      "[I 2025-06-27 15:43:09,056] Trial 307 finished with value: 0.006941999430097135 and parameters: {'lr': 0.03645044129856064, 'leaves': 238, 'depth': 4, 'min_leaf': 57, 'feat_frac': 0.8819128892177212, 'bag_frac': 0.741470978726622, 'bag_freq': 5, 'l1': 2.7663438568284265e-05, 'l2': 0.007811403830966123, 'gamma': 0.039440421668455745}. Best is trial 118 with value: 0.00612545654917489.\n"
     ]
    },
    {
     "name": "stderr",
     "output_type": "stream",
     "text": [
      "Best trial: 118. Best value: 0.00612546:  80%|███████▉  | 239/300 [05:24<00:36,  1.69it/s, 324.55/10800 seconds]"
     ]
    },
    {
     "name": "stdout",
     "output_type": "stream",
     "text": [
      "[I 2025-06-27 15:43:09,309] Trial 302 finished with value: 0.006786944835612328 and parameters: {'lr': 0.013095908326081632, 'leaves': 163, 'depth': 11, 'min_leaf': 160, 'feat_frac': 0.701874789195792, 'bag_frac': 0.8212029211024426, 'bag_freq': 3, 'l1': 1.6863290253064944e-06, 'l2': 0.03497666597061441, 'gamma': 0.17916761526710856}. Best is trial 118 with value: 0.00612545654917489.\n"
     ]
    },
    {
     "name": "stderr",
     "output_type": "stream",
     "text": [
      "Best trial: 118. Best value: 0.00612546:  80%|████████  | 240/300 [05:25<00:36,  1.66it/s, 325.17/10800 seconds]"
     ]
    },
    {
     "name": "stdout",
     "output_type": "stream",
     "text": [
      "[I 2025-06-27 15:43:09,932] Trial 270 finished with value: 0.007107657641264408 and parameters: {'lr': 0.0054531857847600505, 'leaves': 87, 'depth': 7, 'min_leaf': 34, 'feat_frac': 0.7563339331982054, 'bag_frac': 0.46534239774893515, 'bag_freq': 11, 'l1': 5.3641423221326304e-08, 'l2': 1.0337465615204213, 'gamma': 0.060967644338638424}. Best is trial 118 with value: 0.00612545654917489.\n"
     ]
    },
    {
     "name": "stderr",
     "output_type": "stream",
     "text": [
      "Best trial: 118. Best value: 0.00612546:  80%|████████  | 241/300 [05:28<01:25,  1.45s/it, 328.62/10800 seconds]"
     ]
    },
    {
     "name": "stdout",
     "output_type": "stream",
     "text": [
      "[I 2025-06-27 15:43:13,376] Trial 242 finished with value: 0.007326726283821682 and parameters: {'lr': 0.009460654668979065, 'leaves': 224, 'depth': 5, 'min_leaf': 215, 'feat_frac': 0.547021909297065, 'bag_frac': 0.8929709500938353, 'bag_freq': 4, 'l1': 1.715465443630279, 'l2': 0.18619802091367726, 'gamma': 0.0648814683327952}. Best is trial 118 with value: 0.00612545654917489.\n"
     ]
    },
    {
     "name": "stderr",
     "output_type": "stream",
     "text": [
      "Best trial: 118. Best value: 0.00612546:  81%|████████  | 242/300 [05:29<01:15,  1.31s/it, 329.59/10800 seconds]"
     ]
    },
    {
     "name": "stdout",
     "output_type": "stream",
     "text": [
      "[I 2025-06-27 15:43:14,346] Trial 311 finished with value: 0.006763593525156657 and parameters: {'lr': 0.09276737903390765, 'leaves': 248, 'depth': 4, 'min_leaf': 36, 'feat_frac': 0.8205847298013523, 'bag_frac': 0.9517887453787979, 'bag_freq': 9, 'l1': 0.0012842364559533057, 'l2': 4.806184875183794e-05, 'gamma': 0.05214253463187271}. Best is trial 118 with value: 0.00612545654917489.\n"
     ]
    },
    {
     "name": "stderr",
     "output_type": "stream",
     "text": [
      "Best trial: 118. Best value: 0.00612546:  81%|████████  | 243/300 [05:31<01:29,  1.57s/it, 331.76/10800 seconds]"
     ]
    },
    {
     "name": "stdout",
     "output_type": "stream",
     "text": [
      "[I 2025-06-27 15:43:16,519] Trial 289 finished with value: 0.007060061875999952 and parameters: {'lr': 0.005314664544002178, 'leaves': 33, 'depth': 6, 'min_leaf': 13, 'feat_frac': 0.7601541446622662, 'bag_frac': 0.465108509445638, 'bag_freq': 1, 'l1': 1.5967274178133957e-05, 'l2': 1.7343945515077621, 'gamma': 0.061392949448609756}. Best is trial 118 with value: 0.00612545654917489.\n"
     ]
    },
    {
     "name": "stderr",
     "output_type": "stream",
     "text": [
      "Best trial: 118. Best value: 0.00612546:  81%|████████▏ | 244/300 [05:35<01:58,  2.12s/it, 335.18/10800 seconds]"
     ]
    },
    {
     "name": "stdout",
     "output_type": "stream",
     "text": [
      "[I 2025-06-27 15:43:19,934] Trial 310 finished with value: 0.0069964581458485655 and parameters: {'lr': 0.028535425375359226, 'leaves': 251, 'depth': 8, 'min_leaf': 67, 'feat_frac': 0.7116177420146672, 'bag_frac': 0.7630946805094778, 'bag_freq': 5, 'l1': 3.631490754224635e-06, 'l2': 3.636168453743764e-08, 'gamma': 0.07753652455423592}. Best is trial 118 with value: 0.00612545654917489.\n"
     ]
    },
    {
     "name": "stderr",
     "output_type": "stream",
     "text": [
      "Best trial: 118. Best value: 0.00612546:  82%|████████▏ | 245/300 [05:35<01:33,  1.71s/it, 335.92/10800 seconds]"
     ]
    },
    {
     "name": "stdout",
     "output_type": "stream",
     "text": [
      "[I 2025-06-27 15:43:20,678] Trial 295 finished with value: 0.007667136587966216 and parameters: {'lr': 0.005744968220083595, 'leaves': 56, 'depth': 6, 'min_leaf': 37, 'feat_frac': 0.9309740050518263, 'bag_frac': 0.4142884910218803, 'bag_freq': 6, 'l1': 3.151632819444596e-08, 'l2': 0.4963091121037436, 'gamma': 0.1052156807955654}. Best is trial 118 with value: 0.00612545654917489.\n"
     ]
    },
    {
     "name": "stderr",
     "output_type": "stream",
     "text": [
      "Best trial: 118. Best value: 0.00612546:  82%|████████▏ | 246/300 [05:36<01:16,  1.41s/it, 336.63/10800 seconds]"
     ]
    },
    {
     "name": "stdout",
     "output_type": "stream",
     "text": [
      "[I 2025-06-27 15:43:21,393] Trial 319 finished with value: 0.00681105281581835 and parameters: {'lr': 0.033341611536936495, 'leaves': 214, 'depth': 6, 'min_leaf': 194, 'feat_frac': 0.9842245350899568, 'bag_frac': 0.5175543019410354, 'bag_freq': 7, 'l1': 3.399564774946364e-05, 'l2': 0.00027916825678658613, 'gamma': 0.02623014722753036}. Best is trial 118 with value: 0.00612545654917489.\n"
     ]
    },
    {
     "name": "stderr",
     "output_type": "stream",
     "text": [
      "Best trial: 118. Best value: 0.00612546:  82%|████████▏ | 247/300 [05:40<01:53,  2.14s/it, 340.49/10800 seconds]"
     ]
    },
    {
     "name": "stdout",
     "output_type": "stream",
     "text": [
      "[I 2025-06-27 15:43:25,251] Trial 312 finished with value: 0.007784372721068477 and parameters: {'lr': 0.015213682410544112, 'leaves': 45, 'depth': 5, 'min_leaf': 176, 'feat_frac': 0.7347198945976704, 'bag_frac': 0.5833991295491863, 'bag_freq': 12, 'l1': 1.0173467751289688e-08, 'l2': 0.0089130335142235, 'gamma': 0.0572779124786119}. Best is trial 118 with value: 0.00612545654917489.\n"
     ]
    },
    {
     "name": "stderr",
     "output_type": "stream",
     "text": [
      "Best trial: 118. Best value: 0.00612546:  83%|████████▎ | 248/300 [05:42<01:45,  2.03s/it, 342.26/10800 seconds]"
     ]
    },
    {
     "name": "stdout",
     "output_type": "stream",
     "text": [
      "[I 2025-06-27 15:43:27,020] Trial 322 finished with value: 0.008223305421889763 and parameters: {'lr': 0.08281394938454624, 'leaves': 187, 'depth': 7, 'min_leaf': 91, 'feat_frac': 0.7992341625060466, 'bag_frac': 0.8965242115485538, 'bag_freq': 13, 'l1': 0.03505908866632222, 'l2': 3.953272525503884e-06, 'gamma': 0.07700219113109048}. Best is trial 118 with value: 0.00612545654917489.\n"
     ]
    },
    {
     "name": "stderr",
     "output_type": "stream",
     "text": [
      "Best trial: 118. Best value: 0.00612546:  83%|████████▎ | 249/300 [05:43<01:30,  1.77s/it, 343.42/10800 seconds]"
     ]
    },
    {
     "name": "stdout",
     "output_type": "stream",
     "text": [
      "[I 2025-06-27 15:43:28,184] Trial 309 finished with value: 0.007954863572933074 and parameters: {'lr': 0.0061638525208356386, 'leaves': 62, 'depth': 5, 'min_leaf': 83, 'feat_frac': 0.793936295285863, 'bag_frac': 0.5260852043933507, 'bag_freq': 12, 'l1': 1.3932839325883421e-08, 'l2': 2.998781981357049, 'gamma': 0.06720035327401835}. Best is trial 118 with value: 0.00612545654917489.\n"
     ]
    },
    {
     "name": "stderr",
     "output_type": "stream",
     "text": [
      "Best trial: 118. Best value: 0.00612546:  83%|████████▎ | 250/300 [05:44<01:13,  1.46s/it, 344.16/10800 seconds]"
     ]
    },
    {
     "name": "stdout",
     "output_type": "stream",
     "text": [
      "[I 2025-06-27 15:43:28,921] Trial 294 finished with value: 0.006975808832347243 and parameters: {'lr': 0.01208477742734138, 'leaves': 165, 'depth': 7, 'min_leaf': 54, 'feat_frac': 0.8608258845020612, 'bag_frac': 0.7164316349016628, 'bag_freq': 1, 'l1': 8.130094230331432e-06, 'l2': 0.013160023787950169, 'gamma': 0.05612800501556092}. Best is trial 118 with value: 0.00612545654917489.\n"
     ]
    },
    {
     "name": "stderr",
     "output_type": "stream",
     "text": [
      "Best trial: 118. Best value: 0.00612546:  84%|████████▎ | 251/300 [05:44<00:53,  1.09s/it, 344.37/10800 seconds]"
     ]
    },
    {
     "name": "stdout",
     "output_type": "stream",
     "text": [
      "[I 2025-06-27 15:43:29,133] Trial 324 finished with value: 0.007409048695843382 and parameters: {'lr': 0.07514309491015264, 'leaves': 162, 'depth': 5, 'min_leaf': 36, 'feat_frac': 0.9444185630574151, 'bag_frac': 0.9767899079955337, 'bag_freq': 9, 'l1': 0.004451872525871078, 'l2': 6.8199509574475025e-06, 'gamma': 0.0402337818151501}. Best is trial 118 with value: 0.00612545654917489.\n"
     ]
    },
    {
     "name": "stderr",
     "output_type": "stream",
     "text": [
      "Best trial: 118. Best value: 0.00612546:  84%|████████▍ | 252/300 [05:46<01:04,  1.34s/it, 346.31/10800 seconds]"
     ]
    },
    {
     "name": "stdout",
     "output_type": "stream",
     "text": [
      "[I 2025-06-27 15:43:31,073] Trial 296 finished with value: 0.007087263341632128 and parameters: {'lr': 0.007990756442757947, 'leaves': 118, 'depth': 4, 'min_leaf': 18, 'feat_frac': 0.7571419445775752, 'bag_frac': 0.6629611777801563, 'bag_freq': 10, 'l1': 2.3237193481001495e-06, 'l2': 0.03561914780301368, 'gamma': 0.15880677801257864}. Best is trial 118 with value: 0.00612545654917489.\n"
     ]
    },
    {
     "name": "stderr",
     "output_type": "stream",
     "text": [
      "Best trial: 118. Best value: 0.00612546:  84%|████████▍ | 253/300 [05:47<01:01,  1.32s/it, 347.57/10800 seconds]"
     ]
    },
    {
     "name": "stdout",
     "output_type": "stream",
     "text": [
      "[I 2025-06-27 15:43:32,333] Trial 293 finished with value: 0.007090941122416013 and parameters: {'lr': 0.006094391254583012, 'leaves': 154, 'depth': 10, 'min_leaf': 65, 'feat_frac': 0.8035180814580173, 'bag_frac': 0.7262761589001899, 'bag_freq': 1, 'l1': 2.988218069272355e-08, 'l2': 0.00353858845451706, 'gamma': 0.22824658196325137}. Best is trial 118 with value: 0.00612545654917489.\n"
     ]
    },
    {
     "name": "stderr",
     "output_type": "stream",
     "text": [
      "Best trial: 118. Best value: 0.00612546:  85%|████████▍ | 254/300 [05:49<01:11,  1.56s/it, 349.70/10800 seconds]"
     ]
    },
    {
     "name": "stdout",
     "output_type": "stream",
     "text": [
      "[I 2025-06-27 15:43:34,457] Trial 298 finished with value: 0.00917156902993237 and parameters: {'lr': 0.011090805040581625, 'leaves': 221, 'depth': 13, 'min_leaf': 21, 'feat_frac': 0.700476806928592, 'bag_frac': 0.923219327926451, 'bag_freq': 5, 'l1': 1.81951109828847e-08, 'l2': 0.0014717472145844097, 'gamma': 0.12395370809943593}. Best is trial 118 with value: 0.00612545654917489.\n"
     ]
    },
    {
     "name": "stderr",
     "output_type": "stream",
     "text": [
      "Best trial: 118. Best value: 0.00612546:  85%|████████▌ | 255/300 [05:50<00:57,  1.27s/it, 350.29/10800 seconds]"
     ]
    },
    {
     "name": "stdout",
     "output_type": "stream",
     "text": [
      "[I 2025-06-27 15:43:35,049] Trial 315 finished with value: 0.006834738392654566 and parameters: {'lr': 0.009568986457823357, 'leaves': 137, 'depth': 7, 'min_leaf': 87, 'feat_frac': 0.789151614379732, 'bag_frac': 0.43846493750623716, 'bag_freq': 2, 'l1': 1.2123217754218435e-05, 'l2': 0.40689370914693845, 'gamma': 0.06120249692345172}. Best is trial 118 with value: 0.00612545654917489.\n"
     ]
    },
    {
     "name": "stderr",
     "output_type": "stream",
     "text": [
      "Best trial: 118. Best value: 0.00612546:  85%|████████▌ | 256/300 [05:51<00:53,  1.21s/it, 351.35/10800 seconds]"
     ]
    },
    {
     "name": "stdout",
     "output_type": "stream",
     "text": [
      "[I 2025-06-27 15:43:36,107] Trial 323 finished with value: 0.006561155610511472 and parameters: {'lr': 0.013922376625653687, 'leaves': 188, 'depth': 4, 'min_leaf': 45, 'feat_frac': 0.6971955968343583, 'bag_frac': 0.7465651802452826, 'bag_freq': 5, 'l1': 2.849921863876135e-06, 'l2': 4.3679505313419463e-07, 'gamma': 0.09759240464848667}. Best is trial 118 with value: 0.00612545654917489.\n",
      "[I 2025-06-27 15:43:36,258] Trial 325 finished with value: 0.00697357431431907 and parameters: {'lr': 0.020097363692165783, 'leaves': 246, 'depth': 4, 'min_leaf': 65, 'feat_frac': 0.9237966070624113, 'bag_frac': 0.5041833887517847, 'bag_freq': 11, 'l1': 4.297217405464449e-05, 'l2': 0.0006768461976008008, 'gamma': 0.01776549059975019}. Best is trial 118 with value: 0.00612545654917489.\n"
     ]
    },
    {
     "name": "stderr",
     "output_type": "stream",
     "text": [
      "Best trial: 118. Best value: 0.00612546:  86%|████████▌ | 258/300 [05:52<00:36,  1.15it/s, 352.36/10800 seconds]"
     ]
    },
    {
     "name": "stdout",
     "output_type": "stream",
     "text": [
      "[I 2025-06-27 15:43:37,119] Trial 332 finished with value: 0.007916818833474787 and parameters: {'lr': 0.05548815301895011, 'leaves': 232, 'depth': 7, 'min_leaf': 213, 'feat_frac': 0.886750134814139, 'bag_frac': 0.4369772037200095, 'bag_freq': 4, 'l1': 5.914983052291455e-05, 'l2': 6.936241604412605e-05, 'gamma': 0.04948228117370003}. Best is trial 118 with value: 0.00612545654917489.\n"
     ]
    },
    {
     "name": "stderr",
     "output_type": "stream",
     "text": [
      "Best trial: 118. Best value: 0.00612546:  86%|████████▋ | 259/300 [05:53<00:36,  1.12it/s, 353.30/10800 seconds]"
     ]
    },
    {
     "name": "stdout",
     "output_type": "stream",
     "text": [
      "[I 2025-06-27 15:43:38,060] Trial 330 finished with value: 0.008116310801485303 and parameters: {'lr': 0.028726677803348925, 'leaves': 195, 'depth': 6, 'min_leaf': 159, 'feat_frac': 0.9578478930338971, 'bag_frac': 0.4660344042151897, 'bag_freq': 8, 'l1': 4.7098453411165034e-05, 'l2': 0.00018009793126000845, 'gamma': 0.04837701614330055}. Best is trial 118 with value: 0.00612545654917489.\n"
     ]
    },
    {
     "name": "stderr",
     "output_type": "stream",
     "text": [
      "Best trial: 118. Best value: 0.00612546:  87%|████████▋ | 260/300 [05:55<00:48,  1.22s/it, 355.29/10800 seconds]"
     ]
    },
    {
     "name": "stdout",
     "output_type": "stream",
     "text": [
      "[I 2025-06-27 15:43:40,049] Trial 321 finished with value: 0.007591031403758802 and parameters: {'lr': 0.009324580525104962, 'leaves': 201, 'depth': 14, 'min_leaf': 200, 'feat_frac': 0.8576479727728622, 'bag_frac': 0.9504190078802928, 'bag_freq': 1, 'l1': 1.564427576748344e-07, 'l2': 0.08021413899168711, 'gamma': 0.18385574741326755}. Best is trial 118 with value: 0.00612545654917489.\n"
     ]
    },
    {
     "name": "stderr",
     "output_type": "stream",
     "text": [
      "Best trial: 118. Best value: 0.00612546:  87%|████████▋ | 261/300 [05:56<00:42,  1.08s/it, 356.03/10800 seconds]"
     ]
    },
    {
     "name": "stdout",
     "output_type": "stream",
     "text": [
      "[I 2025-06-27 15:43:40,794] Trial 320 finished with value: 0.00750048602072274 and parameters: {'lr': 0.008616743519473362, 'leaves': 181, 'depth': 5, 'min_leaf': 116, 'feat_frac': 0.8493482350702268, 'bag_frac': 0.48352713587178175, 'bag_freq': 3, 'l1': 5.749626560449128e-06, 'l2': 0.8673902695427098, 'gamma': 0.04883464202304671}. Best is trial 118 with value: 0.00612545654917489.\n"
     ]
    },
    {
     "name": "stderr",
     "output_type": "stream",
     "text": [
      "Best trial: 118. Best value: 0.00612546:  87%|████████▋ | 262/300 [05:59<01:06,  1.74s/it, 359.33/10800 seconds]"
     ]
    },
    {
     "name": "stdout",
     "output_type": "stream",
     "text": [
      "[I 2025-06-27 15:43:44,085] Trial 334 finished with value: 0.007266653130181977 and parameters: {'lr': 0.015517652810656634, 'leaves': 122, 'depth': 14, 'min_leaf': 173, 'feat_frac': 0.6676320415027037, 'bag_frac': 0.8229052806865954, 'bag_freq': 4, 'l1': 7.39535582614627e-05, 'l2': 0.010793220149177466, 'gamma': 0.19575316044995394}. Best is trial 118 with value: 0.00612545654917489.\n"
     ]
    },
    {
     "name": "stderr",
     "output_type": "stream",
     "text": [
      "Best trial: 118. Best value: 0.00612546:  88%|████████▊ | 263/300 [05:59<00:49,  1.34s/it, 359.74/10800 seconds]"
     ]
    },
    {
     "name": "stdout",
     "output_type": "stream",
     "text": [
      "[I 2025-06-27 15:43:44,498] Trial 316 finished with value: 0.007283725780837937 and parameters: {'lr': 0.00725936438547411, 'leaves': 50, 'depth': 5, 'min_leaf': 18, 'feat_frac': 0.8297984433845761, 'bag_frac': 0.4075153695841314, 'bag_freq': 8, 'l1': 5.946551392196275e-08, 'l2': 1.0810523560913645, 'gamma': 0.10254324941827071}. Best is trial 118 with value: 0.00612545654917489.\n"
     ]
    },
    {
     "name": "stderr",
     "output_type": "stream",
     "text": [
      "Best trial: 118. Best value: 0.00612546:  88%|████████▊ | 264/300 [05:59<00:36,  1.00s/it, 359.92/10800 seconds]"
     ]
    },
    {
     "name": "stdout",
     "output_type": "stream",
     "text": [
      "[I 2025-06-27 15:43:44,677] Trial 318 finished with value: 0.007652350271377334 and parameters: {'lr': 0.006842009305617746, 'leaves': 185, 'depth': 7, 'min_leaf': 69, 'feat_frac': 0.7617864528553576, 'bag_frac': 0.5433713012462958, 'bag_freq': 3, 'l1': 6.428157503295108e-08, 'l2': 0.26938963571827934, 'gamma': 0.03548552663771011}. Best is trial 118 with value: 0.00612545654917489.\n"
     ]
    },
    {
     "name": "stderr",
     "output_type": "stream",
     "text": [
      "Best trial: 118. Best value: 0.00612546:  88%|████████▊ | 265/300 [06:00<00:32,  1.08it/s, 360.69/10800 seconds]"
     ]
    },
    {
     "name": "stdout",
     "output_type": "stream",
     "text": [
      "[I 2025-06-27 15:43:45,446] Trial 338 finished with value: 0.007203241982062293 and parameters: {'lr': 0.031793514287119025, 'leaves': 185, 'depth': 11, 'min_leaf': 125, 'feat_frac': 0.6704594381091399, 'bag_frac': 0.7715223740064855, 'bag_freq': 4, 'l1': 1.6133654838858285e-08, 'l2': 0.0008855272243801598, 'gamma': 0.16146911595805064}. Best is trial 118 with value: 0.00612545654917489.\n"
     ]
    },
    {
     "name": "stderr",
     "output_type": "stream",
     "text": [
      "Best trial: 118. Best value: 0.00612546:  89%|████████▊ | 266/300 [06:00<00:24,  1.39it/s, 360.93/10800 seconds]"
     ]
    },
    {
     "name": "stdout",
     "output_type": "stream",
     "text": [
      "[I 2025-06-27 15:43:45,693] Trial 326 finished with value: 0.007032063314213881 and parameters: {'lr': 0.017560369057583004, 'leaves': 54, 'depth': 6, 'min_leaf': 143, 'feat_frac': 0.6949092491812185, 'bag_frac': 0.5830780744730965, 'bag_freq': 12, 'l1': 0.04513104951984464, 'l2': 3.604203610254668, 'gamma': 0.058482739683213186}. Best is trial 118 with value: 0.00612545654917489.\n"
     ]
    },
    {
     "name": "stderr",
     "output_type": "stream",
     "text": [
      "Best trial: 118. Best value: 0.00612546:  89%|████████▉ | 267/300 [06:02<00:36,  1.11s/it, 362.94/10800 seconds]"
     ]
    },
    {
     "name": "stdout",
     "output_type": "stream",
     "text": [
      "[I 2025-06-27 15:43:47,696] Trial 337 finished with value: 0.007090035571473085 and parameters: {'lr': 0.025650285320029557, 'leaves': 113, 'depth': 6, 'min_leaf': 123, 'feat_frac': 0.7164016255681762, 'bag_frac': 0.5153091598898973, 'bag_freq': 4, 'l1': 0.0007736844052508322, 'l2': 2.8178103728311457, 'gamma': 0.16768333128325358}. Best is trial 118 with value: 0.00612545654917489.\n"
     ]
    },
    {
     "name": "stderr",
     "output_type": "stream",
     "text": [
      "Best trial: 118. Best value: 0.00612546:  89%|████████▉ | 268/300 [06:03<00:30,  1.03it/s, 363.58/10800 seconds]"
     ]
    },
    {
     "name": "stdout",
     "output_type": "stream",
     "text": [
      "[I 2025-06-27 15:43:48,342] Trial 335 finished with value: 0.007676373522022948 and parameters: {'lr': 0.039377201443687955, 'leaves': 226, 'depth': 6, 'min_leaf': 63, 'feat_frac': 0.9779481751764216, 'bag_frac': 0.4322851135368765, 'bag_freq': 9, 'l1': 9.195365225892481e-05, 'l2': 0.00019116080099128497, 'gamma': 0.031560635160455}. Best is trial 118 with value: 0.00612545654917489.\n"
     ]
    },
    {
     "name": "stderr",
     "output_type": "stream",
     "text": [
      "Best trial: 118. Best value: 0.00612546:  90%|████████▉ | 269/300 [06:03<00:24,  1.28it/s, 363.93/10800 seconds]"
     ]
    },
    {
     "name": "stdout",
     "output_type": "stream",
     "text": [
      "[I 2025-06-27 15:43:48,687] Trial 329 finished with value: 0.007979402651039625 and parameters: {'lr': 0.042242797717625305, 'leaves': 213, 'depth': 6, 'min_leaf': 31, 'feat_frac': 0.7798180140186193, 'bag_frac': 0.9555817611574197, 'bag_freq': 8, 'l1': 0.0012278118037789513, 'l2': 8.90147840984625e-05, 'gamma': 0.11490113396462993}. Best is trial 118 with value: 0.00612545654917489.\n"
     ]
    },
    {
     "name": "stderr",
     "output_type": "stream",
     "text": [
      "Best trial: 118. Best value: 0.00612546:  90%|█████████ | 270/300 [06:04<00:19,  1.54it/s, 364.27/10800 seconds]"
     ]
    },
    {
     "name": "stdout",
     "output_type": "stream",
     "text": [
      "[I 2025-06-27 15:43:49,030] Trial 331 finished with value: 0.007070850407566031 and parameters: {'lr': 0.008742440007324121, 'leaves': 102, 'depth': 10, 'min_leaf': 156, 'feat_frac': 0.5949740596660458, 'bag_frac': 0.8083498057340023, 'bag_freq': 0, 'l1': 7.533654547282405e-07, 'l2': 0.0016591286374642007, 'gamma': 0.19944910876264677}. Best is trial 118 with value: 0.00612545654917489.\n"
     ]
    },
    {
     "name": "stderr",
     "output_type": "stream",
     "text": [
      "Best trial: 118. Best value: 0.00612546:  90%|█████████ | 271/300 [06:06<00:28,  1.02it/s, 366.03/10800 seconds]"
     ]
    },
    {
     "name": "stdout",
     "output_type": "stream",
     "text": [
      "[I 2025-06-27 15:43:50,785] Trial 301 finished with value: 0.007758856045504624 and parameters: {'lr': 0.0073487987586962475, 'leaves': 238, 'depth': 11, 'min_leaf': 24, 'feat_frac': 0.5880004558767901, 'bag_frac': 0.6462346433285853, 'bag_freq': 4, 'l1': 2.027481391256314e-06, 'l2': 0.000611404016513594, 'gamma': 0.07181216332226133}. Best is trial 118 with value: 0.00612545654917489.\n"
     ]
    },
    {
     "name": "stderr",
     "output_type": "stream",
     "text": [
      "Best trial: 118. Best value: 0.00612546:  91%|█████████ | 272/300 [06:06<00:22,  1.24it/s, 366.43/10800 seconds]"
     ]
    },
    {
     "name": "stdout",
     "output_type": "stream",
     "text": [
      "[I 2025-06-27 15:43:51,189] Trial 314 finished with value: 0.00823227545246922 and parameters: {'lr': 0.013308924147009335, 'leaves': 132, 'depth': 8, 'min_leaf': 241, 'feat_frac': 0.9313570387914497, 'bag_frac': 0.7752629789357623, 'bag_freq': 7, 'l1': 8.406490092010508e-05, 'l2': 4.827432146562514e-05, 'gamma': 0.011562149431193807}. Best is trial 118 with value: 0.00612545654917489.\n"
     ]
    },
    {
     "name": "stderr",
     "output_type": "stream",
     "text": [
      "Best trial: 118. Best value: 0.00612546:  91%|█████████ | 273/300 [06:07<00:21,  1.27it/s, 367.17/10800 seconds]"
     ]
    },
    {
     "name": "stdout",
     "output_type": "stream",
     "text": [
      "[I 2025-06-27 15:43:51,930] Trial 343 finished with value: 0.007498728763257522 and parameters: {'lr': 0.02808847089547802, 'leaves': 150, 'depth': 7, 'min_leaf': 285, 'feat_frac': 0.8891138477490121, 'bag_frac': 0.7486496049621567, 'bag_freq': 5, 'l1': 2.1104789256529798e-05, 'l2': 0.0006614697309033672, 'gamma': 0.15267304096789253}. Best is trial 118 with value: 0.00612545654917489.\n"
     ]
    },
    {
     "name": "stderr",
     "output_type": "stream",
     "text": [
      "Best trial: 118. Best value: 0.00612546:  91%|█████████▏| 274/300 [06:07<00:19,  1.36it/s, 367.78/10800 seconds]"
     ]
    },
    {
     "name": "stdout",
     "output_type": "stream",
     "text": [
      "[I 2025-06-27 15:43:52,537] Trial 340 finished with value: 0.008185455631267368 and parameters: {'lr': 0.01511948586789766, 'leaves': 194, 'depth': 12, 'min_leaf': 143, 'feat_frac': 0.7905953043560033, 'bag_frac': 0.6866287541968701, 'bag_freq': 6, 'l1': 1.47837789463782e-05, 'l2': 0.003042034539645018, 'gamma': 0.19389234221743384}. Best is trial 118 with value: 0.00612545654917489.\n"
     ]
    },
    {
     "name": "stderr",
     "output_type": "stream",
     "text": [
      "Best trial: 118. Best value: 0.00612546:  92%|█████████▏| 275/300 [06:08<00:19,  1.27it/s, 368.69/10800 seconds]"
     ]
    },
    {
     "name": "stdout",
     "output_type": "stream",
     "text": [
      "[I 2025-06-27 15:43:53,454] Trial 350 finished with value: 0.008817688947978053 and parameters: {'lr': 0.036241839887938346, 'leaves': 245, 'depth': 4, 'min_leaf': 172, 'feat_frac': 0.6483484196459467, 'bag_frac': 0.9830963735638609, 'bag_freq': 9, 'l1': 4.627381101672958, 'l2': 0.039988375623364894, 'gamma': 0.1992697093376291}. Best is trial 118 with value: 0.00612545654917489.\n"
     ]
    },
    {
     "name": "stderr",
     "output_type": "stream",
     "text": [
      "Best trial: 118. Best value: 0.00612546:  92%|█████████▏| 276/300 [06:10<00:28,  1.18s/it, 370.78/10800 seconds]"
     ]
    },
    {
     "name": "stdout",
     "output_type": "stream",
     "text": [
      "[I 2025-06-27 15:43:55,541] Trial 339 finished with value: 0.007289355632118183 and parameters: {'lr': 0.02373770715634027, 'leaves': 141, 'depth': 4, 'min_leaf': 296, 'feat_frac': 0.9430825172354842, 'bag_frac': 0.7090227881767808, 'bag_freq': 3, 'l1': 0.00042511284518964847, 'l2': 0.0005885433249638244, 'gamma': 0.14028462491857202}. Best is trial 118 with value: 0.00612545654917489.\n"
     ]
    },
    {
     "name": "stderr",
     "output_type": "stream",
     "text": [
      "Best trial: 118. Best value: 0.00612546:  92%|█████████▏| 277/300 [06:11<00:22,  1.01it/s, 371.32/10800 seconds]"
     ]
    },
    {
     "name": "stdout",
     "output_type": "stream",
     "text": [
      "[I 2025-06-27 15:43:56,077] Trial 344 finished with value: 0.0075292425610820595 and parameters: {'lr': 0.06609142298793294, 'leaves': 255, 'depth': 5, 'min_leaf': 20, 'feat_frac': 0.6218970661826904, 'bag_frac': 0.8161551978216227, 'bag_freq': 8, 'l1': 1.7383065239698632, 'l2': 5.468374170814586e-05, 'gamma': 0.05731529448255566}. Best is trial 118 with value: 0.00612545654917489.\n"
     ]
    },
    {
     "name": "stderr",
     "output_type": "stream",
     "text": [
      "Best trial: 118. Best value: 0.00612546:  93%|█████████▎| 278/300 [06:13<00:26,  1.23s/it, 373.11/10800 seconds]"
     ]
    },
    {
     "name": "stdout",
     "output_type": "stream",
     "text": [
      "[I 2025-06-27 15:43:57,869] Trial 317 finished with value: 0.007070501399403023 and parameters: {'lr': 0.0065652733831402885, 'leaves': 70, 'depth': 5, 'min_leaf': 63, 'feat_frac': 0.701727657963343, 'bag_frac': 0.5128742327094606, 'bag_freq': 4, 'l1': 3.430695194158021e-08, 'l2': 1.0401431565622068, 'gamma': 0.05526528262149539}. Best is trial 118 with value: 0.00612545654917489.\n"
     ]
    },
    {
     "name": "stderr",
     "output_type": "stream",
     "text": [
      "Best trial: 118. Best value: 0.00612546:  93%|█████████▎| 279/300 [06:13<00:22,  1.05s/it, 373.75/10800 seconds]"
     ]
    },
    {
     "name": "stdout",
     "output_type": "stream",
     "text": [
      "[I 2025-06-27 15:43:58,507] Trial 347 finished with value: 0.00792103461939028 and parameters: {'lr': 0.07778612256414372, 'leaves': 199, 'depth': 6, 'min_leaf': 36, 'feat_frac': 0.8288109018159925, 'bag_frac': 0.9768753699964213, 'bag_freq': 12, 'l1': 0.00021038541380301697, 'l2': 0.0011529834744407994, 'gamma': 0.0814229844126155}. Best is trial 118 with value: 0.00612545654917489.\n"
     ]
    },
    {
     "name": "stderr",
     "output_type": "stream",
     "text": [
      "Best trial: 118. Best value: 0.00612546:  93%|█████████▎| 280/300 [06:14<00:21,  1.06s/it, 374.83/10800 seconds]"
     ]
    },
    {
     "name": "stdout",
     "output_type": "stream",
     "text": [
      "[I 2025-06-27 15:43:59,587] Trial 299 finished with value: 0.007612804565083743 and parameters: {'lr': 0.005459839938049882, 'leaves': 201, 'depth': 11, 'min_leaf': 48, 'feat_frac': 0.5464874624273988, 'bag_frac': 0.6803408626728644, 'bag_freq': 1, 'l1': 5.033433405847472e-07, 'l2': 1.4985449350950547e-05, 'gamma': 0.13691925057616305}. Best is trial 118 with value: 0.00612545654917489.\n"
     ]
    },
    {
     "name": "stderr",
     "output_type": "stream",
     "text": [
      "Best trial: 118. Best value: 0.00612546:  94%|█████████▎| 281/300 [06:17<00:31,  1.63s/it, 377.80/10800 seconds]"
     ]
    },
    {
     "name": "stdout",
     "output_type": "stream",
     "text": [
      "[I 2025-06-27 15:44:02,563] Trial 341 finished with value: 0.007699705518960149 and parameters: {'lr': 0.011620585188787768, 'leaves': 101, 'depth': 8, 'min_leaf': 53, 'feat_frac': 0.8689993771896289, 'bag_frac': 0.4473069718605972, 'bag_freq': 2, 'l1': 0.0013839549163849108, 'l2': 1.7280445456088311, 'gamma': 0.035973652024132954}. Best is trial 118 with value: 0.00612545654917489.\n"
     ]
    },
    {
     "name": "stderr",
     "output_type": "stream",
     "text": [
      "Best trial: 118. Best value: 0.00612546:  94%|█████████▍| 282/300 [06:18<00:23,  1.30s/it, 378.34/10800 seconds]"
     ]
    },
    {
     "name": "stdout",
     "output_type": "stream",
     "text": [
      "[I 2025-06-27 15:44:03,100] Trial 313 finished with value: 0.007385038035919741 and parameters: {'lr': 0.006116131671782544, 'leaves': 71, 'depth': 4, 'min_leaf': 132, 'feat_frac': 0.7453469390804592, 'bag_frac': 0.6370567661227222, 'bag_freq': 4, 'l1': 7.750830654962428e-08, 'l2': 4.790363857240521, 'gamma': 0.004704881176581875}. Best is trial 118 with value: 0.00612545654917489.\n"
     ]
    },
    {
     "name": "stderr",
     "output_type": "stream",
     "text": [
      "Best trial: 118. Best value: 0.00612546:  95%|█████████▍| 284/300 [06:19<00:21,  1.34s/it, 379.87/10800 seconds]"
     ]
    },
    {
     "name": "stdout",
     "output_type": "stream",
     "text": [
      "[I 2025-06-27 15:44:04,527] Trial 333 finished with value: 0.008680765368703639 and parameters: {'lr': 0.005740169180926094, 'leaves': 109, 'depth': 4, 'min_leaf': 184, 'feat_frac': 0.7232292990751733, 'bag_frac': 0.6477637840922752, 'bag_freq': 9, 'l1': 1.0769851424679435e-06, 'l2': 1.114393832037333, 'gamma': 0.05210990691310207}. Best is trial 118 with value: 0.00612545654917489.\n",
      "[I 2025-06-27 15:44:04,627] Trial 356 finished with value: 0.006793906158234074 and parameters: {'lr': 0.09086137952848526, 'leaves': 244, 'depth': 4, 'min_leaf': 51, 'feat_frac': 0.7126379357934418, 'bag_frac': 0.9647501577986972, 'bag_freq': 9, 'l1': 0.0005346059261834581, 'l2': 0.025780795063219234, 'gamma': 0.13363816196013256}. Best is trial 118 with value: 0.00612545654917489.\n"
     ]
    },
    {
     "name": "stderr",
     "output_type": "stream",
     "text": [
      "Best trial: 118. Best value: 0.00612546:  95%|█████████▌| 285/300 [06:23<00:23,  1.53s/it, 383.28/10800 seconds]"
     ]
    },
    {
     "name": "stdout",
     "output_type": "stream",
     "text": [
      "[I 2025-06-27 15:44:08,041] Trial 336 finished with value: 0.007404644726252287 and parameters: {'lr': 0.015104980304279963, 'leaves': 155, 'depth': 14, 'min_leaf': 87, 'feat_frac': 0.6156624711550781, 'bag_frac': 0.8326932301556954, 'bag_freq': 7, 'l1': 1.6105846575224756e-06, 'l2': 2.2889595841629427, 'gamma': 0.14401657440473503}. Best is trial 118 with value: 0.00612545654917489.\n"
     ]
    },
    {
     "name": "stderr",
     "output_type": "stream",
     "text": [
      "Best trial: 118. Best value: 0.00612546:  95%|█████████▌| 286/300 [06:24<00:20,  1.49s/it, 384.63/10800 seconds]"
     ]
    },
    {
     "name": "stdout",
     "output_type": "stream",
     "text": [
      "[I 2025-06-27 15:44:09,386] Trial 353 finished with value: 0.008068355165501067 and parameters: {'lr': 0.008353596378271126, 'leaves': 132, 'depth': 4, 'min_leaf': 93, 'feat_frac': 0.948004588850079, 'bag_frac': 0.6807879020196432, 'bag_freq': 5, 'l1': 0.00018246940357176785, 'l2': 5.6629307246499736e-08, 'gamma': 0.03903118987500722}. Best is trial 118 with value: 0.00612545654917489.\n"
     ]
    },
    {
     "name": "stderr",
     "output_type": "stream",
     "text": [
      "Best trial: 118. Best value: 0.00612546:  96%|█████████▌| 287/300 [06:25<00:16,  1.25s/it, 385.21/10800 seconds]"
     ]
    },
    {
     "name": "stdout",
     "output_type": "stream",
     "text": [
      "[I 2025-06-27 15:44:09,967] Trial 354 finished with value: 0.007604217123034249 and parameters: {'lr': 0.033043025203995796, 'leaves': 227, 'depth': 5, 'min_leaf': 70, 'feat_frac': 0.8884744150322276, 'bag_frac': 0.9497531772385003, 'bag_freq': 12, 'l1': 0.04763988974577759, 'l2': 0.0007016022827457175, 'gamma': 0.05559797495618296}. Best is trial 118 with value: 0.00612545654917489.\n"
     ]
    },
    {
     "name": "stderr",
     "output_type": "stream",
     "text": [
      "Best trial: 118. Best value: 0.00612546:  96%|█████████▌| 288/300 [06:27<00:19,  1.64s/it, 387.89/10800 seconds]"
     ]
    },
    {
     "name": "stdout",
     "output_type": "stream",
     "text": [
      "[I 2025-06-27 15:44:12,650] Trial 328 finished with value: 0.008374719773954048 and parameters: {'lr': 0.00990943828824913, 'leaves': 142, 'depth': 12, 'min_leaf': 191, 'feat_frac': 0.6515664156854617, 'bag_frac': 0.8242199884905271, 'bag_freq': 1, 'l1': 1.4811800453079257e-06, 'l2': 0.10438399047148735, 'gamma': 0.15221917580786642}. Best is trial 118 with value: 0.00612545654917489.\n"
     ]
    },
    {
     "name": "stderr",
     "output_type": "stream",
     "text": [
      "Best trial: 118. Best value: 0.00612546:  96%|█████████▋| 289/300 [06:28<00:13,  1.24s/it, 388.09/10800 seconds]"
     ]
    },
    {
     "name": "stdout",
     "output_type": "stream",
     "text": [
      "[I 2025-06-27 15:44:12,854] Trial 346 finished with value: 0.006710334232145536 and parameters: {'lr': 0.01818737372183433, 'leaves': 250, 'depth': 5, 'min_leaf': 53, 'feat_frac': 0.8410529113684668, 'bag_frac': 0.9119554153589168, 'bag_freq': 9, 'l1': 0.000772900980283192, 'l2': 1.8080613846363588e-05, 'gamma': 0.006595504348411651}. Best is trial 118 with value: 0.00612545654917489.\n"
     ]
    },
    {
     "name": "stderr",
     "output_type": "stream",
     "text": [
      "Best trial: 118. Best value: 0.00612546:  97%|█████████▋| 290/300 [06:29<00:12,  1.28s/it, 389.49/10800 seconds]"
     ]
    },
    {
     "name": "stdout",
     "output_type": "stream",
     "text": [
      "[I 2025-06-27 15:44:14,245] Trial 358 finished with value: 0.008219893607927433 and parameters: {'lr': 0.04678293131057294, 'leaves': 199, 'depth': 8, 'min_leaf': 100, 'feat_frac': 0.994956869519219, 'bag_frac': 0.5208985829383085, 'bag_freq': 8, 'l1': 3.5175941645923005e-07, 'l2': 0.17030175873853506, 'gamma': 0.041363723494849604}. Best is trial 118 with value: 0.00612545654917489.\n",
      "[I 2025-06-27 15:44:14,420] Trial 345 finished with value: 0.006829414464791362 and parameters: {'lr': 0.013199867858440784, 'leaves': 139, 'depth': 6, 'min_leaf': 19, 'feat_frac': 0.6345666128286537, 'bag_frac': 0.8047848066697969, 'bag_freq': 4, 'l1': 3.1083913313380396e-05, 'l2': 6.859274230224841e-07, 'gamma': 0.10068310572580033}. Best is trial 118 with value: 0.00612545654917489.\n"
     ]
    },
    {
     "name": "stderr",
     "output_type": "stream",
     "text": [
      "Best trial: 118. Best value: 0.00612546:  97%|█████████▋| 292/300 [06:34<00:17,  2.23s/it, 394.94/10800 seconds]"
     ]
    },
    {
     "name": "stdout",
     "output_type": "stream",
     "text": [
      "[I 2025-06-27 15:44:19,703] Trial 349 finished with value: 0.007210183777238972 and parameters: {'lr': 0.005418700672190953, 'leaves': 205, 'depth': 4, 'min_leaf': 52, 'feat_frac': 0.7984313811828204, 'bag_frac': 0.6732570956279565, 'bag_freq': 5, 'l1': 0.0005496108367486435, 'l2': 3.627746803111939e-08, 'gamma': 0.0505849458830061}. Best is trial 118 with value: 0.00612545654917489.\n"
     ]
    },
    {
     "name": "stderr",
     "output_type": "stream",
     "text": [
      "Best trial: 118. Best value: 0.00612546:  98%|█████████▊| 293/300 [06:37<00:17,  2.44s/it, 397.91/10800 seconds]"
     ]
    },
    {
     "name": "stdout",
     "output_type": "stream",
     "text": [
      "[I 2025-06-27 15:44:22,670] Trial 327 finished with value: 0.007143475656456518 and parameters: {'lr': 0.005682742117018209, 'leaves': 220, 'depth': 8, 'min_leaf': 34, 'feat_frac': 0.7429087069565847, 'bag_frac': 0.6524206464357083, 'bag_freq': 0, 'l1': 0.0001755591497056568, 'l2': 0.0034574844316435467, 'gamma': 0.13169472338045643}. Best is trial 118 with value: 0.00612545654917489.\n"
     ]
    },
    {
     "name": "stderr",
     "output_type": "stream",
     "text": [
      "Best trial: 118. Best value: 0.00612546:  98%|█████████▊| 294/300 [06:38<00:11,  1.90s/it, 398.53/10800 seconds]"
     ]
    },
    {
     "name": "stdout",
     "output_type": "stream",
     "text": [
      "[I 2025-06-27 15:44:23,293] Trial 355 finished with value: 0.007782669803631634 and parameters: {'lr': 0.00566109557299259, 'leaves': 62, 'depth': 6, 'min_leaf': 76, 'feat_frac': 0.7872846763776307, 'bag_frac': 0.4359996148139371, 'bag_freq': 6, 'l1': 3.005164735664694e-06, 'l2': 3.498012664262619, 'gamma': 0.057801601204360266}. Best is trial 118 with value: 0.00612545654917489.\n"
     ]
    },
    {
     "name": "stderr",
     "output_type": "stream",
     "text": [
      "Best trial: 118. Best value: 0.00612546:  98%|█████████▊| 295/300 [06:40<00:09,  1.98s/it, 400.68/10800 seconds]"
     ]
    },
    {
     "name": "stdout",
     "output_type": "stream",
     "text": [
      "[I 2025-06-27 15:44:25,444] Trial 357 finished with value: 0.0076864094125203685 and parameters: {'lr': 0.008868989841797063, 'leaves': 242, 'depth': 9, 'min_leaf': 141, 'feat_frac': 0.5052345488124481, 'bag_frac': 0.8222508393402117, 'bag_freq': 3, 'l1': 6.948805178411797e-06, 'l2': 0.17204382763691245, 'gamma': 0.140976030582451}. Best is trial 118 with value: 0.00612545654917489.\n"
     ]
    },
    {
     "name": "stderr",
     "output_type": "stream",
     "text": [
      "Best trial: 118. Best value: 0.00612546:  99%|█████████▊| 296/300 [06:41<00:06,  1.53s/it, 401.15/10800 seconds]"
     ]
    },
    {
     "name": "stdout",
     "output_type": "stream",
     "text": [
      "[I 2025-06-27 15:44:25,913] Trial 351 finished with value: 0.007596690222765794 and parameters: {'lr': 0.007067294298401259, 'leaves': 171, 'depth': 7, 'min_leaf': 62, 'feat_frac': 0.8225826536140651, 'bag_frac': 0.41952347437972465, 'bag_freq': 0, 'l1': 0.43171585117046013, 'l2': 1.9532288285745423, 'gamma': 0.07236852258379689}. Best is trial 118 with value: 0.00612545654917489.\n"
     ]
    },
    {
     "name": "stderr",
     "output_type": "stream",
     "text": [
      "Best trial: 118. Best value: 0.00612546:  99%|█████████▉| 297/300 [06:41<00:03,  1.17s/it, 401.47/10800 seconds]"
     ]
    },
    {
     "name": "stdout",
     "output_type": "stream",
     "text": [
      "[I 2025-06-27 15:44:26,230] Trial 352 finished with value: 0.007127224643174836 and parameters: {'lr': 0.014218148633754086, 'leaves': 160, 'depth': 6, 'min_leaf': 37, 'feat_frac': 0.80798833505368, 'bag_frac': 0.7310530447714059, 'bag_freq': 6, 'l1': 1.9684622893140144e-05, 'l2': 1.8950763236248265e-08, 'gamma': 0.07877432892377383}. Best is trial 118 with value: 0.00612545654917489.\n"
     ]
    },
    {
     "name": "stderr",
     "output_type": "stream",
     "text": [
      "Best trial: 118. Best value: 0.00612546:  99%|█████████▉| 298/300 [06:41<00:01,  1.10it/s, 401.77/10800 seconds]"
     ]
    },
    {
     "name": "stdout",
     "output_type": "stream",
     "text": [
      "[I 2025-06-27 15:44:26,530] Trial 348 finished with value: 0.007377702915243781 and parameters: {'lr': 0.00851638870771829, 'leaves': 102, 'depth': 6, 'min_leaf': 89, 'feat_frac': 0.6633454283847491, 'bag_frac': 0.4400486395517896, 'bag_freq': 2, 'l1': 0.00014232627923384088, 'l2': 0.013410062384690958, 'gamma': 0.007014843151907542}. Best is trial 118 with value: 0.00612545654917489.\n"
     ]
    },
    {
     "name": "stderr",
     "output_type": "stream",
     "text": [
      "Best trial: 118. Best value: 0.00612546: 100%|█████████▉| 299/300 [06:42<00:00,  1.30it/s, 402.21/10800 seconds]"
     ]
    },
    {
     "name": "stdout",
     "output_type": "stream",
     "text": [
      "[I 2025-06-27 15:44:26,974] Trial 342 finished with value: 0.008265384858155098 and parameters: {'lr': 0.0054830675803935695, 'leaves': 98, 'depth': 10, 'min_leaf': 111, 'feat_frac': 0.8855931248264073, 'bag_frac': 0.4158297986918754, 'bag_freq': 0, 'l1': 0.0008227976829315822, 'l2': 0.12104030272443848, 'gamma': 0.11433715767267043}. Best is trial 118 with value: 0.00612545654917489.\n"
     ]
    },
    {
     "name": "stderr",
     "output_type": "stream",
     "text": [
      "Best trial: 118. Best value: 0.00612546: 100%|██████████| 300/300 [06:42<00:00,  1.34s/it, 402.76/10800 seconds]\n",
      "c:\\Users\\james\\OneDrive\\Documents\\GitHub\\solana-qrf-interval-forecasting\\.venv\\Lib\\site-packages\\optuna\\samplers\\_tpe\\sampler.py:319: ExperimentalWarning: ``multivariate`` option is an experimental feature. The interface can change in the future.\n",
      "  warnings.warn(\n",
      "[I 2025-06-27 15:44:27,684] A new study created in RDB with name: lgb_cqr_tau0.25\n"
     ]
    },
    {
     "name": "stdout",
     "output_type": "stream",
     "text": [
      "[I 2025-06-27 15:44:27,514] Trial 359 finished with value: 0.00678195037876661 and parameters: {'lr': 0.016433962928231047, 'leaves': 215, 'depth': 4, 'min_leaf': 125, 'feat_frac': 0.5891810258407248, 'bag_frac': 0.8939685399597871, 'bag_freq': 15, 'l1': 0.10141850231258823, 'l2': 0.0006431257499009544, 'gamma': 0.12683725352246517}. Best is trial 118 with value: 0.00612545654917489.\n",
      "Best pinball: 0.00612545654917489 | best iter: 2449\n",
      "\n",
      "=== Optimising τ = 0.25 ===\n"
     ]
    },
    {
     "name": "stderr",
     "output_type": "stream",
     "text": [
      "Best trial: 5. Best value: 0.0224849:   0%|          | 1/300 [00:14<1:10:56, 14.23s/it, 14.22/10800 seconds]"
     ]
    },
    {
     "name": "stdout",
     "output_type": "stream",
     "text": [
      "[I 2025-06-27 15:44:41,909] Trial 5 finished with value: 0.022484944873652397 and parameters: {'lr': 0.022664468895408376, 'leaves': 114, 'depth': 4, 'min_leaf': 115, 'feat_frac': 0.6815051515264008, 'bag_frac': 0.9289109830094728, 'bag_freq': 11, 'l1': 0.776971881364861, 'l2': 1.1527952338971925, 'gamma': 0.37231743462110384}. Best is trial 5 with value: 0.022484944873652397.\n"
     ]
    },
    {
     "name": "stderr",
     "output_type": "stream",
     "text": [
      "Best trial: 5. Best value: 0.0224849:   1%|          | 2/300 [00:20<46:59,  9.46s/it, 20.35/10800 seconds]  "
     ]
    },
    {
     "name": "stdout",
     "output_type": "stream",
     "text": [
      "[I 2025-06-27 15:44:48,031] Trial 13 finished with value: 0.024608778989288545 and parameters: {'lr': 0.0862464923893888, 'leaves': 75, 'depth': 8, 'min_leaf': 97, 'feat_frac': 0.8888192865004539, 'bag_frac': 0.47551088363099936, 'bag_freq': 3, 'l1': 0.21996655543232707, 'l2': 1.8564257118105914e-06, 'gamma': 0.10628888623818233}. Best is trial 5 with value: 0.022484944873652397.\n"
     ]
    },
    {
     "name": "stderr",
     "output_type": "stream",
     "text": [
      "Best trial: 7. Best value: 0.0191588:   1%|          | 3/300 [00:27<40:39,  8.21s/it, 27.07/10800 seconds]"
     ]
    },
    {
     "name": "stdout",
     "output_type": "stream",
     "text": [
      "[I 2025-06-27 15:44:54,757] Trial 7 finished with value: 0.01915881642809016 and parameters: {'lr': 0.07094502737095897, 'leaves': 72, 'depth': 5, 'min_leaf': 9, 'feat_frac': 0.9574763158476282, 'bag_frac': 0.7040009598800085, 'bag_freq': 12, 'l1': 1.741895389869937e-07, 'l2': 2.5909574813863784e-06, 'gamma': 0.26827892406978043}. Best is trial 7 with value: 0.01915881642809016.\n"
     ]
    },
    {
     "name": "stderr",
     "output_type": "stream",
     "text": [
      "Best trial: 7. Best value: 0.0191588:   1%|▏         | 4/300 [00:32<35:52,  7.27s/it, 32.90/10800 seconds]"
     ]
    },
    {
     "name": "stdout",
     "output_type": "stream",
     "text": [
      "[I 2025-06-27 15:45:00,587] Trial 6 finished with value: 0.020016910026289664 and parameters: {'lr': 0.08185088201154571, 'leaves': 248, 'depth': 10, 'min_leaf': 99, 'feat_frac': 0.9715287084415051, 'bag_frac': 0.946870009306542, 'bag_freq': 8, 'l1': 6.388571985752653e-08, 'l2': 0.0002354813131299163, 'gamma': 0.15558923391972265}. Best is trial 7 with value: 0.01915881642809016.\n"
     ]
    },
    {
     "name": "stderr",
     "output_type": "stream",
     "text": [
      "Best trial: 7. Best value: 0.0191588:   2%|▏         | 5/300 [00:45<45:26,  9.24s/it, 45.64/10800 seconds]"
     ]
    },
    {
     "name": "stdout",
     "output_type": "stream",
     "text": [
      "[I 2025-06-27 15:45:13,319] Trial 18 finished with value: 0.020143475061458846 and parameters: {'lr': 0.05650246826166112, 'leaves': 115, 'depth': 14, 'min_leaf': 46, 'feat_frac': 0.4163684355080101, 'bag_frac': 0.5389723018017792, 'bag_freq': 12, 'l1': 0.005367369869311809, 'l2': 1.7274471020702677e-08, 'gamma': 0.25629127945631264}. Best is trial 7 with value: 0.01915881642809016.\n"
     ]
    },
    {
     "name": "stderr",
     "output_type": "stream",
     "text": [
      "Best trial: 7. Best value: 0.0191588:   2%|▏         | 6/300 [00:49<35:32,  7.25s/it, 49.03/10800 seconds]"
     ]
    },
    {
     "name": "stdout",
     "output_type": "stream",
     "text": [
      "[I 2025-06-27 15:45:16,711] Trial 17 finished with value: 0.021821207554110735 and parameters: {'lr': 0.08519979920296954, 'leaves': 65, 'depth': 12, 'min_leaf': 6, 'feat_frac': 0.8737613411108915, 'bag_frac': 0.42832835868319, 'bag_freq': 5, 'l1': 0.0439619488348147, 'l2': 7.566408844101059e-08, 'gamma': 0.19701234765173764}. Best is trial 7 with value: 0.01915881642809016.\n"
     ]
    },
    {
     "name": "stderr",
     "output_type": "stream",
     "text": [
      "Best trial: 7. Best value: 0.0191588:   2%|▏         | 7/300 [00:50<26:53,  5.51s/it, 50.94/10800 seconds]"
     ]
    },
    {
     "name": "stdout",
     "output_type": "stream",
     "text": [
      "[I 2025-06-27 15:45:18,626] Trial 3 finished with value: 0.021465636422974603 and parameters: {'lr': 0.0338010652822579, 'leaves': 90, 'depth': 8, 'min_leaf': 60, 'feat_frac': 0.5026531147496228, 'bag_frac': 0.7139602092283037, 'bag_freq': 1, 'l1': 0.026806491990384297, 'l2': 0.7565535466968604, 'gamma': 0.3665546774778437}. Best is trial 7 with value: 0.01915881642809016.\n"
     ]
    },
    {
     "name": "stderr",
     "output_type": "stream",
     "text": [
      "Best trial: 7. Best value: 0.0191588:   3%|▎         | 8/300 [01:04<38:38,  7.94s/it, 64.09/10800 seconds]"
     ]
    },
    {
     "name": "stdout",
     "output_type": "stream",
     "text": [
      "[I 2025-06-27 15:45:31,780] Trial 26 finished with value: 0.02664140517872479 and parameters: {'lr': 0.02058598132067216, 'leaves': 45, 'depth': 12, 'min_leaf': 218, 'feat_frac': 0.6098757182724185, 'bag_frac': 0.9461411513147617, 'bag_freq': 7, 'l1': 5.040871577185414e-07, 'l2': 2.6131123500344164e-07, 'gamma': 0.38911527007232194}. Best is trial 7 with value: 0.01915881642809016.\n"
     ]
    },
    {
     "name": "stderr",
     "output_type": "stream",
     "text": [
      "Best trial: 7. Best value: 0.0191588:   3%|▎         | 9/300 [01:09<34:29,  7.11s/it, 69.38/10800 seconds]"
     ]
    },
    {
     "name": "stdout",
     "output_type": "stream",
     "text": [
      "[I 2025-06-27 15:45:37,063] Trial 0 finished with value: 0.01922942043610839 and parameters: {'lr': 0.019160022575202728, 'leaves': 122, 'depth': 14, 'min_leaf': 70, 'feat_frac': 0.6222336756227012, 'bag_frac': 0.6456817735408208, 'bag_freq': 8, 'l1': 0.0001312042359448519, 'l2': 1.905161785101339e-08, 'gamma': 0.14699595442722463}. Best is trial 7 with value: 0.01915881642809016.\n"
     ]
    },
    {
     "name": "stderr",
     "output_type": "stream",
     "text": [
      "Best trial: 7. Best value: 0.0191588:   3%|▎         | 10/300 [01:14<31:20,  6.49s/it, 74.46/10800 seconds]"
     ]
    },
    {
     "name": "stdout",
     "output_type": "stream",
     "text": [
      "[I 2025-06-27 15:45:42,148] Trial 11 finished with value: 0.019674898907271907 and parameters: {'lr': 0.008822236615201666, 'leaves': 154, 'depth': 5, 'min_leaf': 37, 'feat_frac': 0.9223448146890875, 'bag_frac': 0.9522186180527129, 'bag_freq': 14, 'l1': 2.993290318396213e-07, 'l2': 1.2113423329168587e-06, 'gamma': 0.39754950395729943}. Best is trial 7 with value: 0.01915881642809016.\n"
     ]
    },
    {
     "name": "stderr",
     "output_type": "stream",
     "text": [
      "Best trial: 7. Best value: 0.0191588:   4%|▎         | 11/300 [01:17<26:21,  5.47s/it, 77.64/10800 seconds]"
     ]
    },
    {
     "name": "stdout",
     "output_type": "stream",
     "text": [
      "[I 2025-06-27 15:45:45,327] Trial 19 finished with value: 0.020953642012288155 and parameters: {'lr': 0.016167524498502884, 'leaves': 91, 'depth': 14, 'min_leaf': 85, 'feat_frac': 0.7273299001410019, 'bag_frac': 0.6305309757068256, 'bag_freq': 12, 'l1': 0.00044422799675374183, 'l2': 2.52038826539491e-05, 'gamma': 0.16835711496535494}. Best is trial 7 with value: 0.01915881642809016.\n"
     ]
    },
    {
     "name": "stderr",
     "output_type": "stream",
     "text": [
      "Best trial: 9. Best value: 0.0186657:   4%|▍         | 12/300 [01:21<23:43,  4.94s/it, 81.37/10800 seconds]"
     ]
    },
    {
     "name": "stdout",
     "output_type": "stream",
     "text": [
      "[I 2025-06-27 15:45:49,054] Trial 9 finished with value: 0.018665684873408226 and parameters: {'lr': 0.010247285274687642, 'leaves': 63, 'depth': 4, 'min_leaf': 123, 'feat_frac': 0.9967401870824513, 'bag_frac': 0.7856492230079319, 'bag_freq': 2, 'l1': 5.289372727783875e-08, 'l2': 1.4703990570249446e-08, 'gamma': 0.03174456613758738}. Best is trial 9 with value: 0.018665684873408226.\n"
     ]
    },
    {
     "name": "stderr",
     "output_type": "stream",
     "text": [
      "Best trial: 9. Best value: 0.0186657:   4%|▍         | 13/300 [01:26<23:47,  4.98s/it, 86.42/10800 seconds]"
     ]
    },
    {
     "name": "stdout",
     "output_type": "stream",
     "text": [
      "[I 2025-06-27 15:45:54,101] Trial 12 finished with value: 0.023191394495705765 and parameters: {'lr': 0.052174070078069484, 'leaves': 111, 'depth': 10, 'min_leaf': 121, 'feat_frac': 0.7629555424786983, 'bag_frac': 0.6229992232022972, 'bag_freq': 5, 'l1': 8.718675656633512e-06, 'l2': 0.0001248674960965557, 'gamma': 0.255941442307146}. Best is trial 9 with value: 0.018665684873408226.\n"
     ]
    },
    {
     "name": "stderr",
     "output_type": "stream",
     "text": [
      "Best trial: 9. Best value: 0.0186657:   5%|▍         | 14/300 [01:27<18:40,  3.92s/it, 87.89/10800 seconds]"
     ]
    },
    {
     "name": "stdout",
     "output_type": "stream",
     "text": [
      "[I 2025-06-27 15:45:55,577] Trial 25 finished with value: 0.020285773660477183 and parameters: {'lr': 0.05948158849541612, 'leaves': 43, 'depth': 7, 'min_leaf': 12, 'feat_frac': 0.7542024648211931, 'bag_frac': 0.9696168814949593, 'bag_freq': 14, 'l1': 0.05659543643893173, 'l2': 1.7075421334355116, 'gamma': 0.12521869132958657}. Best is trial 9 with value: 0.018665684873408226.\n"
     ]
    },
    {
     "name": "stderr",
     "output_type": "stream",
     "text": [
      "Best trial: 9. Best value: 0.0186657:   5%|▌         | 15/300 [01:32<18:58,  3.99s/it, 92.06/10800 seconds]"
     ]
    },
    {
     "name": "stdout",
     "output_type": "stream",
     "text": [
      "[I 2025-06-27 15:45:59,748] Trial 1 finished with value: 0.026823026402194357 and parameters: {'lr': 0.0058747781000727415, 'leaves': 52, 'depth': 10, 'min_leaf': 188, 'feat_frac': 0.4239249819855152, 'bag_frac': 0.4481476335983081, 'bag_freq': 1, 'l1': 0.0021973374524918415, 'l2': 0.00043322842492350753, 'gamma': 0.30120900586652577}. Best is trial 9 with value: 0.018665684873408226.\n"
     ]
    },
    {
     "name": "stderr",
     "output_type": "stream",
     "text": [
      "Best trial: 9. Best value: 0.0186657:   5%|▌         | 16/300 [01:45<32:41,  6.91s/it, 105.73/10800 seconds]"
     ]
    },
    {
     "name": "stdout",
     "output_type": "stream",
     "text": [
      "[I 2025-06-27 15:46:13,413] Trial 15 finished with value: 0.02159950823744715 and parameters: {'lr': 0.009353876168209143, 'leaves': 68, 'depth': 9, 'min_leaf': 26, 'feat_frac': 0.9695883439297106, 'bag_frac': 0.49821082349495477, 'bag_freq': 3, 'l1': 6.13677957650161e-08, 'l2': 0.019076997252105207, 'gamma': 0.3121448035179393}. Best is trial 9 with value: 0.018665684873408226.\n"
     ]
    },
    {
     "name": "stderr",
     "output_type": "stream",
     "text": [
      "Best trial: 9. Best value: 0.0186657:   6%|▌         | 17/300 [01:48<26:21,  5.59s/it, 108.26/10800 seconds]"
     ]
    },
    {
     "name": "stdout",
     "output_type": "stream",
     "text": [
      "[I 2025-06-27 15:46:15,941] Trial 29 finished with value: 0.024402244539475853 and parameters: {'lr': 0.08511492073707307, 'leaves': 145, 'depth': 8, 'min_leaf': 6, 'feat_frac': 0.8968917054962807, 'bag_frac': 0.6270736344178908, 'bag_freq': 14, 'l1': 0.00024154170226410633, 'l2': 3.7864419397363163e-07, 'gamma': 0.2618650781501451}. Best is trial 9 with value: 0.018665684873408226.\n"
     ]
    },
    {
     "name": "stderr",
     "output_type": "stream",
     "text": [
      "Best trial: 9. Best value: 0.0186657:   6%|▌         | 18/300 [01:49<20:27,  4.35s/it, 109.74/10800 seconds]"
     ]
    },
    {
     "name": "stdout",
     "output_type": "stream",
     "text": [
      "[I 2025-06-27 15:46:17,420] Trial 2 finished with value: 0.020083526838760017 and parameters: {'lr': 0.05764408443108921, 'leaves': 188, 'depth': 13, 'min_leaf': 18, 'feat_frac': 0.630971429867118, 'bag_frac': 0.8171373389894675, 'bag_freq': 5, 'l1': 4.822583515263916e-06, 'l2': 0.0033477007956008394, 'gamma': 0.3558466342818113}. Best is trial 9 with value: 0.018665684873408226.\n"
     ]
    },
    {
     "name": "stderr",
     "output_type": "stream",
     "text": [
      "Best trial: 9. Best value: 0.0186657:   6%|▋         | 19/300 [01:51<17:08,  3.66s/it, 111.78/10800 seconds]"
     ]
    },
    {
     "name": "stdout",
     "output_type": "stream",
     "text": [
      "[I 2025-06-27 15:46:19,467] Trial 23 finished with value: 0.020646248277833505 and parameters: {'lr': 0.05998230186480387, 'leaves': 207, 'depth': 14, 'min_leaf': 109, 'feat_frac': 0.5327752215796369, 'bag_frac': 0.9673757959319675, 'bag_freq': 11, 'l1': 4.170842389145617, 'l2': 0.011812305412879148, 'gamma': 0.1394406927253213}. Best is trial 9 with value: 0.018665684873408226.\n"
     ]
    },
    {
     "name": "stderr",
     "output_type": "stream",
     "text": [
      "Best trial: 9. Best value: 0.0186657:   7%|▋         | 20/300 [01:58<20:48,  4.46s/it, 118.10/10800 seconds]"
     ]
    },
    {
     "name": "stdout",
     "output_type": "stream",
     "text": [
      "[I 2025-06-27 15:46:25,786] Trial 35 finished with value: 0.019011261446065294 and parameters: {'lr': 0.09969716691228658, 'leaves': 73, 'depth': 5, 'min_leaf': 7, 'feat_frac': 0.898241581380226, 'bag_frac': 0.6896988919485088, 'bag_freq': 9, 'l1': 1.0463494876973737e-08, 'l2': 7.337842071552633e-05, 'gamma': 0.2935888504538422}. Best is trial 9 with value: 0.018665684873408226.\n"
     ]
    },
    {
     "name": "stderr",
     "output_type": "stream",
     "text": [
      "Best trial: 9. Best value: 0.0186657:   7%|▋         | 21/300 [02:07<26:57,  5.80s/it, 127.02/10800 seconds]"
     ]
    },
    {
     "name": "stdout",
     "output_type": "stream",
     "text": [
      "[I 2025-06-27 15:46:34,705] Trial 30 finished with value: 0.019126549006676465 and parameters: {'lr': 0.030502213565208974, 'leaves': 45, 'depth': 7, 'min_leaf': 27, 'feat_frac': 0.8384574547179742, 'bag_frac': 0.8715684860577119, 'bag_freq': 9, 'l1': 2.0035742173524023e-07, 'l2': 0.00022787705965451435, 'gamma': 0.294358696178049}. Best is trial 9 with value: 0.018665684873408226.\n"
     ]
    },
    {
     "name": "stderr",
     "output_type": "stream",
     "text": [
      "Best trial: 9. Best value: 0.0186657:   7%|▋         | 22/300 [02:17<33:39,  7.27s/it, 137.71/10800 seconds]"
     ]
    },
    {
     "name": "stdout",
     "output_type": "stream",
     "text": [
      "[I 2025-06-27 15:46:45,396] Trial 14 finished with value: 0.021387784604686506 and parameters: {'lr': 0.017955080331905578, 'leaves': 148, 'depth': 14, 'min_leaf': 17, 'feat_frac': 0.9682471275304538, 'bag_frac': 0.962371813471456, 'bag_freq': 2, 'l1': 0.0299405830748313, 'l2': 0.025741793316400603, 'gamma': 0.2152842822013905}. Best is trial 9 with value: 0.018665684873408226.\n"
     ]
    },
    {
     "name": "stderr",
     "output_type": "stream",
     "text": [
      "Best trial: 9. Best value: 0.0186657:   8%|▊         | 23/300 [02:18<25:04,  5.43s/it, 138.87/10800 seconds]"
     ]
    },
    {
     "name": "stdout",
     "output_type": "stream",
     "text": [
      "[I 2025-06-27 15:46:46,553] Trial 20 finished with value: 0.020517692306246293 and parameters: {'lr': 0.021802503324302478, 'leaves': 55, 'depth': 11, 'min_leaf': 46, 'feat_frac': 0.5186150806970686, 'bag_frac': 0.5639568192275045, 'bag_freq': 14, 'l1': 5.718905285782527e-07, 'l2': 1.4312907395182787e-07, 'gamma': 0.2081871220274652}. Best is trial 9 with value: 0.018665684873408226.\n"
     ]
    },
    {
     "name": "stderr",
     "output_type": "stream",
     "text": [
      "Best trial: 9. Best value: 0.0186657:   8%|▊         | 25/300 [02:22<22:41,  4.95s/it, 142.63/10800 seconds]"
     ]
    },
    {
     "name": "stdout",
     "output_type": "stream",
     "text": [
      "[I 2025-06-27 15:46:50,288] Trial 16 finished with value: 0.023843890395446033 and parameters: {'lr': 0.005730052475917545, 'leaves': 41, 'depth': 6, 'min_leaf': 8, 'feat_frac': 0.5301029317806666, 'bag_frac': 0.9751158855164845, 'bag_freq': 4, 'l1': 0.30503651971904705, 'l2': 0.005455252617042106, 'gamma': 0.3006751932487001}. Best is trial 9 with value: 0.018665684873408226.\n",
      "[I 2025-06-27 15:46:50,377] Trial 8 finished with value: 0.021657763818852097 and parameters: {'lr': 0.009495535215341104, 'leaves': 147, 'depth': 9, 'min_leaf': 25, 'feat_frac': 0.7026880012879275, 'bag_frac': 0.8444604449759765, 'bag_freq': 4, 'l1': 9.483303944953963e-07, 'l2': 0.01620098581734582, 'gamma': 0.3322744449517493}. Best is trial 9 with value: 0.018665684873408226.\n"
     ]
    },
    {
     "name": "stderr",
     "output_type": "stream",
     "text": [
      "Best trial: 9. Best value: 0.0186657:   9%|▊         | 26/300 [02:24<14:16,  3.12s/it, 144.68/10800 seconds]"
     ]
    },
    {
     "name": "stdout",
     "output_type": "stream",
     "text": [
      "[I 2025-06-27 15:46:52,367] Trial 27 finished with value: 0.02277916658865346 and parameters: {'lr': 0.020518463902711146, 'leaves': 132, 'depth': 13, 'min_leaf': 237, 'feat_frac': 0.5212245952402442, 'bag_frac': 0.6453456844998356, 'bag_freq': 8, 'l1': 4.668357367820151, 'l2': 2.800482883399347e-05, 'gamma': 0.19806198421053464}. Best is trial 9 with value: 0.018665684873408226.\n"
     ]
    },
    {
     "name": "stderr",
     "output_type": "stream",
     "text": [
      "Best trial: 9. Best value: 0.0186657:   9%|▉         | 27/300 [02:30<17:29,  3.84s/it, 150.71/10800 seconds]"
     ]
    },
    {
     "name": "stdout",
     "output_type": "stream",
     "text": [
      "[I 2025-06-27 15:46:58,397] Trial 34 finished with value: 0.022704556664635573 and parameters: {'lr': 0.024588418317510134, 'leaves': 82, 'depth': 6, 'min_leaf': 12, 'feat_frac': 0.9721920345735906, 'bag_frac': 0.672638813118337, 'bag_freq': 10, 'l1': 2.305997345830742e-07, 'l2': 2.540170612970322e-07, 'gamma': 0.24310400606115515}. Best is trial 9 with value: 0.018665684873408226.\n"
     ]
    },
    {
     "name": "stderr",
     "output_type": "stream",
     "text": [
      "Best trial: 9. Best value: 0.0186657:   9%|▉         | 28/300 [02:36<19:59,  4.41s/it, 156.71/10800 seconds]"
     ]
    },
    {
     "name": "stdout",
     "output_type": "stream",
     "text": [
      "[I 2025-06-27 15:47:04,398] Trial 37 finished with value: 0.025005691734544824 and parameters: {'lr': 0.015537836219752708, 'leaves': 49, 'depth': 4, 'min_leaf': 208, 'feat_frac': 0.9666469269974495, 'bag_frac': 0.8091087735655718, 'bag_freq': 6, 'l1': 2.2548397961319493e-07, 'l2': 1.5808660290405445e-08, 'gamma': 0.06369428455744648}. Best is trial 9 with value: 0.018665684873408226.\n"
     ]
    },
    {
     "name": "stderr",
     "output_type": "stream",
     "text": [
      "Best trial: 9. Best value: 0.0186657:  10%|▉         | 29/300 [02:43<22:13,  4.92s/it, 163.01/10800 seconds]"
     ]
    },
    {
     "name": "stdout",
     "output_type": "stream",
     "text": [
      "[I 2025-06-27 15:47:10,690] Trial 28 finished with value: 0.024163242500037225 and parameters: {'lr': 0.014938904369881038, 'leaves': 190, 'depth': 6, 'min_leaf': 172, 'feat_frac': 0.9312222006950102, 'bag_frac': 0.9917697593924465, 'bag_freq': 13, 'l1': 0.07576164655747553, 'l2': 0.04916495952174498, 'gamma': 0.16116923646481907}. Best is trial 9 with value: 0.018665684873408226.\n"
     ]
    },
    {
     "name": "stderr",
     "output_type": "stream",
     "text": [
      "Best trial: 9. Best value: 0.0186657:  10%|█         | 30/300 [02:52<27:54,  6.20s/it, 172.50/10800 seconds]"
     ]
    },
    {
     "name": "stdout",
     "output_type": "stream",
     "text": [
      "[I 2025-06-27 15:47:20,181] Trial 4 finished with value: 0.021793473631988445 and parameters: {'lr': 0.011994601562629183, 'leaves': 100, 'depth': 11, 'min_leaf': 106, 'feat_frac': 0.7288605293553967, 'bag_frac': 0.9304180514995966, 'bag_freq': 12, 'l1': 5.6190420976749476e-08, 'l2': 0.005080229321322162, 'gamma': 0.32560402486454604}. Best is trial 9 with value: 0.018665684873408226.\n"
     ]
    },
    {
     "name": "stderr",
     "output_type": "stream",
     "text": [
      "Best trial: 9. Best value: 0.0186657:  10%|█         | 31/300 [02:53<21:38,  4.83s/it, 173.89/10800 seconds]"
     ]
    },
    {
     "name": "stdout",
     "output_type": "stream",
     "text": [
      "[I 2025-06-27 15:47:21,575] Trial 10 finished with value: 0.021587675187536206 and parameters: {'lr': 0.01151778382526886, 'leaves': 64, 'depth': 12, 'min_leaf': 171, 'feat_frac': 0.49313912959385164, 'bag_frac': 0.9589448378874749, 'bag_freq': 14, 'l1': 0.0007969297525301768, 'l2': 3.325858335921152e-05, 'gamma': 0.18942915952647363}. Best is trial 9 with value: 0.018665684873408226.\n"
     ]
    },
    {
     "name": "stderr",
     "output_type": "stream",
     "text": [
      "Best trial: 9. Best value: 0.0186657:  11%|█         | 32/300 [03:00<23:42,  5.31s/it, 180.37/10800 seconds]"
     ]
    },
    {
     "name": "stdout",
     "output_type": "stream",
     "text": [
      "[I 2025-06-27 15:47:28,058] Trial 33 finished with value: 0.023589468638748192 and parameters: {'lr': 0.015845618576354147, 'leaves': 46, 'depth': 5, 'min_leaf': 243, 'feat_frac': 0.8476841435962862, 'bag_frac': 0.833576269803123, 'bag_freq': 0, 'l1': 3.503509872655616e-07, 'l2': 2.531517387061124e-07, 'gamma': 0.010929148249611893}. Best is trial 9 with value: 0.018665684873408226.\n"
     ]
    },
    {
     "name": "stderr",
     "output_type": "stream",
     "text": [
      "Best trial: 9. Best value: 0.0186657:  11%|█         | 33/300 [03:02<19:14,  4.33s/it, 182.33/10800 seconds]"
     ]
    },
    {
     "name": "stdout",
     "output_type": "stream",
     "text": [
      "[I 2025-06-27 15:47:30,013] Trial 22 finished with value: 0.021178580813850146 and parameters: {'lr': 0.0079679006311624, 'leaves': 76, 'depth': 8, 'min_leaf': 25, 'feat_frac': 0.7803537471082225, 'bag_frac': 0.569614760241765, 'bag_freq': 4, 'l1': 4.939366084192771e-06, 'l2': 0.0011834574734146373, 'gamma': 0.13794259901846126}. Best is trial 9 with value: 0.018665684873408226.\n"
     ]
    },
    {
     "name": "stderr",
     "output_type": "stream",
     "text": [
      "Best trial: 21. Best value: 0.0181702:  11%|█▏        | 34/300 [03:05<17:00,  3.84s/it, 184.99/10800 seconds]"
     ]
    },
    {
     "name": "stdout",
     "output_type": "stream",
     "text": [
      "[I 2025-06-27 15:47:32,674] Trial 21 finished with value: 0.018170224823683103 and parameters: {'lr': 0.00783445364406826, 'leaves': 42, 'depth': 6, 'min_leaf': 79, 'feat_frac': 0.6219614662457834, 'bag_frac': 0.9631946980853177, 'bag_freq': 11, 'l1': 0.01731014934398581, 'l2': 0.8099306995086424, 'gamma': 0.08510860956490954}. Best is trial 21 with value: 0.018170224823683103.\n"
     ]
    },
    {
     "name": "stderr",
     "output_type": "stream",
     "text": [
      "Best trial: 21. Best value: 0.0181702:  12%|█▏        | 35/300 [03:08<16:29,  3.73s/it, 188.49/10800 seconds]"
     ]
    },
    {
     "name": "stdout",
     "output_type": "stream",
     "text": [
      "[I 2025-06-27 15:47:36,171] Trial 24 finished with value: 0.023956541745652763 and parameters: {'lr': 0.05018017857612393, 'leaves': 176, 'depth': 14, 'min_leaf': 10, 'feat_frac': 0.5675208652089622, 'bag_frac': 0.6196902060750158, 'bag_freq': 0, 'l1': 0.0032086487228005964, 'l2': 0.6527432578228093, 'gamma': 0.06794824058339897}. Best is trial 21 with value: 0.018170224823683103.\n"
     ]
    },
    {
     "name": "stderr",
     "output_type": "stream",
     "text": [
      "Best trial: 21. Best value: 0.0181702:  12%|█▏        | 36/300 [03:10<13:51,  3.15s/it, 190.26/10800 seconds]"
     ]
    },
    {
     "name": "stdout",
     "output_type": "stream",
     "text": [
      "[I 2025-06-27 15:47:37,946] Trial 50 finished with value: 0.020284142424228796 and parameters: {'lr': 0.09044679705530505, 'leaves': 46, 'depth': 4, 'min_leaf': 5, 'feat_frac': 0.8747634130070949, 'bag_frac': 0.819939170709999, 'bag_freq': 7, 'l1': 1.3256233157495061e-07, 'l2': 0.004427877680703646, 'gamma': 0.22496849343661934}. Best is trial 21 with value: 0.018170224823683103.\n"
     ]
    },
    {
     "name": "stderr",
     "output_type": "stream",
     "text": [
      "Best trial: 21. Best value: 0.0181702:  12%|█▏        | 37/300 [03:12<12:10,  2.78s/it, 192.16/10800 seconds]"
     ]
    },
    {
     "name": "stdout",
     "output_type": "stream",
     "text": [
      "[I 2025-06-27 15:47:39,848] Trial 31 finished with value: 0.023711629535311227 and parameters: {'lr': 0.009639281225695701, 'leaves': 51, 'depth': 8, 'min_leaf': 60, 'feat_frac': 0.9833397753374571, 'bag_frac': 0.668389379073264, 'bag_freq': 3, 'l1': 9.436754346116734e-06, 'l2': 1.0219469573539622e-07, 'gamma': 0.07270582413536993}. Best is trial 21 with value: 0.018170224823683103.\n"
     ]
    },
    {
     "name": "stderr",
     "output_type": "stream",
     "text": [
      "Best trial: 21. Best value: 0.0181702:  13%|█▎        | 38/300 [03:13<10:03,  2.30s/it, 193.35/10800 seconds]"
     ]
    },
    {
     "name": "stdout",
     "output_type": "stream",
     "text": [
      "[I 2025-06-27 15:47:41,037] Trial 32 finished with value: 0.020483189816048474 and parameters: {'lr': 0.009105250833066288, 'leaves': 86, 'depth': 5, 'min_leaf': 154, 'feat_frac': 0.9123865412289333, 'bag_frac': 0.8145848980593373, 'bag_freq': 7, 'l1': 0.00010113137162797429, 'l2': 2.0392141889939425e-08, 'gamma': 0.08875352175567039}. Best is trial 21 with value: 0.018170224823683103.\n"
     ]
    },
    {
     "name": "stderr",
     "output_type": "stream",
     "text": [
      "Best trial: 21. Best value: 0.0181702:  13%|█▎        | 39/300 [03:13<07:49,  1.80s/it, 193.96/10800 seconds]"
     ]
    },
    {
     "name": "stdout",
     "output_type": "stream",
     "text": [
      "[I 2025-06-27 15:47:41,648] Trial 39 finished with value: 0.019296973964776566 and parameters: {'lr': 0.020738334958023227, 'leaves': 51, 'depth': 4, 'min_leaf': 80, 'feat_frac': 0.9401723507474776, 'bag_frac': 0.9819529657113348, 'bag_freq': 3, 'l1': 1.8471107553606825e-07, 'l2': 1.283705698965725e-08, 'gamma': 0.04720632174225735}. Best is trial 21 with value: 0.018170224823683103.\n"
     ]
    },
    {
     "name": "stderr",
     "output_type": "stream",
     "text": [
      "Best trial: 21. Best value: 0.0181702:  13%|█▎        | 40/300 [03:18<10:50,  2.50s/it, 198.12/10800 seconds]"
     ]
    },
    {
     "name": "stdout",
     "output_type": "stream",
     "text": [
      "[I 2025-06-27 15:47:45,804] Trial 52 finished with value: 0.025142648238668425 and parameters: {'lr': 0.07578368654098466, 'leaves': 81, 'depth': 5, 'min_leaf': 9, 'feat_frac': 0.75091442555401, 'bag_frac': 0.6298897721031274, 'bag_freq': 9, 'l1': 1.6761853427699593e-08, 'l2': 0.04776076345394032, 'gamma': 0.2925698025913314}. Best is trial 21 with value: 0.018170224823683103.\n"
     ]
    },
    {
     "name": "stderr",
     "output_type": "stream",
     "text": [
      "Best trial: 21. Best value: 0.0181702:  14%|█▎        | 41/300 [03:23<14:53,  3.45s/it, 203.78/10800 seconds]"
     ]
    },
    {
     "name": "stdout",
     "output_type": "stream",
     "text": [
      "[I 2025-06-27 15:47:51,465] Trial 51 finished with value: 0.023743877572941895 and parameters: {'lr': 0.06372413308462188, 'leaves': 86, 'depth': 6, 'min_leaf': 7, 'feat_frac': 0.720985891442935, 'bag_frac': 0.6930244852992956, 'bag_freq': 10, 'l1': 2.0481680383239943e-08, 'l2': 0.0006058802313711058, 'gamma': 0.2469493543624801}. Best is trial 21 with value: 0.018170224823683103.\n"
     ]
    },
    {
     "name": "stderr",
     "output_type": "stream",
     "text": [
      "Best trial: 21. Best value: 0.0181702:  14%|█▍        | 42/300 [03:26<13:35,  3.16s/it, 206.27/10800 seconds]"
     ]
    },
    {
     "name": "stdout",
     "output_type": "stream",
     "text": [
      "[I 2025-06-27 15:47:53,957] Trial 48 finished with value: 0.018864402302337945 and parameters: {'lr': 0.03559035513528938, 'leaves': 49, 'depth': 7, 'min_leaf': 37, 'feat_frac': 0.9230898440003078, 'bag_frac': 0.861775204802128, 'bag_freq': 6, 'l1': 6.600955764607819e-07, 'l2': 0.00010347914514606622, 'gamma': 0.3777966627867263}. Best is trial 21 with value: 0.018170224823683103.\n"
     ]
    },
    {
     "name": "stderr",
     "output_type": "stream",
     "text": [
      "Best trial: 21. Best value: 0.0181702:  14%|█▍        | 43/300 [03:36<23:01,  5.38s/it, 216.82/10800 seconds]"
     ]
    },
    {
     "name": "stdout",
     "output_type": "stream",
     "text": [
      "[I 2025-06-27 15:48:04,503] Trial 41 finished with value: 0.01991333475597843 and parameters: {'lr': 0.012353872393080079, 'leaves': 57, 'depth': 4, 'min_leaf': 66, 'feat_frac': 0.9657259087151641, 'bag_frac': 0.7163767667903883, 'bag_freq': 4, 'l1': 1.2805210445125547e-08, 'l2': 7.919151492215536e-07, 'gamma': 0.09422361704332546}. Best is trial 21 with value: 0.018170224823683103.\n"
     ]
    },
    {
     "name": "stderr",
     "output_type": "stream",
     "text": [
      "Best trial: 21. Best value: 0.0181702:  15%|█▍        | 44/300 [03:37<17:30,  4.10s/it, 217.94/10800 seconds]"
     ]
    },
    {
     "name": "stdout",
     "output_type": "stream",
     "text": [
      "[I 2025-06-27 15:48:05,627] Trial 36 finished with value: 0.02337053234891101 and parameters: {'lr': 0.012500747473120966, 'leaves': 42, 'depth': 7, 'min_leaf': 187, 'feat_frac': 0.9997961052795886, 'bag_frac': 0.8418109589239671, 'bag_freq': 3, 'l1': 2.8570226190870364e-06, 'l2': 2.0456969340334063e-07, 'gamma': 0.01603822829658019}. Best is trial 21 with value: 0.018170224823683103.\n"
     ]
    },
    {
     "name": "stderr",
     "output_type": "stream",
     "text": [
      "Best trial: 21. Best value: 0.0181702:  15%|█▌        | 45/300 [03:41<16:39,  3.92s/it, 221.44/10800 seconds]"
     ]
    },
    {
     "name": "stdout",
     "output_type": "stream",
     "text": [
      "[I 2025-06-27 15:48:09,124] Trial 42 finished with value: 0.020960374805621674 and parameters: {'lr': 0.005584236723636482, 'leaves': 95, 'depth': 4, 'min_leaf': 221, 'feat_frac': 0.905946206087978, 'bag_frac': 0.8201169799215106, 'bag_freq': 4, 'l1': 2.4876156692835465e-07, 'l2': 1.5866313633971684e-08, 'gamma': 0.03892156305940613}. Best is trial 21 with value: 0.018170224823683103.\n"
     ]
    },
    {
     "name": "stderr",
     "output_type": "stream",
     "text": [
      "Best trial: 21. Best value: 0.0181702:  15%|█▌        | 46/300 [03:43<14:35,  3.45s/it, 223.78/10800 seconds]"
     ]
    },
    {
     "name": "stdout",
     "output_type": "stream",
     "text": [
      "[I 2025-06-27 15:48:11,468] Trial 44 finished with value: 0.023454067907947056 and parameters: {'lr': 0.011912902046983032, 'leaves': 84, 'depth': 7, 'min_leaf': 95, 'feat_frac': 0.8720923356452908, 'bag_frac': 0.7506589557094047, 'bag_freq': 0, 'l1': 2.587730289269131e-08, 'l2': 4.0411356609776165e-08, 'gamma': 0.11390137380218568}. Best is trial 21 with value: 0.018170224823683103.\n"
     ]
    },
    {
     "name": "stderr",
     "output_type": "stream",
     "text": [
      "Best trial: 21. Best value: 0.0181702:  16%|█▌        | 47/300 [03:47<14:48,  3.51s/it, 227.45/10800 seconds]"
     ]
    },
    {
     "name": "stdout",
     "output_type": "stream",
     "text": [
      "[I 2025-06-27 15:48:15,137] Trial 40 finished with value: 0.020241866616592136 and parameters: {'lr': 0.005312920993522107, 'leaves': 56, 'depth': 6, 'min_leaf': 157, 'feat_frac': 0.9223124318736295, 'bag_frac': 0.7696605894005869, 'bag_freq': 1, 'l1': 3.8318436798105445e-07, 'l2': 1.4473146580537304e-08, 'gamma': 0.13705344216952456}. Best is trial 21 with value: 0.018170224823683103.\n"
     ]
    },
    {
     "name": "stderr",
     "output_type": "stream",
     "text": [
      "Best trial: 21. Best value: 0.0181702:  16%|█▌        | 48/300 [03:48<11:41,  2.78s/it, 228.53/10800 seconds]"
     ]
    },
    {
     "name": "stdout",
     "output_type": "stream",
     "text": [
      "[I 2025-06-27 15:48:16,220] Trial 47 finished with value: 0.020668877594099758 and parameters: {'lr': 0.005652642632709717, 'leaves': 107, 'depth': 5, 'min_leaf': 212, 'feat_frac': 0.9980545731222356, 'bag_frac': 0.9078939053224729, 'bag_freq': 0, 'l1': 1.4545910371095033e-08, 'l2': 3.188015641332999e-06, 'gamma': 0.15627967659833156}. Best is trial 21 with value: 0.018170224823683103.\n"
     ]
    },
    {
     "name": "stderr",
     "output_type": "stream",
     "text": [
      "Best trial: 21. Best value: 0.0181702:  16%|█▋        | 49/300 [03:50<10:56,  2.61s/it, 230.75/10800 seconds]"
     ]
    },
    {
     "name": "stdout",
     "output_type": "stream",
     "text": [
      "[I 2025-06-27 15:48:18,439] Trial 43 finished with value: 0.024698565310682447 and parameters: {'lr': 0.005820846215768352, 'leaves': 38, 'depth': 5, 'min_leaf': 177, 'feat_frac': 0.8823006732530476, 'bag_frac': 0.8052938743293379, 'bag_freq': 1, 'l1': 1.4193407663183614e-07, 'l2': 1.8772860731873585e-07, 'gamma': 0.03659884016211235}. Best is trial 21 with value: 0.018170224823683103.\n"
     ]
    },
    {
     "name": "stderr",
     "output_type": "stream",
     "text": [
      "Best trial: 21. Best value: 0.0181702:  17%|█▋        | 50/300 [03:55<13:32,  3.25s/it, 235.48/10800 seconds]"
     ]
    },
    {
     "name": "stdout",
     "output_type": "stream",
     "text": [
      "[I 2025-06-27 15:48:23,170] Trial 45 finished with value: 0.02114842037374556 and parameters: {'lr': 0.005307374273932499, 'leaves': 40, 'depth': 5, 'min_leaf': 142, 'feat_frac': 0.958874113783255, 'bag_frac': 0.754899882247125, 'bag_freq': 1, 'l1': 9.99403026503018e-07, 'l2': 1.0031768604926736e-07, 'gamma': 0.06904852894018039}. Best is trial 21 with value: 0.018170224823683103.\n"
     ]
    }
   ],
   "source": [
    "# ============================================================\n",
    "# 5.  Run Optuna – **parallel** over 20 jobs\n",
    "#     Do this once per quantile (0.05 … 0.95)\n",
    "# ============================================================\n",
    "QUANTS = [0.05, 0.25, 0.50, 0.75, 0.95]\n",
    "best_params = {}\n",
    "\n",
    "for tau in QUANTS:\n",
    "    print(f\"\\n=== Optimising τ = {tau:.2f} ===\")\n",
    "    sampler = TPESampler(seed=42, multivariate=True)\n",
    "    pruner  = HyperbandPruner(min_resource=200, max_resource=8000)\n",
    "\n",
    "    study = optuna.create_study(\n",
    "        direction=\"minimize\",\n",
    "        sampler=sampler,\n",
    "        pruner=pruner,\n",
    "        study_name=f\"lgb_cqr_tau{tau:.2f}\",\n",
    "        storage=f\"sqlite:///lgb_cqr_tau{tau:.2f}.db\",\n",
    "        load_if_exists=True\n",
    "    )\n",
    "\n",
    "    study.optimize(lambda t: objective(t, tau),\n",
    "                   n_trials=300,\n",
    "                   n_jobs=20,            # 24 threads – 4 for OS / Jupyter\n",
    "                   timeout=3*3600,\n",
    "                   show_progress_bar=True)\n",
    "\n",
    "    print(\"Best pinball:\", study.best_value,\n",
    "          \"| best iter:\", study.best_trial.user_attrs[\"best_iter\"])\n",
    "\n",
    "    p = study.best_params\n",
    "    p.update(objective= \"quantile\",\n",
    "             metric   = \"quantile\",\n",
    "             alpha    = tau,\n",
    "             num_iterations = study.best_trial.user_attrs[\"best_iter\"])\n",
    "\n",
    "    best_params[tau] = p\n",
    "\n",
    "# persist for later stages\n",
    "json.dump(best_params, open(\"best_lgb_cqr_params.json\", \"w\"), indent=2)\n",
    "print(\"\\nSaved → best_lgb_cqr_params.json\")"
   ]
  }
 ],
 "metadata": {
  "kernelspec": {
   "display_name": ".venv",
   "language": "python",
   "name": "python3"
  },
  "language_info": {
   "codemirror_mode": {
    "name": "ipython",
    "version": 3
   },
   "file_extension": ".py",
   "mimetype": "text/x-python",
   "name": "python",
   "nbconvert_exporter": "python",
   "pygments_lexer": "ipython3",
   "version": "3.11.9"
  }
 },
 "nbformat": 4,
 "nbformat_minor": 5
}
