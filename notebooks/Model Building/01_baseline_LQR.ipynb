{
 "cells": [
  {
   "cell_type": "markdown",
   "id": "65edc35c",
   "metadata": {},
   "source": [
    "# 7.1 Linear Quantile Regression (L-QR)\n",
    "\n",
    "> *Purpose — A fully-transparent, parametric benchmark.*  \n",
    "> Measures how much predictive signal is already captured by a linear\n",
    "> relationship between engineered features and 72-h returns before we\n",
    "> invoke non-linear ML models."
   ]
  },
  {
   "cell_type": "markdown",
   "id": "c41fb015",
   "metadata": {},
   "source": [
    "### 1 Model specification  \n",
    "\\[\n",
    "\\hat{Q}_{\\tau}\\!\\left(R_{t+72h}\\mid\\mathbf{x}_{t}\\right)\n",
    "  \\;=\\; \\beta_{0,\\tau} \\;+\\; \\mathbf{x}_{t}^{\\!\\top}\\,\\boldsymbol{\\beta}_{\\tau},\n",
    "  \\qquad \\tau \\in \\{0.05,\\,0.25,\\,0.50,\\,0.75,\\,0.95\\}\n",
    "\\]\n",
    "\n",
    "* Estimator : `statsmodels.QuantReg` (Koenker–Bassett).  \n",
    "* Loss : pinball (check) function at each τ.  \n",
    "* No regularisation → interpretability of raw coefficients.\n",
    "\n",
    "---"
   ]
  },
  {
   "cell_type": "markdown",
   "id": "e61a27ce",
   "metadata": {},
   "source": [
    "### 2 Pre-processing decisions  \n",
    "\n",
    "| Aspect | Implementation | Rationale |\n",
    "|--------|----------------|-----------|\n",
    "| **Missing numeric** | **within each fold**: median-impute *only* `holder_*` and `tx_per_account`; all other features are complete. | Preserves cross-sectional variation; avoids leakage. |\n",
    "| **Categoricals** | One-hot encode (`pandas.get_dummies`, drop first level). | Linear model cannot split on ordinal codes. |\n",
    "| **Feature scaling** | `RobustScaler` on numeric predictors. | Handles fat-tailed distributions without distorting outliers. |\n",
    "\n",
    "`sklearn.pipeline.Pipeline` is used so **identical transformations** are\n",
    "learned on the train slice and applied to the test slice in every rolling\n",
    "fold.\n",
    "\n",
    "---"
   ]
  },
  {
   "cell_type": "markdown",
   "id": "b92ffab8",
   "metadata": {},
   "source": [
    "### 3 Rolling cross-validation protocol  \n",
    "\n",
    "* **Window** : 120 train bars (≈ 60 d) ➜ 24 calibration bars  \n",
    "  (reserved for CQR later, but still part of the train fit here) ➜\n",
    "  6 test bars (72 h).  \n",
    "* **Tokens** : loop over 21 tokens; concatenate fold metrics.  \n",
    "* **Metrics stored per fold**   \n",
    "  – pinball loss (τ) – absolute error (median only) – coverage of empirical  \n",
    "  90 % interval (τ = 0.05/0.95) – width of that interval.\n",
    "\n",
    "---"
   ]
  },
  {
   "cell_type": "code",
   "execution_count": null,
   "id": "1aa74c4a",
   "metadata": {},
   "outputs": [],
   "source": [
    "from sklearn.compose import ColumnTransformer\n",
    "from sklearn.preprocessing import RobustScaler, OneHotEncoder\n",
    "from sklearn.pipeline import Pipeline\n",
    "import statsmodels.api as sm\n",
    "import pandas as pd, numpy as np"
   ]
  }
 ],
 "metadata": {
  "kernelspec": {
   "display_name": "base",
   "language": "python",
   "name": "python3"
  },
  "language_info": {
   "name": "python",
   "version": "3.12.7"
  }
 },
 "nbformat": 4,
 "nbformat_minor": 5
}
