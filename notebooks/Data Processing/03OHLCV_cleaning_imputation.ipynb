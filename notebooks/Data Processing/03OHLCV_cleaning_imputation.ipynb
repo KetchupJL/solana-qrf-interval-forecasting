{
 "cells": [
  {
   "cell_type": "markdown",
   "id": "a1986c50-a85d-4034-a65a-bf033a661214",
   "metadata": {},
   "source": [
    "## Improving OHLCV Imputation (CHATGPT)\n",
    "\n",
    "### Why Imputation Quality Matters  \n",
    "- **Volatility & Momentum Features** (e.g. ATR, realized vol, RSI) rely on accurate OHLCV.  \n",
    "- **Biased imputation** can distort return distributions and tail-risk estimates.  \n",
    "- Academic rigor demands a **data-driven, state-of-the-art** approach rather than ad-hoc filling.\n",
    "\n",
    "---\n",
    "\n",
    "### Literature Survey  \n",
    "- **PCA-based Imputation** (svdPCA, bPCA, pPCA, nipalsPCA, llsPCA) shows strong performance in financial time series :contentReference[oaicite:0]{index=0}.  \n",
    "- **Kalman Smoothing / State-Space Models** naturally handle missing observations in non-stationary data by skipping the update step when values are missing :contentReference[oaicite:1]{index=1}.  \n",
    "- Comparative studies find **Kalman-based methods** often outperform mean, median, and linear interpolation for preserving dynamic properties :contentReference[oaicite:2]{index=2}.\n",
    "\n",
    "---\n",
    "\n",
    "### Recommended Method: Kalman Smoothing Imputation  \n",
    "1. **Fit** a **local-level state-space model** to each OHLCV series (per token).  \n",
    "2. **Smooth** and **predict** missing points via the Kalman filter.  \n",
    "3. **Fallback** to small-gap forward-fill (limit=2) only for ultra-short gaps if desired.\n"
   ]
  },
  {
   "cell_type": "code",
   "execution_count": 1,
   "id": "40e3f494-fd25-4aef-bf04-0d5d97e891fd",
   "metadata": {
    "collapsed": true,
    "jupyter": {
     "outputs_hidden": true
    },
    "scrolled": true
   },
   "outputs": [
    {
     "name": "stderr",
     "output_type": "stream",
     "text": [
      "c:\\Users\\james\\OneDrive\\Documents\\GitHub\\solana-qrf-interval-forecasting\\.venv\\Lib\\site-packages\\statsmodels\\base\\model.py:607: ConvergenceWarning: Maximum Likelihood optimization failed to converge. Check mle_retvals\n",
      "  warnings.warn(\"Maximum Likelihood optimization failed to \"\n",
      "c:\\Users\\james\\OneDrive\\Documents\\GitHub\\solana-qrf-interval-forecasting\\.venv\\Lib\\site-packages\\statsmodels\\base\\model.py:607: ConvergenceWarning: Maximum Likelihood optimization failed to converge. Check mle_retvals\n",
      "  warnings.warn(\"Maximum Likelihood optimization failed to \"\n",
      "c:\\Users\\james\\OneDrive\\Documents\\GitHub\\solana-qrf-interval-forecasting\\.venv\\Lib\\site-packages\\statsmodels\\base\\model.py:607: ConvergenceWarning: Maximum Likelihood optimization failed to converge. Check mle_retvals\n",
      "  warnings.warn(\"Maximum Likelihood optimization failed to \"\n",
      "c:\\Users\\james\\OneDrive\\Documents\\GitHub\\solana-qrf-interval-forecasting\\.venv\\Lib\\site-packages\\statsmodels\\base\\model.py:607: ConvergenceWarning: Maximum Likelihood optimization failed to converge. Check mle_retvals\n",
      "  warnings.warn(\"Maximum Likelihood optimization failed to \"\n",
      "c:\\Users\\james\\OneDrive\\Documents\\GitHub\\solana-qrf-interval-forecasting\\.venv\\Lib\\site-packages\\statsmodels\\base\\model.py:607: ConvergenceWarning: Maximum Likelihood optimization failed to converge. Check mle_retvals\n",
      "  warnings.warn(\"Maximum Likelihood optimization failed to \"\n",
      "c:\\Users\\james\\OneDrive\\Documents\\GitHub\\solana-qrf-interval-forecasting\\.venv\\Lib\\site-packages\\statsmodels\\base\\model.py:607: ConvergenceWarning: Maximum Likelihood optimization failed to converge. Check mle_retvals\n",
      "  warnings.warn(\"Maximum Likelihood optimization failed to \"\n",
      "c:\\Users\\james\\OneDrive\\Documents\\GitHub\\solana-qrf-interval-forecasting\\.venv\\Lib\\site-packages\\statsmodels\\base\\model.py:607: ConvergenceWarning: Maximum Likelihood optimization failed to converge. Check mle_retvals\n",
      "  warnings.warn(\"Maximum Likelihood optimization failed to \"\n",
      "c:\\Users\\james\\OneDrive\\Documents\\GitHub\\solana-qrf-interval-forecasting\\.venv\\Lib\\site-packages\\statsmodels\\base\\model.py:607: ConvergenceWarning: Maximum Likelihood optimization failed to converge. Check mle_retvals\n",
      "  warnings.warn(\"Maximum Likelihood optimization failed to \"\n",
      "c:\\Users\\james\\OneDrive\\Documents\\GitHub\\solana-qrf-interval-forecasting\\.venv\\Lib\\site-packages\\statsmodels\\base\\model.py:607: ConvergenceWarning: Maximum Likelihood optimization failed to converge. Check mle_retvals\n",
      "  warnings.warn(\"Maximum Likelihood optimization failed to \"\n"
     ]
    },
    {
     "name": "stdout",
     "output_type": "stream",
     "text": [
      "Cleaned & imputed dataset saved without date‐index warnings.\n"
     ]
    },
    {
     "name": "stderr",
     "output_type": "stream",
     "text": [
      "c:\\Users\\james\\OneDrive\\Documents\\GitHub\\solana-qrf-interval-forecasting\\.venv\\Lib\\site-packages\\statsmodels\\base\\model.py:607: ConvergenceWarning: Maximum Likelihood optimization failed to converge. Check mle_retvals\n",
      "  warnings.warn(\"Maximum Likelihood optimization failed to \"\n"
     ]
    }
   ],
   "source": [
    "import pandas as pd\n",
    "import numpy as np\n",
    "import statsmodels.api as sm\n",
    "\n",
    "def kalman_impute_series(series):\n",
    "    \"\"\"\n",
    "    Impute missing values in a pandas Series using a local‐level state‐space\n",
    "    model with Kalman smoothing, without date‐index warnings.\n",
    "    \"\"\"\n",
    "    # Preserve original index\n",
    "    orig_index = series.index\n",
    "\n",
    "    # Work on a RangeIndex\n",
    "    data = series.reset_index(drop=True)\n",
    "\n",
    "    # Fit local‐level model on integer index\n",
    "    model = sm.tsa.UnobservedComponents(data, level='local level', freq=None)\n",
    "    res = model.fit(disp=False)\n",
    "\n",
    "    # Smooth / predict for entire range\n",
    "    smoothed = res.predict(start=0, end=len(data)-1)\n",
    "\n",
    "    # Map back: fill only missing in original\n",
    "    imputed = data.fillna(smoothed)\n",
    "    imputed.index = orig_index\n",
    "    return imputed\n",
    "\n",
    "def clean_ohlcv_panel(df, ohlcv_cols=None, drop_tokens=None):\n",
    "    \"\"\"\n",
    "    Trim OHLCV panel for modeling:\n",
    "    - Drop specified tokens\n",
    "    - Clip to first fully‐observed OHLCV row per token\n",
    "    - Drop any remaining rows with missing OHLCV\n",
    "    \"\"\"\n",
    "    if ohlcv_cols is None:\n",
    "        ohlcv_cols = ['open_usd','high_usd','low_usd','close_usd','volume_usd']\n",
    "    df = df.copy()\n",
    "    if drop_tokens:\n",
    "        df = df[~df['token'].isin(drop_tokens)]\n",
    "    # Mark any missing\n",
    "    df['missing_any'] = df[ohlcv_cols].isnull().any(axis=1)\n",
    "    # First fully‐observed timestamp per token\n",
    "    token_start = (\n",
    "        df[~df['missing_any']]\n",
    "        .groupby('token')['timestamp']\n",
    "        .min()\n",
    "        .to_dict()\n",
    "    )\n",
    "    df['post_launch'] = df.apply(\n",
    "        lambda r: r['timestamp'] >= token_start.get(r['token'], r['timestamp']),\n",
    "        axis=1\n",
    "    )\n",
    "    df = df[df['post_launch']].sort_values(['token','timestamp'])\n",
    "    df = df[~df['missing_any']].drop(columns=['missing_any'])\n",
    "    return df\n",
    "\n",
    "def apply_imputation(df, ohlcv_cols=None, max_ffill=2):\n",
    "    \"\"\"\n",
    "    1) Forward‐fill up to max_ffill for short gaps\n",
    "    2) Kalman‐impute all remaining gaps without date warnings\n",
    "    \"\"\"\n",
    "    if ohlcv_cols is None:\n",
    "        ohlcv_cols = ['open_usd','high_usd','low_usd','close_usd','volume_usd']\n",
    "\n",
    "    # 1) Short‐gap forward‐fill\n",
    "    df_ff = df.copy().sort_values(['token','timestamp'])\n",
    "    df_ff[ohlcv_cols] = df_ff.groupby('token')[ohlcv_cols]\\\n",
    "                             .transform(lambda x: x.ffill(limit=max_ffill))\n",
    "\n",
    "    # 2) Kalman smoothing\n",
    "    out = []\n",
    "    for token, sub in df_ff.groupby('token'):\n",
    "        sub = sub.sort_values('timestamp').set_index('timestamp').copy()\n",
    "        for col in ohlcv_cols:\n",
    "            sub[col] = kalman_impute_series(sub[col])\n",
    "        out.append(sub.reset_index())\n",
    "    return pd.concat(out, ignore_index=True)\n",
    "\n",
    "if __name__ == \"__main__\":\n",
    "    # Load raw data (requires pyarrow or fastparquet)\n",
    "    df_raw = pd.read_parquet(\"C:/Users/james/OneDrive/Documents/GitHub/solana-qrf-interval-forecasting/data/solana_master_raw.parquet\")\n",
    "\n",
    "    # Clean panel\n",
    "    df_clean = clean_ohlcv_panel(df_raw, drop_tokens=[\"$COLLAT\", \"titcoin\"])\n",
    "\n",
    "    # Impute OHLCV\n",
    "    df_imputed = apply_imputation(df_clean)\n",
    "\n",
    "    # Verify\n",
    "    assert df_imputed[['open_usd','high_usd','low_usd','close_usd','volume_usd']].isnull().sum().sum() == 0\n",
    "\n",
    "    # Save\n",
    "    df_imputed.to_parquet(\"solana_cleaned_imputed.parquet\", index=False)\n",
    "    print(\"Cleaned & imputed dataset saved without date‐index warnings.\")\n"
   ]
  },
  {
   "cell_type": "code",
   "execution_count": 2,
   "id": "c817a7f9-7037-4fe0-8d2c-b2ebfae4b2df",
   "metadata": {},
   "outputs": [
    {
     "data": {
      "application/vnd.microsoft.datawrangler.viewer.v0+json": {
       "columns": [
        {
         "name": "index",
         "rawType": "object",
         "type": "string"
        },
        {
         "name": "missing_before",
         "rawType": "float64",
         "type": "float"
        },
        {
         "name": "missing_after",
         "rawType": "float64",
         "type": "float"
        },
        {
         "name": "improvement",
         "rawType": "float64",
         "type": "float"
        }
       ],
       "ref": "2f7c9ee8-e1a5-4e6b-9f2e-739cd4a572dd",
       "rows": [
        [
         "open_usd",
         "0.0",
         "0.0",
         "0.0"
        ],
        [
         "high_usd",
         "0.0",
         "0.0",
         "0.0"
        ],
        [
         "low_usd",
         "0.0",
         "0.0",
         "0.0"
        ],
        [
         "close_usd",
         "0.0",
         "0.0",
         "0.0"
        ],
        [
         "volume_usd",
         "0.0",
         "0.0",
         "0.0"
        ]
       ],
       "shape": {
        "columns": 3,
        "rows": 5
       }
      },
      "text/html": [
       "<div>\n",
       "<style scoped>\n",
       "    .dataframe tbody tr th:only-of-type {\n",
       "        vertical-align: middle;\n",
       "    }\n",
       "\n",
       "    .dataframe tbody tr th {\n",
       "        vertical-align: top;\n",
       "    }\n",
       "\n",
       "    .dataframe thead th {\n",
       "        text-align: right;\n",
       "    }\n",
       "</style>\n",
       "<table border=\"1\" class=\"dataframe\">\n",
       "  <thead>\n",
       "    <tr style=\"text-align: right;\">\n",
       "      <th></th>\n",
       "      <th>missing_before</th>\n",
       "      <th>missing_after</th>\n",
       "      <th>improvement</th>\n",
       "    </tr>\n",
       "  </thead>\n",
       "  <tbody>\n",
       "    <tr>\n",
       "      <th>open_usd</th>\n",
       "      <td>0.0</td>\n",
       "      <td>0.0</td>\n",
       "      <td>0.0</td>\n",
       "    </tr>\n",
       "    <tr>\n",
       "      <th>high_usd</th>\n",
       "      <td>0.0</td>\n",
       "      <td>0.0</td>\n",
       "      <td>0.0</td>\n",
       "    </tr>\n",
       "    <tr>\n",
       "      <th>low_usd</th>\n",
       "      <td>0.0</td>\n",
       "      <td>0.0</td>\n",
       "      <td>0.0</td>\n",
       "    </tr>\n",
       "    <tr>\n",
       "      <th>close_usd</th>\n",
       "      <td>0.0</td>\n",
       "      <td>0.0</td>\n",
       "      <td>0.0</td>\n",
       "    </tr>\n",
       "    <tr>\n",
       "      <th>volume_usd</th>\n",
       "      <td>0.0</td>\n",
       "      <td>0.0</td>\n",
       "      <td>0.0</td>\n",
       "    </tr>\n",
       "  </tbody>\n",
       "</table>\n",
       "</div>"
      ],
      "text/plain": [
       "            missing_before  missing_after  improvement\n",
       "open_usd               0.0            0.0          0.0\n",
       "high_usd               0.0            0.0          0.0\n",
       "low_usd                0.0            0.0          0.0\n",
       "close_usd              0.0            0.0          0.0\n",
       "volume_usd             0.0            0.0          0.0"
      ]
     },
     "execution_count": 2,
     "metadata": {},
     "output_type": "execute_result"
    }
   ],
   "source": [
    "## Validation of Enhanced OHLCV Imputation\n",
    "\n",
    "### 1. Missingness Check\n",
    "import pandas as pd\n",
    "\n",
    "# Load datasets\n",
    "df_clean = pd.read_parquet(\"solana_cleaned_ohlcv.parquet\")\n",
    "df_imp   = pd.read_parquet(\"solana_cleaned_imputed.parquet\")\n",
    "\n",
    "# Columns to check\n",
    "cols = ['open_usd','high_usd','low_usd','close_usd','volume_usd']\n",
    "\n",
    "# Compute missing percentage\n",
    "pre = df_clean[cols].isnull().mean().rename(\"missing_before\")\n",
    "post = df_imp[cols].isnull().mean().rename(\"missing_after\")\n",
    "\n",
    "pd.concat([pre, post], axis=1).assign(improvement=lambda x: x['missing_before']-x['missing_after'])\n"
   ]
  },
  {
   "cell_type": "code",
   "execution_count": 3,
   "id": "01dace6a-2a0a-47d8-8bb7-ed2757c7a0bd",
   "metadata": {},
   "outputs": [
    {
     "name": "stdout",
     "output_type": "stream",
     "text": [
      "Rows before imputation: 6464\n",
      "Rows after imputation:  6440\n"
     ]
    }
   ],
   "source": [
    "print(\"Rows before imputation:\", len(df_clean))\n",
    "print(\"Rows after imputation: \", len(df_imp))\n"
   ]
  },
  {
   "cell_type": "code",
   "execution_count": 4,
   "id": "aa5ea43d-1c2c-4544-ae2c-0125899b24ef",
   "metadata": {},
   "outputs": [
    {
     "data": {
      "image/png": "[encoded data removed]",
      "text/plain": [
       "<Figure size 1200x400 with 1 Axes>"
      ]
     },
     "metadata": {},
     "output_type": "display_data"
    }
   ],
   "source": [
    "import matplotlib.pyplot as plt\n",
    "\n",
    "# Pick a token and column with previous gaps\n",
    "token = df_imp['token'].unique()[0]\n",
    "col   = 'close_usd'\n",
    "\n",
    "sub_clean = df_clean[df_clean['token']==token].set_index('timestamp')[col]\n",
    "sub_imp   = df_imp[df_imp['token']==token].set_index('timestamp')[col]\n",
    "\n",
    "# Plot before & after\n",
    "plt.figure(figsize=(12,4))\n",
    "sub_clean.plot(style='.', label='clean (with NaNs)')\n",
    "sub_imp.plot(alpha=0.7, label='imputed')\n",
    "plt.title(f\"OHLCV Imputation Check – {token} / {col}\")\n",
    "plt.legend()\n",
    "plt.show()"
   ]
  },
  {
   "cell_type": "code",
   "execution_count": 5,
   "id": "085fe004-c02a-4cc1-a7f1-ee6e46a74df6",
   "metadata": {},
   "outputs": [
    {
     "name": "stdout",
     "output_type": "stream",
     "text": [
      "RMSE of imputation for token=$WIF, column=close_usd: 0.091850\n"
     ]
    }
   ],
   "source": [
    "import numpy as np\n",
    "import pandas as pd\n",
    "from sklearn.metrics import mean_squared_error\n",
    "\n",
    "# Re-define kalman_impute_series inline\n",
    "import statsmodels.api as sm\n",
    "import warnings\n",
    "\n",
    "def kalman_impute_series(series):\n",
    "    s = series.copy()\n",
    "    orig_idx = s.index\n",
    "    data = s.reset_index(drop=True)\n",
    "    try:\n",
    "        with warnings.catch_warnings():\n",
    "            warnings.simplefilter(\"ignore\")\n",
    "            model = sm.tsa.UnobservedComponents(data, level='local level', freq=None)\n",
    "            res = model.fit(disp=False)\n",
    "            smoothed = res.predict(start=0, end=len(data)-1)\n",
    "        imputed = data.fillna(smoothed)\n",
    "    except:\n",
    "        imputed = data.interpolate(method='linear')\n",
    "    imputed.index = orig_idx\n",
    "    return imputed\n",
    "\n",
    "# --- Simulation for one token/column ---\n",
    "token = df_imp['token'].unique()[0]  # choose a token\n",
    "col   = 'close_usd'                   # choose an OHLCV column\n",
    "\n",
    "sub = df_imp[df_imp['token']==token].sort_values('timestamp').reset_index(drop=True)\n",
    "mask = sub[col].notna()\n",
    "\n",
    "# Randomly mask 5% of known points\n",
    "np.random.seed(42)\n",
    "idx = np.random.choice(sub.index[mask], size=int(0.05*mask.sum()), replace=False)\n",
    "true_vals = sub.loc[idx, col].copy()\n",
    "\n",
    "# Create a simulated missing series\n",
    "sub_sim = sub.copy()\n",
    "sub_sim.loc[idx, col] = np.nan\n",
    "\n",
    "# Re-impute that column\n",
    "pred = kalman_impute_series(sub_sim[col]).loc[idx]\n",
    "\n",
    "# Compute RMSE\n",
    "rmse = np.sqrt(mean_squared_error(true_vals, pred))\n",
    "print(f\"RMSE of imputation for token={token}, column={col}: {rmse:.6f}\")"
   ]
  },
  {
   "cell_type": "code",
   "execution_count": 6,
   "id": "53704b0a-e0ff-4efe-baa4-abc4bbb6678c",
   "metadata": {},
   "outputs": [
    {
     "name": "stdout",
     "output_type": "stream",
     "text": [
      "RMSE Comparison: {'ffill_lim2': 0.09185047729079453, 'linear_interp': 0.06041683019589853, 'knn': 0.9396967084676545, 'kalman': 0.09185047715372423}\n"
     ]
    }
   ],
   "source": [
    "import numpy as np\n",
    "import pandas as pd\n",
    "from sklearn.impute import KNNImputer\n",
    "from sklearn.metrics import mean_squared_error\n",
    "import statsmodels.api as sm\n",
    "import warnings\n",
    "\n",
    "# Pick token & column\n",
    "token = df_imp['token'].unique()[0]\n",
    "col   = 'close_usd'\n",
    "sub   = df_imp[df_imp['token']==token].sort_values('timestamp').reset_index(drop=True)\n",
    "\n",
    "# Simulate 5% missing\n",
    "mask = sub[col].notna()\n",
    "np.random.seed(42)\n",
    "idx = np.random.choice(sub.index[mask], size=int(0.05*mask.sum()), replace=False)\n",
    "true_vals = sub.loc[idx, col]\n",
    "test = sub.copy()\n",
    "test.loc[idx, col] = np.nan\n",
    "\n",
    "# 1) Forward-fill (limit=2)\n",
    "ffill = test[col].ffill(limit=2)\n",
    "\n",
    "# 2) Linear interpolation\n",
    "interp = test[col].interpolate()\n",
    "\n",
    "# 3) KNN\n",
    "knn = KNNImputer(n_neighbors=5).fit_transform(test[[col]])\n",
    "knn = pd.Series(knn.ravel(), index=test.index)\n",
    "\n",
    "# 4) Kalman (reuse your function)\n",
    "def kalman_impute_series(s):\n",
    "    orig = s.copy(); data = orig.reset_index(drop=True)\n",
    "    try:\n",
    "        with warnings.catch_warnings():\n",
    "            warnings.simplefilter(\"ignore\")\n",
    "            m = sm.tsa.UnobservedComponents(data, level='local level', freq=None).fit(disp=False)\n",
    "            smooth = m.predict(start=0, end=len(data)-1)\n",
    "        filled = data.fillna(smooth)\n",
    "    except:\n",
    "        filled = data.interpolate()\n",
    "    filled.index = orig.index\n",
    "    return filled\n",
    "\n",
    "kalman = kalman_impute_series(test[col])\n",
    "\n",
    "# Compute RMSEs\n",
    "methods = {\n",
    "    'ffill_lim2': ffill.loc[idx],\n",
    "    'linear_interp': interp.loc[idx],\n",
    "    'knn': knn.loc[idx],\n",
    "    'kalman': kalman.loc[idx],\n",
    "}\n",
    "rmse = {m: np.sqrt(mean_squared_error(true_vals, pred)) for m,pred in methods.items()}\n",
    "\n",
    "print(\"RMSE Comparison:\", rmse)\n"
   ]
  },
  {
   "cell_type": "markdown",
   "id": "49330a29-a8ca-47f9-bde0-6009969a2370",
   "metadata": {},
   "source": [
    "## Imputation Benchmark & Final Choice\n",
    "\n",
    "**RMSE Results** (5% simulated gaps, token `$WIF`, `close_usd`):\n",
    "- **Forward‐fill (limit=2):** 0.09185  \n",
    "- **Linear interpolation:** 0.06042  \n",
    "- **KNN imputation:** 0.93970  \n",
    "- **Kalman smoothing:** 0.09185  \n",
    "\n",
    "**Conclusion:**  \n",
    "Linear interpolation achieves the lowest RMSE by a wide margin. We will adopt:\n",
    "\n",
    "1. **Forward‐fill** for up to 2 missing bars (to preserve very short bursts).  \n",
    "2. **Linear interpolation** for all remaining gaps (no need for complex Kalman).  \n",
    "\n",
    "---"
   ]
  },
  {
   "cell_type": "code",
   "execution_count": 7,
   "id": "0d69e21f-3427-4f21-8198-0845cf3103ce",
   "metadata": {},
   "outputs": [
    {
     "name": "stdout",
     "output_type": "stream",
     "text": [
      "Saved: solana_cleaned_imputed_final.parquet\n"
     ]
    }
   ],
   "source": [
    "import pandas as pd\n",
    "\n",
    "def clean_ohlcv_panel(df, ohlcv_cols=None, drop_tokens=None):\n",
    "    \"\"\"\n",
    "    1) Drop specified tokens.\n",
    "    2) Clip each token’s history to its first fully‐observed OHLCV bar.\n",
    "    3) Drop any rows still missing OHLCV.\n",
    "    \"\"\"\n",
    "    if ohlcv_cols is None:\n",
    "        ohlcv_cols = ['open_usd','high_usd','low_usd','close_usd','volume_usd']\n",
    "    df = df.copy()\n",
    "    if drop_tokens:\n",
    "        df = df[~df['token'].isin(drop_tokens)]\n",
    "    df['missing_any'] = df[ohlcv_cols].isnull().any(axis=1)\n",
    "    token_start = df[~df['missing_any']].groupby('token')['timestamp'].min().to_dict()\n",
    "    df['post_launch'] = df.apply(\n",
    "        lambda r: r['timestamp'] >= token_start.get(r['token'], r['timestamp']),\n",
    "        axis=1\n",
    "    )\n",
    "    df = df[df['post_launch']].sort_values(['token','timestamp'])\n",
    "    df = df[~df['missing_any']].drop(columns=['missing_any'])\n",
    "    return df\n",
    "\n",
    "def impute_ohlcv(df, ohlcv_cols=None, max_ffill=2):\n",
    "    \"\"\"\n",
    "    1) Forward‐fill up to max_ffill consecutive NaNs per token.\n",
    "    2) Linear interpolate remaining gaps per token (transform for alignment).\n",
    "    \"\"\"\n",
    "    if ohlcv_cols is None:\n",
    "        ohlcv_cols = ['open_usd','high_usd','low_usd','close_usd','volume_usd']\n",
    "\n",
    "    df = df.copy().sort_values(['token','timestamp'])\n",
    "\n",
    "    # Short-gap forward-fill\n",
    "    df[ohlcv_cols] = df.groupby('token')[ohlcv_cols]\\\n",
    "                      .transform(lambda x: x.ffill(limit=max_ffill))\n",
    "\n",
    "    # Linear interpolation\n",
    "    df[ohlcv_cols] = df.groupby('token')[ohlcv_cols]\\\n",
    "                      .transform(lambda g: g.interpolate(method='linear'))\n",
    "\n",
    "    return df\n",
    "\n",
    "if __name__ == \"__main__\":\n",
    "    # 1. Load raw dataset\n",
    "    df_raw = pd.read_parquet(\"C:/Users/james/OneDrive/Documents/GitHub/solana-qrf-interval-forecasting/data/solana_master_raw.parquet\")\n",
    "\n",
    "    # 2. Clean panel (clip histories, drop tokens)\n",
    "    df_clean = clean_ohlcv_panel(df_raw, drop_tokens=[\"$COLLAT\",\"titcoin\"])\n",
    "\n",
    "    # 3. Impute missing OHLCV\n",
    "    df_imputed = impute_ohlcv(df_clean)\n",
    "\n",
    "    # 4. Verify no missing OHLCV remains\n",
    "    cols = ['open_usd','high_usd','low_usd','close_usd','volume_usd']\n",
    "    missing_total = df_imputed[cols].isnull().sum().sum()\n",
    "    assert missing_total == 0, f\"Still {missing_total} missing values!\"\n",
    "\n",
    "    # 5. Save final imputed dataset\n",
    "    df_imputed.to_parquet(\"solana_cleaned_imputed_final.parquet\", index=False)\n",
    "    print(\"Saved: solana_cleaned_imputed_final.parquet\")\n"
   ]
  },
  {
   "cell_type": "code",
   "execution_count": 8,
   "id": "cfce0de0",
   "metadata": {},
   "outputs": [],
   "source": [
    "import matplotlib.pyplot as plt\n",
    "import matplotlib.dates as mdates\n",
    "from figstyle import use_paper_style, tidy_axes, savefig_pdf, PALETTE\n",
    "\n",
    "use_paper_style()\n",
    "\n",
    "# Expects:\n",
    "# - sub_clean: pandas Series with DatetimeIndex (raw series, NaNs allowed)\n",
    "# - sub_imp:   pandas Series with DatetimeIndex (imputed series)\n",
    "# - token, col: context strings\n",
    "\n",
    "fig, ax = plt.subplots()\n",
    "\n",
    "# Raw with NaNs as dots (no connecting lines)\n",
    "ax.plot(sub_clean.index, sub_clean.values,\n",
    "        linestyle=\"none\", marker=\".\", markersize=3.0,\n",
    "        color=PALETTE[\"sky\"], alpha=0.7, label=\"clean (with NaNs)\")\n",
    "\n",
    "# Imputed as continuous line\n",
    "ax.plot(sub_imp.index, sub_imp.values,\n",
    "        color=PALETTE[\"blue\"], linewidth=2.0, alpha=0.95, label=\"imputed\")\n",
    "\n",
    "# Neat datetime axis\n",
    "loc = mdates.AutoDateLocator()\n",
    "ax.xaxis.set_major_locator(loc)\n",
    "ax.xaxis.set_major_formatter(mdates.ConciseDateFormatter(loc))\n",
    "\n",
    "tidy_axes(ax, xlabel=\"Timestamp\", ylabel=str(col))  # title handled in caption\n",
    "ax.legend(frameon=False)\n",
    "ax.grid(True, alpha=0.6)\n",
    "\n",
    "savefig_pdf(fig, \"fig-eda-imputation-check\")\n",
    "plt.close(fig)\n"
   ]
  }
 ],
 "metadata": {
  "kernelspec": {
   "display_name": ".venv",
   "language": "python",
   "name": "python3"
  },
  "language_info": {
   "codemirror_mode": {
    "name": "ipython",
    "version": 3
   },
   "file_extension": ".py",
   "mimetype": "text/x-python",
   "name": "python",
   "nbconvert_exporter": "python",
   "pygments_lexer": "ipython3",
   "version": "3.11.9"
  }
 },
 "nbformat": 4,
 "nbformat_minor": 5
}
