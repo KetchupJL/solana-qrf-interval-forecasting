{
 "cells": [
  {
   "cell_type": "markdown",
   "id": "8fc4e14e",
   "metadata": {},
   "source": [
    "# Conformalized Quantile Regression with Rolling Windows\n",
    "This notebook implements conformal prediction around the existing RandomForestQuantileRegressor (QRF) model. We evaluate rolling-window calibration and sharpness of 72h return forecasts, conditioning on market regime."
   ]
  },
  {
   "cell_type": "code",
   "execution_count": null,
   "id": "071f4951",
   "metadata": {},
   "outputs": [],
   "source": [
    "import pandas as pd\n",
    "import numpy as np\n",
    "from quantile_forest import RandomForestQuantileRegressor\n",
    "import matplotlib.pyplot as plt\n",
    "from statsmodels.tsa.stattools import acf\n"
   ]
  },
  {
   "cell_type": "markdown",
   "id": "ad11fc73",
   "metadata": {},
   "source": [
    "## Load model dataset\n",
    "The dataframe `df_model` contains 12‑hour features, a `regime` flag and our target `return_72h`."
   ]
  },
  {
   "cell_type": "code",
   "execution_count": null,
   "id": "72b27d26",
   "metadata": {},
   "outputs": [],
   "source": [
    "df_model = pd.read_parquet('data/06data.parquet')\n",
    "feature_cols = [\n",
    "    'token_volume_usd', 'holder_count', 'sol_volume_usd', 'realized_vol_12h',\n",
    "    'network_tx_count', 'tvl_usd', 'tvl_change_12h', 'sol_return',\n",
    "    'extreme_move', 'extreme_freq', 'rolling_skew_50', 'tail_asymmetry'\n",
    "]\n",
    "model_df = df_model.dropna(subset=feature_cols + ['return_72h', 'regime'])\n",
    "model_df = model_df.sort_values('timestamp').reset_index(drop=True)\n",
    "X = model_df[feature_cols]\n",
    "y = model_df['return_72h']\n",
    "regime = model_df['regime']\n"
   ]
  },
  {
   "cell_type": "markdown",
   "id": "be89fd9b",
   "metadata": {},
   "source": [
    "## Rolling conformal interval estimation\n",
    "For each window we fit QRF on the training slice, compute conformity scores on the calibration slice and adjust the test quantiles."
   ]
  },
  {
   "cell_type": "code",
   "execution_count": null,
   "id": "ba4a3dfe",
   "metadata": {},
   "outputs": [],
   "source": [
    "train_size = 120\n",
    "cal_size = 30\n",
    "test_size = 30\n",
    "alphas = np.linspace(0.5, 0.95, 10)\n",
    "\n",
    "records = []\n",
    "preds = []\n",
    "\n",
    "for start in range(0, len(model_df) - (train_size+cal_size+test_size) + 1, test_size):\n",
    "    idx_train = slice(start, start+train_size)\n",
    "    idx_cal = slice(start+train_size, start+train_size+cal_size)\n",
    "    idx_test = slice(start+train_size+cal_size, start+train_size+cal_size+test_size)\n",
    "\n",
    "    X_train, y_train = X.iloc[idx_train], y.iloc[idx_train]\n",
    "    X_cal, y_cal = X.iloc[idx_cal], y.iloc[idx_cal]\n",
    "    X_test, y_test = X.iloc[idx_test], y.iloc[idx_test]\n",
    "    regime_test = regime.iloc[idx_test]\n",
    "\n",
    "    qrf = RandomForestQuantileRegressor(n_estimators=100, random_state=0)\n",
    "    qrf.fit(X_train, y_train)\n",
    "\n",
    "    median_pred = qrf.predict(X_test, quantiles=[0.5])\n",
    "    resid = y_test.reset_index(drop=True) - median_pred\n",
    "\n",
    "    for alpha in alphas:\n",
    "        lower_q = (1 - alpha) / 2\n",
    "        upper_q = 1 - lower_q\n",
    "\n",
    "        lower_cal = qrf.predict(X_cal, quantiles=[lower_q])\n",
    "        upper_cal = qrf.predict(X_cal, quantiles=[upper_q])\n",
    "        scores = np.maximum(lower_cal - y_cal.values, y_cal.values - upper_cal)\n",
    "        q = np.ceil((1 - alpha) * (len(scores) + 1)) / len(scores)\n",
    "        delta = np.quantile(scores, q, method='higher')\n",
    "\n",
    "        naive_lower = qrf.predict(X_test, quantiles=[lower_q])\n",
    "        naive_upper = qrf.predict(X_test, quantiles=[upper_q])\n",
    "        conf_lower = naive_lower - delta\n",
    "        conf_upper = naive_upper + delta\n",
    "\n",
    "        coverage_naive = ((y_test >= naive_lower) & (y_test <= naive_upper)).mean()\n",
    "        coverage_conf = ((y_test >= conf_lower) & (y_test <= conf_upper)).mean()\n",
    "        width_naive = (naive_upper - naive_lower).mean()\n",
    "        width_conf = (conf_upper - conf_lower).mean()\n",
    "\n",
    "        records.append({\n",
    "            'start': start,\n",
    "            'alpha': alpha,\n",
    "            'delta': delta,\n",
    "            'coverage': coverage_conf,\n",
    "            'naive_coverage': coverage_naive,\n",
    "            'width': width_conf,\n",
    "            'naive_width': width_naive,\n",
    "        })\n",
    "\n",
    "        preds.append(pd.DataFrame({\n",
    "            'timestamp': model_df.loc[idx_test, 'timestamp'].values,\n",
    "            'y': y_test.values,\n",
    "            'lower': conf_lower,\n",
    "            'upper': conf_upper,\n",
    "            'naive_lower': naive_lower,\n",
    "            'naive_upper': naive_upper,\n",
    "            'residual': resid,\n",
    "            'regime': regime_test.values,\n",
    "            'alpha': alpha\n",
    "        }))\n",
    "\n",
    "result_df = pd.DataFrame(records)\n",
    "preds_df = pd.concat(preds).reset_index(drop=True)\n"
   ]
  },
  {
   "cell_type": "markdown",
   "id": "4bf8c92b",
   "metadata": {},
   "source": [
    "## Aggregate calibration metrics"
   ]
  },
  {
   "cell_type": "code",
   "execution_count": null,
   "id": "4cb0a2c6",
   "metadata": {},
   "outputs": [],
   "source": [
    "calibrated = preds_df.groupby('alpha')['lower'].count().to_frame('n')\n",
    "calibrated['empirical'] = preds_df.groupby('alpha').apply(lambda d: ((d['y']>=d['lower'])&(d['y']<=d['upper'])).mean())\n",
    "calibrated['naive'] = preds_df.groupby('alpha').apply(lambda d: ((d['y']>=d['naive_lower'])&(d['y']<=d['naive_upper'])).mean())\n",
    "calibrated = calibrated.reset_index()\n",
    "\n",
    "regime_stats = preds_df.groupby(['regime','alpha']).apply(lambda d: pd.Series({\n",
    "    'coverage': ((d['y']>=d['lower'])&(d['y']<=d['upper'])).mean(),\n",
    "    'width': (d['upper']-d['lower']).mean()\n",
    "}))\n",
    "regime_stats = regime_stats.reset_index()\n",
    "\n",
    "delta_ts = result_df[result_df['alpha']==0.8][['start','delta']]\n",
    "residuals_all = preds_df.query('alpha==0.8')['residual']\n",
    "acf_vals = acf(residuals_all, nlags=20)\n"
   ]
  },
  {
   "cell_type": "markdown",
   "id": "cf773f6c",
   "metadata": {},
   "source": [
    "## Plots"
   ]
  },
  {
   "cell_type": "code",
   "execution_count": null,
   "id": "5231490f",
   "metadata": {},
   "outputs": [],
   "source": [
    "# Calibration curves\n",
    "plt.figure(figsize=(6,5))\n",
    "plt.plot(calibrated['alpha'], calibrated['empirical'], marker='o', label='Conformal')\n",
    "plt.plot(calibrated['alpha'], calibrated['naive'], marker='o', label='Naive')\n",
    "plt.plot([0.5,0.95],[0.5,0.95],'--',color='gray')\n",
    "plt.xlabel('Nominal coverage')\n",
    "plt.ylabel('Empirical coverage')\n",
    "plt.legend()\n",
    "plt.grid(True)\n",
    "plt.show()\n",
    "\n",
    "# Delta over time\n",
    "plt.figure(figsize=(6,3))\n",
    "plt.plot(delta_ts['start'], delta_ts['delta'])\n",
    "plt.title('Rolling conformal delta (alpha=0.8)')\n",
    "plt.xlabel('Window start index')\n",
    "plt.ylabel('Delta')\n",
    "plt.grid(True)\n",
    "plt.show()\n",
    "\n",
    "# Residual ACF\n",
    "plt.figure(figsize=(6,3))\n",
    "plt.stem(acf_vals, use_line_collection=True)\n",
    "plt.title('Residual ACF (alpha=0.8)')\n",
    "plt.xlabel('Lag')\n",
    "plt.ylabel('ACF')\n",
    "plt.show()\n"
   ]
  },
  {
   "cell_type": "markdown",
   "id": "051fa3bd",
   "metadata": {},
   "source": [
    "### Coverage vs feature quintiles"
   ]
  },
  {
   "cell_type": "code",
   "execution_count": null,
   "id": "85be1010",
   "metadata": {},
   "outputs": [],
   "source": [
    "feature_bins = {}\n",
    "for feat in ['realized_vol_12h','network_tx_count','sol_volume_usd']:\n",
    "    bins = pd.qcut(model_df[feat], 5, duplicates='drop')\n",
    "    preds_df[f'{feat}_bin'] = bins.loc[preds_df.index]\n",
    "    cover = preds_df.groupby(f'{feat}_bin').apply(lambda d: ((d['y']>=d['lower'])&(d['y']<=d['upper'])).mean())\n",
    "    feature_bins[feat] = cover\n",
    "\n",
    "for feat, cover in feature_bins.items():\n",
    "    plt.figure(figsize=(6,4))\n",
    "    cover.plot(kind='bar')\n",
    "    plt.title(f'Coverage by {feat} quintile (alpha=0.8)')\n",
    "    plt.ylabel('Coverage')\n",
    "    plt.ylim(0,1)\n",
    "    plt.grid(True)\n",
    "    plt.show()\n"
   ]
  },
  {
   "cell_type": "markdown",
   "id": "e4afd462",
   "metadata": {},
   "source": [
    "## Summary tables"
   ]
  },
  {
   "cell_type": "code",
   "execution_count": null,
   "id": "aa9ea2c2",
   "metadata": {},
   "outputs": [],
   "source": [
    "summary_delta = result_df.groupby('alpha')['delta'].mean()\n",
    "sharpness = result_df.groupby(['alpha'])[['width','naive_width']].mean()\n",
    "print('Delta by alpha:')\n",
    "print(summary_delta)\n",
    "print('\n",
    "Sharpness comparison:')\n",
    "print(sharpness)\n",
    "print('\n",
    "Coverage by regime (alpha=0.8):')\n",
    "print(regime_stats[regime_stats.alpha==0.8])\n"
   ]
  }
 ],
 "metadata": {},
 "nbformat": 4,
 "nbformat_minor": 5
}
